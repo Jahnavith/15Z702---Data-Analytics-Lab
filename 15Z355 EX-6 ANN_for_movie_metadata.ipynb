{
 "cells": [
  {
   "cell_type": "code",
   "execution_count": 39,
   "metadata": {},
   "outputs": [
    {
     "name": "stdout",
     "output_type": "stream",
     "text": [
      "['color', 'director_name', 'num_critic_for_reviews', 'duration', 'director_facebook_likes', 'actor_3_facebook_likes', 'actor_2_name', 'actor_1_facebook_likes', 'gross', 'genres', 'actor_1_name', 'movie_title', 'num_voted_users', 'cast_total_facebook_likes', 'actor_3_name', 'facenumber_in_poster', 'plot_keywords', 'movie_imdb_link', 'num_user_for_reviews', 'language', 'country', 'content_rating', 'budget', 'title_year', 'actor_2_facebook_likes', 'imdb_score', 'aspect_ratio', 'movie_facebook_likes']\n",
      "\n",
      "\n",
      "Required attributes for training\n",
      "\n",
      "\n",
      "(5043, 7)\n"
     ]
    },
    {
     "data": {
      "text/html": [
       "<div>\n",
       "<style scoped>\n",
       "    .dataframe tbody tr th:only-of-type {\n",
       "        vertical-align: middle;\n",
       "    }\n",
       "\n",
       "    .dataframe tbody tr th {\n",
       "        vertical-align: top;\n",
       "    }\n",
       "\n",
       "    .dataframe thead th {\n",
       "        text-align: right;\n",
       "    }\n",
       "</style>\n",
       "<table border=\"1\" class=\"dataframe\">\n",
       "  <thead>\n",
       "    <tr style=\"text-align: right;\">\n",
       "      <th></th>\n",
       "      <th>num_critic_for_reviews</th>\n",
       "      <th>director_facebook_likes</th>\n",
       "      <th>actor_1_facebook_likes</th>\n",
       "      <th>actor_2_facebook_likes</th>\n",
       "      <th>actor_3_facebook_likes</th>\n",
       "      <th>movie_facebook_likes</th>\n",
       "      <th>imdb_score</th>\n",
       "    </tr>\n",
       "  </thead>\n",
       "  <tbody>\n",
       "    <tr>\n",
       "      <th>0</th>\n",
       "      <td>723.0</td>\n",
       "      <td>0.0</td>\n",
       "      <td>1000.0</td>\n",
       "      <td>936.0</td>\n",
       "      <td>855.0</td>\n",
       "      <td>33000</td>\n",
       "      <td>7.9</td>\n",
       "    </tr>\n",
       "    <tr>\n",
       "      <th>1</th>\n",
       "      <td>302.0</td>\n",
       "      <td>563.0</td>\n",
       "      <td>40000.0</td>\n",
       "      <td>5000.0</td>\n",
       "      <td>1000.0</td>\n",
       "      <td>0</td>\n",
       "      <td>7.1</td>\n",
       "    </tr>\n",
       "    <tr>\n",
       "      <th>2</th>\n",
       "      <td>602.0</td>\n",
       "      <td>0.0</td>\n",
       "      <td>11000.0</td>\n",
       "      <td>393.0</td>\n",
       "      <td>161.0</td>\n",
       "      <td>85000</td>\n",
       "      <td>6.8</td>\n",
       "    </tr>\n",
       "    <tr>\n",
       "      <th>3</th>\n",
       "      <td>813.0</td>\n",
       "      <td>22000.0</td>\n",
       "      <td>27000.0</td>\n",
       "      <td>23000.0</td>\n",
       "      <td>23000.0</td>\n",
       "      <td>164000</td>\n",
       "      <td>8.5</td>\n",
       "    </tr>\n",
       "    <tr>\n",
       "      <th>4</th>\n",
       "      <td>NaN</td>\n",
       "      <td>131.0</td>\n",
       "      <td>131.0</td>\n",
       "      <td>12.0</td>\n",
       "      <td>NaN</td>\n",
       "      <td>0</td>\n",
       "      <td>7.1</td>\n",
       "    </tr>\n",
       "    <tr>\n",
       "      <th>5</th>\n",
       "      <td>462.0</td>\n",
       "      <td>475.0</td>\n",
       "      <td>640.0</td>\n",
       "      <td>632.0</td>\n",
       "      <td>530.0</td>\n",
       "      <td>24000</td>\n",
       "      <td>6.6</td>\n",
       "    </tr>\n",
       "    <tr>\n",
       "      <th>6</th>\n",
       "      <td>392.0</td>\n",
       "      <td>0.0</td>\n",
       "      <td>24000.0</td>\n",
       "      <td>11000.0</td>\n",
       "      <td>4000.0</td>\n",
       "      <td>0</td>\n",
       "      <td>6.2</td>\n",
       "    </tr>\n",
       "    <tr>\n",
       "      <th>7</th>\n",
       "      <td>324.0</td>\n",
       "      <td>15.0</td>\n",
       "      <td>799.0</td>\n",
       "      <td>553.0</td>\n",
       "      <td>284.0</td>\n",
       "      <td>29000</td>\n",
       "      <td>7.8</td>\n",
       "    </tr>\n",
       "    <tr>\n",
       "      <th>8</th>\n",
       "      <td>635.0</td>\n",
       "      <td>0.0</td>\n",
       "      <td>26000.0</td>\n",
       "      <td>21000.0</td>\n",
       "      <td>19000.0</td>\n",
       "      <td>118000</td>\n",
       "      <td>7.5</td>\n",
       "    </tr>\n",
       "    <tr>\n",
       "      <th>9</th>\n",
       "      <td>375.0</td>\n",
       "      <td>282.0</td>\n",
       "      <td>25000.0</td>\n",
       "      <td>11000.0</td>\n",
       "      <td>10000.0</td>\n",
       "      <td>10000</td>\n",
       "      <td>7.5</td>\n",
       "    </tr>\n",
       "  </tbody>\n",
       "</table>\n",
       "</div>"
      ],
      "text/plain": [
       "   num_critic_for_reviews  director_facebook_likes  actor_1_facebook_likes  \\\n",
       "0                   723.0                      0.0                  1000.0   \n",
       "1                   302.0                    563.0                 40000.0   \n",
       "2                   602.0                      0.0                 11000.0   \n",
       "3                   813.0                  22000.0                 27000.0   \n",
       "4                     NaN                    131.0                   131.0   \n",
       "5                   462.0                    475.0                   640.0   \n",
       "6                   392.0                      0.0                 24000.0   \n",
       "7                   324.0                     15.0                   799.0   \n",
       "8                   635.0                      0.0                 26000.0   \n",
       "9                   375.0                    282.0                 25000.0   \n",
       "\n",
       "   actor_2_facebook_likes  actor_3_facebook_likes  movie_facebook_likes  \\\n",
       "0                   936.0                   855.0                 33000   \n",
       "1                  5000.0                  1000.0                     0   \n",
       "2                   393.0                   161.0                 85000   \n",
       "3                 23000.0                 23000.0                164000   \n",
       "4                    12.0                     NaN                     0   \n",
       "5                   632.0                   530.0                 24000   \n",
       "6                 11000.0                  4000.0                     0   \n",
       "7                   553.0                   284.0                 29000   \n",
       "8                 21000.0                 19000.0                118000   \n",
       "9                 11000.0                 10000.0                 10000   \n",
       "\n",
       "   imdb_score  \n",
       "0         7.9  \n",
       "1         7.1  \n",
       "2         6.8  \n",
       "3         8.5  \n",
       "4         7.1  \n",
       "5         6.6  \n",
       "6         6.2  \n",
       "7         7.8  \n",
       "8         7.5  \n",
       "9         7.5  "
      ]
     },
     "execution_count": 39,
     "metadata": {},
     "output_type": "execute_result"
    }
   ],
   "source": [
    "#The aim is to create an ANN for the movie dataset, the class label is movie rating.\n",
    "#the accuracy has to be found using 10-fold cross validation and leave-one cross validation.\n",
    "\n",
    "#Step 1:\n",
    "#Importing and feature selection\n",
    "#This would be to import the movie_metadata database  and use only the required attributes that\n",
    "#are required for our calculation\n",
    "\n",
    "import numpy as np\n",
    "import pandas as pd\n",
    "df = pd.read_csv(\"movie_metadata.csv\")\n",
    "a=list(df)\n",
    "print(a)\n",
    "print(end='\\n\\n')\n",
    "print(\"Required attributes for training\")\n",
    "print(end='\\n\\n')\n",
    "b=a[a.index(\"num_critic_for_reviews\")],a[a.index(\"director_facebook_likes\")],a[a.index(\"actor_1_facebook_likes\")],a[a.index(\"actor_2_facebook_likes\")],a[a.index(\"actor_3_facebook_likes\")],a[a.index(\"movie_facebook_likes\")],\n",
    "a[a.index(\"imdb_score\")]\n",
    "df=df[[a[a.index(\"num_critic_for_reviews\")],a[a.index(\"director_facebook_likes\")],a[a.index(\"actor_1_facebook_likes\")],a[a.index(\"actor_2_facebook_likes\")],a[a.index(\"actor_3_facebook_likes\")],a[a.index(\"movie_facebook_likes\")]\n",
    ",a[a.index(\"imdb_score\")]]]\n",
    "print(df.shape)\n",
    "df.head(10)"
   ]
  },
  {
   "cell_type": "code",
   "execution_count": 40,
   "metadata": {},
   "outputs": [
    {
     "data": {
      "text/plain": [
       "num_critic_for_reviews      50\n",
       "director_facebook_likes    104\n",
       "actor_1_facebook_likes       7\n",
       "actor_2_facebook_likes      13\n",
       "actor_3_facebook_likes      23\n",
       "movie_facebook_likes         0\n",
       "imdb_score                   0\n",
       "dtype: int64"
      ]
     },
     "execution_count": 40,
     "metadata": {},
     "output_type": "execute_result"
    }
   ],
   "source": [
    "#step 2: \n",
    "#Handling missing data\n",
    "\n",
    "#Since we deal with numeric attributes, we need to make sure there is no missing data,\n",
    "#even if it's present, it is replaced with the median of the total values.\n",
    "\n",
    "df.isnull().sum()"
   ]
  },
  {
   "cell_type": "code",
   "execution_count": 41,
   "metadata": {},
   "outputs": [
    {
     "data": {
      "text/plain": [
       "num_critic_for_reviews     float64\n",
       "director_facebook_likes    float64\n",
       "actor_1_facebook_likes     float64\n",
       "actor_2_facebook_likes     float64\n",
       "actor_3_facebook_likes     float64\n",
       "movie_facebook_likes         int64\n",
       "imdb_score                 float64\n",
       "dtype: object"
      ]
     },
     "execution_count": 41,
     "metadata": {},
     "output_type": "execute_result"
    }
   ],
   "source": [
    "df.dtypes"
   ]
  },
  {
   "cell_type": "code",
   "execution_count": 42,
   "metadata": {},
   "outputs": [
    {
     "data": {
      "text/plain": [
       "num_critic_for_reviews     0\n",
       "director_facebook_likes    0\n",
       "actor_1_facebook_likes     0\n",
       "actor_2_facebook_likes     0\n",
       "actor_3_facebook_likes     0\n",
       "movie_facebook_likes       0\n",
       "imdb_score                 0\n",
       "dtype: int64"
      ]
     },
     "execution_count": 42,
     "metadata": {},
     "output_type": "execute_result"
    }
   ],
   "source": [
    "for i in df.columns:\n",
    "    if df[i].isnull().sum()>0:\n",
    "        df[i] = df[i].fillna(df[i].median())\n",
    "df.isnull().sum()"
   ]
  },
  {
   "cell_type": "code",
   "execution_count": 43,
   "metadata": {},
   "outputs": [],
   "source": [
    "#Step 3:\n",
    "\n",
    "#Modelling the ANN and prediction\n",
    "\n",
    "#we use a MLP Classifier and using all the attributes except the target on the X list and the \n",
    "#target attributes on the Y list, the entire dataset is split into two as X and Y.\n",
    "\n",
    "#\n",
    "\n",
    "from sklearn.neural_network import MLPClassifier\n",
    "\n",
    "\n",
    "Y = df['imdb_score'].round().values\n",
    "X = df.drop(['imdb_score'],axis=1).values\n",
    "\n",
    "clf = MLPClassifier(hidden_layer_sizes=(5), solver='sgd', activation=\"logistic\")\n"
   ]
  },
  {
   "cell_type": "code",
   "execution_count": 51,
   "metadata": {},
   "outputs": [
    {
     "name": "stderr",
     "output_type": "stream",
     "text": [
      "C:\\Users\\Hp\\Anaconda3\\lib\\site-packages\\sklearn\\neural_network\\multilayer_perceptron.py:564: ConvergenceWarning: Stochastic Optimizer: Maximum iterations (200) reached and the optimization hasn't converged yet.\n",
      "  % self.max_iter, ConvergenceWarning)\n"
     ]
    },
    {
     "name": "stdout",
     "output_type": "stream",
     "text": [
      "0.4\n",
      "0.1\n",
      "0.3\n",
      "0.6\n",
      "0.2\n",
      "0.5\n",
      "0.4\n",
      "0.2\n",
      "0.2\n",
      "0.5\n",
      "Average accuracy score:  0.34\n"
     ]
    }
   ],
   "source": [
    "#Step 4:\n",
    "\n",
    "#Verifying the accuracy using 10-fold cross validation and leave-once validation\n",
    "from sklearn.model_selection import KFold\n",
    "kf = KFold(n_splits=10)\n",
    "for train_indices, test_indices in kf.split(X):\n",
    "    clf.fit(X[train_indices], Y[train_indices])\n",
    "    print(clf.score(X[test_indices], Y[test_indices]))\n",
    "    \n",
    "from sklearn.model_selection import LeaveOneOut\n",
    "loo = LeaveOneOut()\n",
    "\n",
    "Y = df['imdb_score'].round()[0:100].values\n",
    "X = df.drop(['imdb_score'],axis=1)[0:100].values\n",
    "avg=0\n",
    "for train_indices, test_indices in loo.split(X):\n",
    "    clf.fit(X[train_indices], Y[train_indices])\n",
    "    avg = avg + clf.score(X[test_indices], Y[test_indices])\n",
    "print('Average accuracy score: ',avg/100)"
   ]
  },
  {
   "cell_type": "code",
   "execution_count": null,
   "metadata": {},
   "outputs": [],
   "source": []
  }
 ],
 "metadata": {
  "kernelspec": {
   "display_name": "Python 3",
   "language": "python",
   "name": "python3"
  },
  "language_info": {
   "codemirror_mode": {
    "name": "ipython",
    "version": 3
   },
   "file_extension": ".py",
   "mimetype": "text/x-python",
   "name": "python",
   "nbconvert_exporter": "python",
   "pygments_lexer": "ipython3",
   "version": "3.6.5"
  }
 },
 "nbformat": 4,
 "nbformat_minor": 2
}
