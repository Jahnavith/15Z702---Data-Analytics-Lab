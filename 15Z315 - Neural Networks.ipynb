{
 "cells": [
  {
   "cell_type": "code",
   "execution_count": 10,
   "metadata": {},
   "outputs": [
    {
     "name": "stdout",
     "output_type": "stream",
     "text": [
      "Iteration 1, loss = 5.85288905\n",
      "Iteration 2, loss = 2.18220932\n",
      "Iteration 3, loss = 2.20104720\n",
      "Iteration 4, loss = 2.20313348\n",
      "Iteration 5, loss = 2.19729503\n",
      "Training loss did not improve more than tol=0.000100 for two consecutive epochs. Stopping.\n"
     ]
    },
    {
     "data": {
      "text/plain": [
       "0.11441647597254005"
      ]
     },
     "execution_count": 10,
     "metadata": {},
     "output_type": "execute_result"
    }
   ],
   "source": [
    "import pandas as pd\n",
    "from sklearn.model_selection import train_test_split\n",
    "from sklearn.neural_network import MLPClassifier\n",
    "from sklearn.metrics import accuracy_score\n",
    "df= pd.read_csv('movie_metadata.csv')\n",
    "df=df[['num_critic_for_reviews','director_facebook_likes','actor_1_facebook_likes','movie_facebook_likes','num_user_for_reviews','imdb_score']]\n",
    "df=df.dropna()\n",
    "df = df[df.movie_facebook_likes != 0]\n",
    "df = df[df.director_facebook_likes != 0.0]\n",
    "df = df[df.num_user_for_reviews != 0.0]\n",
    "df = df[df.num_critic_for_reviews != 0.0]\n",
    "df = df[df.actor_1_facebook_likes != 0.0]\n",
    "df = df[df.imdb_score != 0.0]\n",
    "x=df[['num_critic_for_reviews','director_facebook_likes','actor_1_facebook_likes','movie_facebook_likes','num_user_for_reviews']]\n",
    "y=df[['imdb_score']]\n",
    "y=y.round()\n",
    "x_train,x_test,y_train,y_test=train_test_split(x,y,test_size=0.20)\n",
    "mlp = MLPClassifier(hidden_layer_sizes=(7, 6, 5), max_iter=5044, alpha=0.00001, solver='sgd', verbose=10 )  \n",
    "mlp.fit(x_train, y_train.values.ravel())\n",
    "\n",
    "y_pred = mlp.predict(x_test)\n",
    "accuracy_score(y_test,y_pred)\n"
   ]
  },
  {
   "cell_type": "code",
   "execution_count": null,
   "metadata": {},
   "outputs": [],
   "source": []
  }
 ],
 "metadata": {
  "kernelspec": {
   "display_name": "Python 3",
   "language": "python",
   "name": "python3"
  },
  "language_info": {
   "codemirror_mode": {
    "name": "ipython",
    "version": 3
   },
   "file_extension": ".py",
   "mimetype": "text/x-python",
   "name": "python",
   "nbconvert_exporter": "python",
   "pygments_lexer": "ipython3",
   "version": "3.6.5"
  }
 },
 "nbformat": 4,
 "nbformat_minor": 2
}
