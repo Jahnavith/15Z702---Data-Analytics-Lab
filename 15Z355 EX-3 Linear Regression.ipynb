{
 "cells": [
  {
   "cell_type": "code",
   "execution_count": 8,
   "metadata": {},
   "outputs": [
    {
     "name": "stdout",
     "output_type": "stream",
     "text": [
      "The regression model is: \n",
      "y = 4.53 x -8.33\n"
     ]
    },
    {
     "data": {
      "text/plain": [
       "[<matplotlib.lines.Line2D at 0x1d9518c9ba8>]"
      ]
     },
     "execution_count": 8,
     "metadata": {},
     "output_type": "execute_result"
    },
    {
     "data": {
      "image/png": "[encoded data removed]",
      "text/plain": [
       "<Figure size 432x288 with 1 Axes>"
      ]
     },
     "metadata": {},
     "output_type": "display_data"
    }
   ],
   "source": [
    "import pandas as pd\n",
    "import numpy as np\n",
    "import matplotlib.pyplot as plt\n",
    "\n",
    "n=6\n",
    "#Step 1:\n",
    "#Reading the input points, converting to list form and finding out the mean\n",
    "x = pd.read_csv(\"datapoints.csv\",usecols=[0])\n",
    "x_list=x.values.tolist()\n",
    "x_mean = np.mean(x.values.tolist())\n",
    "\n",
    "y = pd.read_csv(\"datapoints.csv\",usecols=[1])\n",
    "y_list=y.values.tolist()\n",
    "y_mean = np.mean(y.values.tolist())\n",
    "\n",
    "\n",
    "#Step 2:\n",
    "#Use the required formulas for linear regression\n",
    "xy=0\n",
    "for i in range(len(x_list)):\n",
    "    xy = xy + (x_list[i][0]*y_list[i][0])\n",
    "\n",
    "\n",
    "beta = (xy - n*x_mean*y_mean)/((sum([i[0]**2 for i in x_list])) - n*(x_mean**2))\n",
    "\n",
    "\n",
    "alpha = y_mean - beta * x_mean\n",
    "\n",
    "#Displaying the values of the regression model\n",
    "print(\"The regression model is: \")\n",
    "print(\"y = \"+str(round(beta,2))+\" x \"+str(round(alpha,2)))\n",
    "x = np.array(x_list)\n",
    "y = np.array(y_list)\n",
    "\n",
    "plt.title(\"Linear Regression\")\n",
    "#Plot the given data points\n",
    "plt.plot(x, y, 'ro')\n",
    "\n",
    "#Plot the obtained regression line\n",
    "plt.plot(x,beta*x+alpha)\n"
   ]
  },
  {
   "cell_type": "code",
   "execution_count": null,
   "metadata": {},
   "outputs": [],
   "source": []
  }
 ],
 "metadata": {
  "kernelspec": {
   "display_name": "Python 3",
   "language": "python",
   "name": "python3"
  },
  "language_info": {
   "codemirror_mode": {
    "name": "ipython",
    "version": 3
   },
   "file_extension": ".py",
   "mimetype": "text/x-python",
   "name": "python",
   "nbconvert_exporter": "python",
   "pygments_lexer": "ipython3",
   "version": "3.6.5"
  }
 },
 "nbformat": 4,
 "nbformat_minor": 2
}
