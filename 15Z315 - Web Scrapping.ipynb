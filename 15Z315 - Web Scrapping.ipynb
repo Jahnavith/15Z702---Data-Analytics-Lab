{
 "cells": [
  {
   "cell_type": "code",
   "execution_count": 2,
   "metadata": {},
   "outputs": [
    {
     "name": "stdout",
     "output_type": "stream",
     "text": [
      "DR ARCHANA KRISHNAN\n",
      "DR ARUL RAJAN K\n",
      "DR BALASUDARSUN N L\n",
      "DR DEEPA R\n",
      "DR JAGAJEEVAN R\n",
      "DR JOSHUA SELVAKUMAR J\n",
      "DR KAVITHA D\n",
      "DR KRISHNAVENI R\n",
      "DR KRISHNAVENI MUTHIAH R\n",
      "DR MANJU P GEORGE\n",
      "DR MANSURALI A\n",
      "DR RAMAN H\n",
      "DR RAMKUMAR N\n",
      "DR SATHISH M\n",
      "DR SATHYANARAYANAN R S\n",
      "DR SEKKIZHAR J\n",
      "DR SRIGAYATHRI DEVI K\n",
      "DR SRIVIDYA V\n",
      "DR SUJATHA R\n",
      "DR SUDHARANI RAVINDRAN D\n",
      "DR SWAMYNATHAN R\n",
      "DR THILAGAM V\n",
      "DR UMA MAHESWARI B\n",
      "DR UMESH CHANDRASEKHAR\n",
      "DR VIJAYA T G\n",
      "DR VIVEK N\n"
     ]
    }
   ],
   "source": [
    "import requests\n",
    "from bs4 import BeautifulSoup\n",
    "URL = \"http://psgim.ac.in/2017/01/full-time-faculty/\"\n",
    "r = requests.get(URL)\n",
    "soup = BeautifulSoup(r.content, 'html5lib')\n",
    "for an in soup.findAll('div',{'class':'td-block-title-wrap'}):\n",
    "    fac = an.text\n",
    "    if \"DR\" in fac or \"Dr\" in fac:\n",
    "        print(fac.strip().upper())"
   ]
  },
  {
   "cell_type": "code",
   "execution_count": null,
   "metadata": {},
   "outputs": [],
   "source": []
  }
 ],
 "metadata": {
  "kernelspec": {
   "display_name": "Python 3",
   "language": "python",
   "name": "python3"
  },
  "language_info": {
   "codemirror_mode": {
    "name": "ipython",
    "version": 3
   },
   "file_extension": ".py",
   "mimetype": "text/x-python",
   "name": "python",
   "nbconvert_exporter": "python",
   "pygments_lexer": "ipython3",
   "version": "3.6.5"
  }
 },
 "nbformat": 4,
 "nbformat_minor": 2
}
