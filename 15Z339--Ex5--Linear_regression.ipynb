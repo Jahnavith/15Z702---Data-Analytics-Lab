{
 "cells": [
  {
   "cell_type": "markdown",
   "metadata": {},
   "source": [
    "## Exercise 5\n",
    "# Linear Regression"
   ]
  },
  {
   "cell_type": "code",
   "execution_count": 12,
   "metadata": {},
   "outputs": [
    {
     "name": "stdout",
     "output_type": "stream",
     "text": [
      "Enter the no of points5\n",
      "Enter X and Y values for all the points correspondingly\n",
      "Point: 1\n",
      "x- 1\n",
      "y- 2\n",
      "Point: 2\n",
      "x- 3\n",
      "y- 4\n",
      "Point: 3\n",
      "x- 5\n",
      "y- 6\n",
      "Point: 4\n",
      "x- 7\n",
      "y- 8\n",
      "Point: 5\n",
      "x- 9\n",
      "y- 10\n"
     ]
    }
   ],
   "source": [
    "n=input(\"Enter the no of points\")\n",
    "x = []\n",
    "y = []\n",
    "count = 0;\n",
    "print(\"Enter X and Y values for all the points correspondingly\")\n",
    "for i in range(int(n)):\n",
    "    count = count + 1\n",
    "    print(\"Point: \"+ str(count))\n",
    "    x.append(float(input(\"x- \")))\n",
    "    y.append(float(input(\"y- \")))"
   ]
  },
  {
   "cell_type": "code",
   "execution_count": 4,
   "metadata": {},
   "outputs": [
    {
     "data": {
      "text/plain": [
       "[<matplotlib.lines.Line2D at 0xff60110>]"
      ]
     },
     "execution_count": 4,
     "metadata": {},
     "output_type": "execute_result"
    },
    {
     "data": {
      "image/png": "[encoded data removed]",
      "text/plain": [
       "<Figure size 432x288 with 1 Axes>"
      ]
     },
     "metadata": {
      "needs_background": "light"
     },
     "output_type": "display_data"
    }
   ],
   "source": [
    "import matplotlib.pyplot as plt\n",
    "plt.plot(x,y,'ro')"
   ]
  },
  {
   "cell_type": "code",
   "execution_count": 3,
   "metadata": {},
   "outputs": [
    {
     "name": "stdout",
     "output_type": "stream",
     "text": [
      "x-mean is 5.0\n",
      "y-mean is 6.0\n"
     ]
    }
   ],
   "source": [
    "import statistics\n",
    "xmean = statistics.mean (x)\n",
    "ymean = statistics.mean (y)\n",
    "print(\"x-mean is \" + str(xmean))\n",
    "print(\"y-mean is \" + str(ymean))"
   ]
  },
  {
   "cell_type": "code",
   "execution_count": 7,
   "metadata": {},
   "outputs": [
    {
     "name": "stdout",
     "output_type": "stream",
     "text": [
      "Beta: 1.0\n",
      "Alpha: 1.0\n",
      "y = 1.0x + 1.0\n"
     ]
    }
   ],
   "source": [
    "xy = 0;\n",
    "xsqrsum = 0;\n",
    "for i in range(int(n)):\n",
    "    xy = xy + (x[i]*y[i])\n",
    "    xsqrsum = xsqrsum + ( x[i] *  x[i] )\n",
    "beta =(xy - (int(n)*xmean*ymean))/(xsqrsum-(int(n)*(xmean*xmean)))\n",
    "print(\"Beta: \" + str(beta))\n",
    "alpha = ymean - ( beta * xmean)\n",
    "print(\"Alpha: \" + str(alpha))\n",
    "print(\"y = \"+str(beta)+\"x + \"+str(alpha))"
   ]
  },
  {
   "cell_type": "code",
   "execution_count": 10,
   "metadata": {},
   "outputs": [
    {
     "name": "stdout",
     "output_type": "stream",
     "text": [
      "Points [2.0, 4.0, 6.0, 8.0, 10.0]\n",
      "Enter x 11\n",
      "OutputY 12.0\n"
     ]
    },
    {
     "data": {
      "image/png": "[encoded data removed]",
      "text/plain": [
       "<Figure size 432x288 with 1 Axes>"
      ]
     },
     "metadata": {
      "needs_background": "light"
     },
     "output_type": "display_data"
    }
   ],
   "source": [
    "yo = []\n",
    "for i in range(int(n)):\n",
    "    yo.append(beta*x[i]+alpha)\n",
    "print(\"Points \" + str(yo))\n",
    "import numpy as np\n",
    "plt.plot(np.array(x),beta*np.array(x)+alpha,'r')\n",
    "plt.plot(x,y,'ro')\n",
    "inputx = float(input(\"Enter x \"))\n",
    "outputy = beta*inputx+alpha\n",
    "print(\"OutputY \" + str(outputy) )"
   ]
  },
  {
   "cell_type": "code",
   "execution_count": null,
   "metadata": {},
   "outputs": [],
   "source": []
  }
 ],
 "metadata": {
  "kernelspec": {
   "display_name": "Python 3",
   "language": "python",
   "name": "python3"
  },
  "language_info": {
   "codemirror_mode": {
    "name": "ipython",
    "version": 3
   },
   "file_extension": ".py",
   "mimetype": "text/x-python",
   "name": "python",
   "nbconvert_exporter": "python",
   "pygments_lexer": "ipython3",
   "version": "3.7.0"
  }
 },
 "nbformat": 4,
 "nbformat_minor": 2
}
