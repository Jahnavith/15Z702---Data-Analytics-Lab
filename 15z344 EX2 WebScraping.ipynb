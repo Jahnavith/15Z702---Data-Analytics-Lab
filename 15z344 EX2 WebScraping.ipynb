{
 "cells": [
  {
   "cell_type": "markdown",
   "metadata": {},
   "source": [
    "Web Scripting the PSG IM Website using Beautiful Soup"
   ]
  },
  {
   "cell_type": "code",
   "execution_count": 5,
   "metadata": {},
   "outputs": [
    {
     "name": "stdout",
     "output_type": "stream",
     "text": [
      "DR ARUL RAJAN K\n",
      "DR Balasudarsun N L\n",
      "DR DEEPA R\n",
      "DR JAGAJEEVAN R\n",
      "DR JOSHUA SELVAKUMAR J\n",
      "DR KAVITHA D\n",
      "DR KRISHNAVENI MUTHIAH R\n",
      "DR MANSURALI A\n",
      "DR RAMAN H\n",
      "DR SATHISH M\n",
      "DR SATHYANARAYANAN R S\n",
      "DR SEKKIZHAR J\n",
      "DR SUJATHA R \n",
      "DR SUDHARANI RAVINDRAN D\n",
      "DR SWAMYNATHAN R\n",
      "DR THILAGAM V\n",
      "DR UMA MAHESWARI B\n",
      "DR UMESH CHANDRASEKHAR\n",
      "DR VIVEK N\n"
     ]
    }
   ],
   "source": [
    "import requests\n",
    "import pyautogui\n",
    "import webbrowser\n",
    "from bs4 import BeautifulSoup\n",
    "url='http://psgim.ac.in/2017/01/full-time-faculty/'\n",
    "response=requests.get(url)\n",
    "html=response.content\n",
    "soup=BeautifulSoup(html,\"lxml\")\n",
    "table=soup.find('div',attrs={'class':'wpb_wrapper'})\n",
    "for row in table.findAll('h4'):\n",
    "    if(\"DR\" in row.text):\n",
    "        print(row.text)"
   ]
  },
  {
   "cell_type": "markdown",
   "metadata": {},
   "source": [
    "The above code will display the faculty who are graduated for Phd."
   ]
  }
 ],
 "metadata": {
  "kernelspec": {
   "display_name": "Python 3",
   "language": "python",
   "name": "python3"
  },
  "language_info": {
   "codemirror_mode": {
    "name": "ipython",
    "version": 3
   },
   "file_extension": ".py",
   "mimetype": "text/x-python",
   "name": "python",
   "nbconvert_exporter": "python",
   "pygments_lexer": "ipython3",
   "version": "3.6.5"
  }
 },
 "nbformat": 4,
 "nbformat_minor": 2
}
