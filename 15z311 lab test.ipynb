{
 "cells": [
  {
   "cell_type": "code",
   "execution_count": null,
   "metadata": {},
   "outputs": [],
   "source": []
  },
  {
   "cell_type": "code",
   "execution_count": null,
   "metadata": {},
   "outputs": [],
   "source": []
  },
  {
   "cell_type": "code",
   "execution_count": null,
   "metadata": {},
   "outputs": [],
   "source": []
  },
  {
   "cell_type": "code",
   "execution_count": null,
   "metadata": {},
   "outputs": [],
   "source": []
  },
  {
   "cell_type": "code",
   "execution_count": 58,
   "metadata": {},
   "outputs": [],
   "source": [
    "import pandas as pd\n",
    "import numpy as np\n",
    "\n",
    "\n",
    "\n",
    "import matplotlib.pyplot as plt"
   ]
  },
  {
   "cell_type": "code",
   "execution_count": 51,
   "metadata": {},
   "outputs": [
    {
     "data": {
      "text/html": [
       "<div>\n",
       "<style scoped>\n",
       "    .dataframe tbody tr th:only-of-type {\n",
       "        vertical-align: middle;\n",
       "    }\n",
       "\n",
       "    .dataframe tbody tr th {\n",
       "        vertical-align: top;\n",
       "    }\n",
       "\n",
       "    .dataframe thead th {\n",
       "        text-align: right;\n",
       "    }\n",
       "</style>\n",
       "<table border=\"1\" class=\"dataframe\">\n",
       "  <thead>\n",
       "    <tr style=\"text-align: right;\">\n",
       "      <th></th>\n",
       "      <th>gs</th>\n",
       "      <th>cst</th>\n",
       "      <th>tnp</th>\n",
       "      <th>twp</th>\n",
       "      <th>iap</th>\n",
       "      <th>esp</th>\n",
       "      <th>arr</th>\n",
       "      <th>ms</th>\n",
       "      <th>ls</th>\n",
       "      <th>as</th>\n",
       "      <th>fmi</th>\n",
       "      <th>fs</th>\n",
       "      <th>fq</th>\n",
       "      <th>mq</th>\n",
       "      <th>fo</th>\n",
       "      <th>mo</th>\n",
       "      <th>nf</th>\n",
       "      <th>sh</th>\n",
       "    </tr>\n",
       "  </thead>\n",
       "  <tbody>\n",
       "    <tr>\n",
       "      <th>count</th>\n",
       "      <td>132</td>\n",
       "      <td>132</td>\n",
       "      <td>132</td>\n",
       "      <td>132</td>\n",
       "      <td>132</td>\n",
       "      <td>132</td>\n",
       "      <td>132</td>\n",
       "      <td>132</td>\n",
       "      <td>132</td>\n",
       "      <td>132</td>\n",
       "      <td>132</td>\n",
       "      <td>132</td>\n",
       "      <td>132</td>\n",
       "      <td>132</td>\n",
       "      <td>132</td>\n",
       "      <td>132</td>\n",
       "      <td>132</td>\n",
       "      <td>132</td>\n",
       "    </tr>\n",
       "    <tr>\n",
       "      <th>unique</th>\n",
       "      <td>5</td>\n",
       "      <td>5</td>\n",
       "      <td>3</td>\n",
       "      <td>2</td>\n",
       "      <td>3</td>\n",
       "      <td>3</td>\n",
       "      <td>6</td>\n",
       "      <td>4</td>\n",
       "      <td>7</td>\n",
       "      <td>7</td>\n",
       "      <td>6</td>\n",
       "      <td>6</td>\n",
       "      <td>4</td>\n",
       "      <td>4</td>\n",
       "      <td>3</td>\n",
       "      <td>5</td>\n",
       "      <td>4</td>\n",
       "      <td>4</td>\n",
       "    </tr>\n",
       "    <tr>\n",
       "      <th>top</th>\n",
       "      <td>Vg</td>\n",
       "      <td>Good</td>\n",
       "      <td>N</td>\n",
       "      <td>Unmarried</td>\n",
       "      <td>V</td>\n",
       "      <td>Paid</td>\n",
       "      <td>Medium</td>\n",
       "      <td>Small</td>\n",
       "      <td>Um</td>\n",
       "      <td>Um</td>\n",
       "      <td>Service</td>\n",
       "      <td>Housewife</td>\n",
       "      <td>Large</td>\n",
       "      <td>Average</td>\n",
       "      <td>Govt</td>\n",
       "      <td>Eng</td>\n",
       "      <td>Small</td>\n",
       "      <td>Good</td>\n",
       "    </tr>\n",
       "    <tr>\n",
       "      <th>freq</th>\n",
       "      <td>63</td>\n",
       "      <td>54</td>\n",
       "      <td>78</td>\n",
       "      <td>131</td>\n",
       "      <td>92</td>\n",
       "      <td>76</td>\n",
       "      <td>63</td>\n",
       "      <td>89</td>\n",
       "      <td>40</td>\n",
       "      <td>52</td>\n",
       "      <td>38</td>\n",
       "      <td>115</td>\n",
       "      <td>58</td>\n",
       "      <td>59</td>\n",
       "      <td>91</td>\n",
       "      <td>62</td>\n",
       "      <td>78</td>\n",
       "      <td>56</td>\n",
       "    </tr>\n",
       "  </tbody>\n",
       "</table>\n",
       "</div>"
      ],
      "text/plain": [
       "         gs   cst  tnp        twp  iap   esp     arr     ms   ls   as  \\\n",
       "count   132   132  132        132  132   132     132    132  132  132   \n",
       "unique    5     5    3          2    3     3       6      4    7    7   \n",
       "top      Vg  Good    N  Unmarried    V  Paid  Medium  Small   Um   Um   \n",
       "freq     63    54   78        131   92    76      63     89   40   52   \n",
       "\n",
       "            fmi         fs     fq       mq    fo   mo     nf    sh  \n",
       "count       132        132    132      132   132  132    132   132  \n",
       "unique        6          6      4        4     3    5      4     4  \n",
       "top     Service  Housewife  Large  Average  Govt  Eng  Small  Good  \n",
       "freq         38        115     58       59    91   62     78    56  "
      ]
     },
     "execution_count": 51,
     "metadata": {},
     "output_type": "execute_result"
    }
   ],
   "source": [
    "\n",
    "f = pd.read_csv('s.csv', names=['gs', 'cst', 'tnp', 'twp', 'iap','esp','arr','ms','ls','as','fmi','fs','fq','mq','fo','mo','nf','sh'])\n",
    "f.describe()"
   ]
  },
  {
   "cell_type": "code",
   "execution_count": null,
   "metadata": {},
   "outputs": [],
   "source": []
  },
  {
   "cell_type": "code",
   "execution_count": 72,
   "metadata": {},
   "outputs": [
    {
     "data": {
      "text/plain": [
       "gs     object\n",
       "cst    object\n",
       "tnp    object\n",
       "twp    object\n",
       "iap    object\n",
       "esp    object\n",
       "arr    object\n",
       "ms     object\n",
       "ls     object\n",
       "as     object\n",
       "fmi    object\n",
       "fs     object\n",
       "fq     object\n",
       "mq     object\n",
       "fo     object\n",
       "mo     object\n",
       "nf     object\n",
       "sh     object\n",
       "dtype: object"
      ]
     },
     "execution_count": 72,
     "metadata": {},
     "output_type": "execute_result"
    }
   ],
   "source": [
    "f.dtypes\n"
   ]
  },
  {
   "cell_type": "code",
   "execution_count": 67,
   "metadata": {},
   "outputs": [
    {
     "data": {
      "text/plain": [
       "<matplotlib.axes._subplots.AxesSubplot at 0xef0870fbe0>"
      ]
     },
     "execution_count": 67,
     "metadata": {},
     "output_type": "execute_result"
    },
    {
     "data": {
      "image/png": "[encoded data removed]",
      "text/plain": [
       "<Figure size 432x288 with 1 Axes>"
      ]
     },
     "metadata": {},
     "output_type": "display_data"
    }
   ],
   "source": [
    "f['fmi'].value_counts().plot(kind='bar')"
   ]
  },
  {
   "cell_type": "code",
   "execution_count": 73,
   "metadata": {
    "scrolled": true
   },
   "outputs": [
    {
     "data": {
      "text/plain": [
       "<matplotlib.axes._subplots.AxesSubplot at 0xef090996d8>"
      ]
     },
     "execution_count": 73,
     "metadata": {},
     "output_type": "execute_result"
    },
    {
     "data": {
      "image/png": "[encoded data removed]",
      "text/plain": [
       "<Figure size 432x288 with 1 Axes>"
      ]
     },
     "metadata": {},
     "output_type": "display_data"
    }
   ],
   "source": [
    "f['tnp'].value_counts().plot(kind='pie')"
   ]
  },
  {
   "cell_type": "code",
   "execution_count": 88,
   "metadata": {},
   "outputs": [],
   "source": [
    "sum1 = f['cst'].sum()"
   ]
  },
  {
   "cell_type": "code",
   "execution_count": 75,
   "metadata": {},
   "outputs": [],
   "source": [
    "sum2 = df['tnp'].sum()"
   ]
  },
  {
   "cell_type": "code",
   "execution_count": 84,
   "metadata": {},
   "outputs": [],
   "source": [
    "sum3 = df['twp'].sum()"
   ]
  },
  {
   "cell_type": "code",
   "execution_count": 86,
   "metadata": {},
   "outputs": [
    {
     "name": "stdout",
     "output_type": "stream",
     "text": [
      "espGoodVgGoodGoodVgVgGoodGoodVgVgVgVgGoodVgVgVgVgGoodGoodVgVgVgBestVgGoodGoodVgGoodGoodGoodGoodGoodGoodGoodPassGoodGoodGoodVgVgVgVgVgBestBestVgVgGoodPassBestBestBestGoodVgVgBestVgVgBestVgVgGoodVgGoodVgGoodVgGoodVgGoodVgGoodVgVgVgGoodPassPassGoodPassGoodGoodPassGoodPassGoodGoodGoodPassGoodGoodVgPassGoodGoodGoodGoodVgPassGoodVgPassPassGoodPassPassGoodPassGoodPassPassPassPassPassPassGoodGoodVgPassVgGoodPassGoodGoodGoodPassPassGoodGoodPassPass\n"
     ]
    }
   ],
   "source": []
  },
  {
   "cell_type": "code",
   "execution_count": 98,
   "metadata": {},
   "outputs": [
    {
     "ename": "ValueError",
     "evalue": "could not convert string to float: 'ge'",
     "output_type": "error",
     "traceback": [
      "\u001b[1;31m---------------------------------------------------------------------------\u001b[0m",
      "\u001b[1;31mValueError\u001b[0m                                Traceback (most recent call last)",
      "\u001b[1;32m<ipython-input-98-22f676c73331>\u001b[0m in \u001b[0;36m<module>\u001b[1;34m()\u001b[0m\n\u001b[0;32m      9\u001b[0m     \u001b[0mNlines\u001b[0m \u001b[1;33m=\u001b[0m \u001b[1;33m[\u001b[0m\u001b[1;33m]\u001b[0m \u001b[1;31m#create a list to put floats into\u001b[0m\u001b[1;33m\u001b[0m\u001b[0m\n\u001b[0;32m     10\u001b[0m     \u001b[1;32mfor\u001b[0m \u001b[0mi\u001b[0m \u001b[1;32min\u001b[0m \u001b[0mline2\u001b[0m\u001b[1;33m:\u001b[0m\u001b[1;33m\u001b[0m\u001b[0m\n\u001b[1;32m---> 11\u001b[1;33m         \u001b[0mi\u001b[0m \u001b[1;33m=\u001b[0m \u001b[0mfloat\u001b[0m\u001b[1;33m(\u001b[0m\u001b[0mi\u001b[0m\u001b[1;33m)\u001b[0m\u001b[1;33m\u001b[0m\u001b[0m\n\u001b[0m\u001b[0;32m     12\u001b[0m         \u001b[0mNlines\u001b[0m\u001b[1;33m.\u001b[0m\u001b[0mappend\u001b[0m\u001b[1;33m(\u001b[0m\u001b[0mi\u001b[0m\u001b[1;33m)\u001b[0m \u001b[1;31m#put the floats into the list\u001b[0m\u001b[1;33m\u001b[0m\u001b[0m\n\u001b[0;32m     13\u001b[0m     \u001b[0msums\u001b[0m \u001b[1;33m=\u001b[0m \u001b[0msum\u001b[0m\u001b[1;33m(\u001b[0m\u001b[0mNlines\u001b[0m\u001b[1;33m)\u001b[0m \u001b[1;31m#total up each line from the file\u001b[0m\u001b[1;33m\u001b[0m\u001b[0m\n",
      "\u001b[1;31mValueError\u001b[0m: could not convert string to float: 'ge'"
     ]
    }
   ],
   "source": [
    "\n",
    "\n",
    "f =open(\"S.csv\", \"r\") #read data file\n",
    "lines = f.readlines() \n",
    "avLines= [] #create a list to put averages into \n",
    "for line in lines:\n",
    "    line2 = line.replace(\"\\n\", \"\") #remove /n from lines\n",
    "    line2 = line2.split(\",\") #split the lines by commas\n",
    "    Nlines = [] #create a list to put floats into\n",
    "    for i in line2:\n",
    "        i = float(i)\n",
    "        Nlines.append(i) #put the floats into the list\n",
    "    sums = sum(Nlines) #total up each line from the file\n",
    "    avLines.append(sums/len(line2)) #put the averages of each line into a list\n",
    "    print (avlines)\n"
   ]
  },
  {
   "cell_type": "code",
   "execution_count": null,
   "metadata": {},
   "outputs": [],
   "source": []
  },
  {
   "cell_type": "raw",
   "metadata": {},
   "source": []
  },
  {
   "cell_type": "code",
   "execution_count": null,
   "metadata": {},
   "outputs": [],
   "source": []
  }
 ],
 "metadata": {
  "kernelspec": {
   "display_name": "Python 3",
   "language": "python",
   "name": "python3"
  },
  "language_info": {
   "codemirror_mode": {
    "name": "ipython",
    "version": 3
   },
   "file_extension": ".py",
   "mimetype": "text/x-python",
   "name": "python",
   "nbconvert_exporter": "python",
   "pygments_lexer": "ipython3",
   "version": "3.6.5"
  }
 },
 "nbformat": 4,
 "nbformat_minor": 2
}
