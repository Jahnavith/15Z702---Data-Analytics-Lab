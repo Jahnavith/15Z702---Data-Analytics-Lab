{
 "cells": [
  {
   "cell_type": "code",
   "execution_count": 25,
   "metadata": {},
   "outputs": [],
   "source": [
    "import numpy as np\n",
    "import matplotlib.pyplot as plt"
   ]
  },
  {
   "cell_type": "code",
   "execution_count": null,
   "metadata": {},
   "outputs": [],
   "source": [
    "n = int(input(\"Enter the number of values\"))\n",
    "p = []\n",
    "print(\"Enter (x,y):\")\n",
    "for i in range(n):\n",
    "    p.append([])\n",
    "    p[i].append(float(input(\"Xval = \")))\n",
    "    p[i].append(float(input(\"Yval = \")))"
   ]
  },
  {
   "cell_type": "code",
   "execution_count": null,
   "metadata": {},
   "outputs": [],
   "source": [
    "xmean = sum([group[0] for group in p])/n\n",
    "ymean = sum([group[1] for group in p])/n\n",
    "xy = 0\n",
    "for i in range(n):\n",
    "    xy = xy + p[i][0]*p[i][1]"
   ]
  },
  {
   "cell_type": "code",
   "execution_count": 28,
   "metadata": {},
   "outputs": [
    {
     "name": "stdout",
     "output_type": "stream",
     "text": [
      "y = 1.0x + 1.0\n"
     ]
    }
   ],
   "source": [
    "beta = (xy - n*xmean*ymean)/((sum([group[0]**2 for group in p])) - n*(xmean**2))\n",
    "alpha = ymean - beta*xmean\n",
    "print(\"y = \"+str(round(beta,3))+\"x + \"+str(round(alpha,3)))"
   ]
  },
  {
   "cell_type": "code",
   "execution_count": 29,
   "metadata": {},
   "outputs": [
    {
     "data": {
      "text/plain": [
       "[<matplotlib.lines.Line2D at 0x2246f00d240>]"
      ]
     },
     "execution_count": 29,
     "metadata": {},
     "output_type": "execute_result"
    },
    {
     "data": {
      "image/png": "[encoded data removed]",
      "text/plain": [
       "<Figure size 432x288 with 1 Axes>"
      ]
     },
     "metadata": {},
     "output_type": "display_data"
    }
   ],
   "source": [
    "x = np.array([group[0] for group in p])\n",
    "y = np.array([group[1] for group in p])\n",
    "plt.plot(x, y, 'ro')\n",
    "plt.plot(x,alpha*x+beta )"
   ]
  },
  {
   "cell_type": "code",
   "execution_count": null,
   "metadata": {},
   "outputs": [],
   "source": []
  }
 ],
 "metadata": {
  "kernelspec": {
   "display_name": "Python 3",
   "language": "python",
   "name": "python3"
  },
  "language_info": {
   "codemirror_mode": {
    "name": "ipython",
    "version": 3
   },
   "file_extension": ".py",
   "mimetype": "text/x-python",
   "name": "python",
   "nbconvert_exporter": "python",
   "pygments_lexer": "ipython3",
   "version": "3.6.5"
  }
 },
 "nbformat": 4,
 "nbformat_minor": 2
}
