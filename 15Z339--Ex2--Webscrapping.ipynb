{
 "cells": [
  {
   "cell_type": "markdown",
   "metadata": {},
   "source": [
    "## Exercise 2\n",
    "# Perform web scrapping on PSG Tech (IM) Website"
   ]
  },
  {
   "cell_type": "code",
   "execution_count": 5,
   "metadata": {},
   "outputs": [
    {
     "name": "stdout",
     "output_type": "stream",
     "text": [
      "<Response [200]>\n"
     ]
    }
   ],
   "source": [
    "import requests\n",
    "req  = requests.get(\"http://psgim.ac.in/2017/01/full-time-faculty/\")\n",
    "print(req)"
   ]
  },
  {
   "cell_type": "code",
   "execution_count": 12,
   "metadata": {},
   "outputs": [
    {
     "name": "stdout",
     "output_type": "stream",
     "text": [
      "No of Faculties 32\n",
      "1 Dr Archana Krishnan\n",
      "2 DR ARUL RAJAN K\n",
      "3 DR Balasudarsun N L\n",
      "4 DR DEEPA R\n",
      "5 Mr Harish V \n",
      "6 DR JAGAJEEVAN R\n",
      "7 DR JOSHUA SELVAKUMAR J\n",
      "8 Mr Karthikeyan M S\n",
      "9 Mr KARTHIKEYAN L \n",
      "10 DR KAVITHA D\n",
      "11 Dr KRISHNAVENI R\n",
      "12 DR KRISHNAVENI MUTHIAH R\n",
      "13 Dr MANJU P GEORGE\n",
      "14 MR Manikandan S S\n",
      "15 DR MANSURALI A\n",
      "16 Ms Muthu Janaki\n",
      "17 Ms Rajeswari R\n",
      "18 DR RAMAN H\n",
      "19 Dr RAMKUMAR N\n",
      "20 DR SATHISH M\n",
      "21 DR SATHYANARAYANAN R S\n",
      "22 DR SEKKIZHAR J\n",
      "23  Dr Srigayathri Devi K\n",
      "24 Dr SRIVIDYA V\n",
      "25 DR SUJATHA R \n",
      "26 DR SUDHARANI RAVINDRAN D\n",
      "27 DR SWAMYNATHAN R\n",
      "28 DR THILAGAM V\n",
      "29 DR UMA MAHESWARI B\n",
      "30 DR UMESH CHANDRASEKHAR\n",
      "31 Dr VIJAYA T G\n",
      "32 DR VIVEK N\n"
     ]
    }
   ],
   "source": [
    "from bs4 import BeautifulSoup\n",
    "soup = BeautifulSoup(req.content, 'html.parser')\n",
    "faculty = soup.findAll('div',{\"class\":\"vc_column-inner\"})\n",
    "facultyName = []\n",
    "for i in range(len(faculty)):\n",
    "    if faculty[i].find('h4'):\n",
    "        facultyName.append(faculty[i].find('h4').text)\n",
    "print('No of Faculties',len(facultyName))\n",
    "for i in range(len(facultyName)):\n",
    "    print(str(i+1)+\" \"+facultyName[i])"
   ]
  },
  {
   "cell_type": "code",
   "execution_count": 13,
   "metadata": {},
   "outputs": [
    {
     "name": "stdout",
     "output_type": "stream",
     "text": [
      "DR ARUL RAJAN K\n",
      "DR Balasudarsun N L\n",
      "DR DEEPA R\n",
      "DR JAGAJEEVAN R\n",
      "DR JOSHUA SELVAKUMAR J\n",
      "DR KAVITHA D\n",
      "DR KRISHNAVENI MUTHIAH R\n",
      "DR MANSURALI A\n",
      "DR RAMAN H\n",
      "DR SATHISH M\n",
      "DR SATHYANARAYANAN R S\n",
      "DR SEKKIZHAR J\n",
      "DR SUJATHA R \n",
      "DR SUDHARANI RAVINDRAN D\n",
      "DR SWAMYNATHAN R\n",
      "DR THILAGAM V\n",
      "DR UMA MAHESWARI B\n",
      "DR UMESH CHANDRASEKHAR\n",
      "DR VIVEK N\n"
     ]
    }
   ],
   "source": [
    "for i in list(soup.select(\"div a\")):\n",
    "    str=i.text\n",
    "    if(len(str)==0):\n",
    "        continue\n",
    "    if(str[0]=='D' and str[1]=='R'):\n",
    "        print(str)"
   ]
  }
 ],
 "metadata": {
  "kernelspec": {
   "display_name": "Python 3",
   "language": "python",
   "name": "python3"
  },
  "language_info": {
   "codemirror_mode": {
    "name": "ipython",
    "version": 3
   },
   "file_extension": ".py",
   "mimetype": "text/x-python",
   "name": "python",
   "nbconvert_exporter": "python",
   "pygments_lexer": "ipython3",
   "version": "3.7.0"
  }
 },
 "nbformat": 4,
 "nbformat_minor": 2
}
