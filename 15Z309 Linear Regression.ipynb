{
 "cells": [
  {
   "cell_type": "code",
   "execution_count": 37,
   "metadata": {},
   "outputs": [
    {
     "name": "stdout",
     "output_type": "stream",
     "text": [
      "The regression model is: \n",
      "y = 0.9415x + 2.7361\n"
     ]
    },
    {
     "data": {
      "text/plain": [
       "[<matplotlib.lines.Line2D at 0x1b820c08e48>]"
      ]
     },
     "execution_count": 37,
     "metadata": {},
     "output_type": "execute_result"
    },
    {
     "data": {
      "image/png": "[encoded data removed]",
      "text/plain": [
       "<Figure size 432x288 with 1 Axes>"
      ]
     },
     "metadata": {},
     "output_type": "display_data"
    }
   ],
   "source": [
    "import matplotlib.pyplot as plt\n",
    "import pandas as pd\n",
    "import numpy as np\n",
    "\n",
    "#Read the sample csv file\n",
    "x1 = pd.read_csv(\"regression_sample.csv\",usecols=[0])\n",
    "y1 = pd.read_csv(\"regression_sample.csv\",usecols=[1])\n",
    "\n",
    "#Conver the dataframe into a list\n",
    "x_list = x1.values.tolist()\n",
    "y_list = y1.values.tolist()\n",
    "\n",
    "#Calculate the mean\n",
    "x_mean = np.mean(x_list)\n",
    "y_mean = np.mean(y_list)\n",
    "\n",
    "#Calculate the sum of product of x and y values\n",
    "xy=0\n",
    "for i in range(len(x_list)):\n",
    "    xy = xy + (x_list[i][0]*y_list[i][0])\n",
    "\n",
    "#Calculate the beta value\n",
    "be = (xy - n*x_mean*y_mean)/((sum([i[0]**2 for i in x_list])) - n*(x_mean**2))\n",
    "\n",
    "#Calculate the alpha value\n",
    "al = y_mean - be * x_mean\n",
    "\n",
    "#Print the regression model\n",
    "print(\"The regression model is: \")\n",
    "print(\"y = \"+str(round(be,4))+\"x + \"+str(round(al,4)))\n",
    "x = np.array(x_list)\n",
    "y = np.array(y_list)\n",
    "\n",
    "#Plot the given data points\n",
    "plt.plot(x, y, 'ro')\n",
    "\n",
    "#Plot the obtained regression line\n",
    "plt.plot(x,be*x+al)"
   ]
  }
 ],
 "metadata": {
  "kernelspec": {
   "display_name": "Python 3",
   "language": "python",
   "name": "python3"
  },
  "language_info": {
   "codemirror_mode": {
    "name": "ipython",
    "version": 3
   },
   "file_extension": ".py",
   "mimetype": "text/x-python",
   "name": "python",
   "nbconvert_exporter": "python",
   "pygments_lexer": "ipython3",
   "version": "3.6.5"
  }
 },
 "nbformat": 4,
 "nbformat_minor": 2
}
