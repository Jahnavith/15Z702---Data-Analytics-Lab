{
 "cells": [
  {
   "cell_type": "code",
   "execution_count": 17,
   "metadata": {},
   "outputs": [
    {
     "name": "stdout",
     "output_type": "stream",
     "text": [
      "Dr. K. Jayachandran\n",
      "Dr. Denesh Narasimhan\n",
      "Dr. Anith Kumar\n",
      "Dr. G. jagadeeswaran\n",
      "Dr. L. S. SOMASUNDARAM\n",
      "Dr. Sujaya Menon\n",
      "Dr. S. Sujith Kumar\n",
      "Dr. T. Saravanan\n",
      "Dr. R. Tolstoy\n",
      "Dr. A. Murali\n",
      "Dr. Balavinoth\n",
      "Dr. Mohammed Zeya Ansari\n",
      "Dr. K. Srinivasan\n",
      "Dr. P. Velammal\n",
      "Dr. M. Santini\n",
      "Dr. C. Yoganathan\n",
      "Dr. P. Sudha Mary Philip\n"
     ]
    }
   ],
   "source": [
    "import requests\n",
    "from bs4 import BeautifulSoup\n",
    "import re\n",
    "url = \"http://psgimsr.ac.in/general-medicine/#verticalTab2\"\n",
    "page = requests.get(url)\n",
    "soup = BeautifulSoup(page.content,'html.parser')\n",
    "l = soup.find_all(\"a\")\n",
    "for i in range(len(l)):\n",
    "    str = l[i].get_text()\n",
    "    pattern = \"^Dr.\"\n",
    "    if(re.match(pattern,str)):\n",
    "        print(str)"
   ]
  }
 ],
 "metadata": {
  "kernelspec": {
   "display_name": "Python 3",
   "language": "python",
   "name": "python3"
  },
  "language_info": {
   "codemirror_mode": {
    "name": "ipython",
    "version": 3
   },
   "file_extension": ".py",
   "mimetype": "text/x-python",
   "name": "python",
   "nbconvert_exporter": "python",
   "pygments_lexer": "ipython3",
   "version": "3.6.5"
  }
 },
 "nbformat": 4,
 "nbformat_minor": 2
}
