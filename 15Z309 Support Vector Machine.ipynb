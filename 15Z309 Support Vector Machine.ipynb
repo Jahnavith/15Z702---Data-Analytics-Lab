{
 "cells": [
  {
   "cell_type": "code",
   "execution_count": 12,
   "metadata": {},
   "outputs": [
    {
     "name": "stdout",
     "output_type": "stream",
     "text": [
      "The accuracy is : 1.0\n"
     ]
    }
   ],
   "source": [
    "import pandas as pd\n",
    "from sklearn import preprocessing\n",
    "from sklearn.model_selection import train_test_split\n",
    "\n",
    "#import data from the csv file\n",
    "data = pd.read_csv('iris.csv')\n",
    "\n",
    "#convert the species attribute from categorical to continuous\n",
    "if data.species.dtype == 'object':\n",
    "    lbl = preprocessing.LabelEncoder()\n",
    "    lbl.fit(list(data.species.values))\n",
    "    data.species = lbl.transform(list(data.species.values))\n",
    "    \n",
    "\n",
    "#take the species attribute as the class label\n",
    "y_val = data.species.values\n",
    "\n",
    "#all other attributes other than species is taken as the x values\n",
    "x_val = data.drop(['species'],axis=1).values\n",
    "\n",
    "\n",
    "#split the data into training and testing data\n",
    "x_train, x_test, y_train, y_test = train_test_split(x_val[y_val<2],y_val[y_val<2], test_size= 0.15)\n",
    "\n",
    "from sklearn import svm\n",
    "from sklearn.metrics import accuracy_score\n",
    "\n",
    "#build the SVM model\n",
    "svm_model = svm.LinearSVC(random_state=25)\n",
    "\n",
    "#fit the data in the model\n",
    "svm_model.fit(x_train, y_train)\n",
    "\n",
    "#predict the test data\n",
    "y_pred = svm_model.predict(x_test)\n",
    "\n",
    "#print the accuracy\n",
    "print(\"The accuracy is : \"+str(round(accuracy_score(y_test, y_pred),4)))\n",
    "\n",
    "#Since SVM is a very preliminary model, it gives an accuracy of 100% for this Iris dataset.\n",
    "#The accuracy might change if the dataset considered is different.\n"
   ]
  }
 ],
 "metadata": {
  "kernelspec": {
   "display_name": "Python 3",
   "language": "python",
   "name": "python3"
  },
  "language_info": {
   "codemirror_mode": {
    "name": "ipython",
    "version": 3
   },
   "file_extension": ".py",
   "mimetype": "text/x-python",
   "name": "python",
   "nbconvert_exporter": "python",
   "pygments_lexer": "ipython3",
   "version": "3.6.5"
  }
 },
 "nbformat": 4,
 "nbformat_minor": 2
}
