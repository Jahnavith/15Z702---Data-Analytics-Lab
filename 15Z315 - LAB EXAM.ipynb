{
 "cells": [
  {
   "cell_type": "markdown",
   "metadata": {},
   "source": [
    "# Get a basic description of the data\n",
    "\n",
    "15Z315"
   ]
  },
  {
   "cell_type": "code",
   "execution_count": 14,
   "metadata": {},
   "outputs": [
    {
     "name": "stdout",
     "output_type": "stream",
     "text": [
      "    ge   cst   tnp   twp   iap   esp arr         ms ls    as   ...         fq  \\\n",
      "0    F     G  Good  Good    Vg  Good   Y  Unmarried  V  Paid   ...         Um   \n",
      "1    M   OBC    Vg    Vg    Vg    Vg   N  Unmarried  V  Paid   ...         Um   \n",
      "2    F   OBC  Good  Good    Vg  Good   N  Unmarried  V  Paid   ...         12   \n",
      "3    M  MOBC  Pass  Good    Vg  Good   N  Unmarried  V  Paid   ...         12   \n",
      "4    M     G  Good  Good    Vg    Vg   N  Unmarried  V  Paid   ...         10   \n",
      "5    M   OBC    Vg  Good    Vg    Vg   N  Unmarried  V  Paid   ...         10   \n",
      "6    F   OBC  Good    Vg  Good  Good   N  Unmarried  V  Paid   ...         12   \n",
      "7    F   OBC  Good  Good  Good  Good   N  Unmarried  V  Paid   ...         Il   \n",
      "8    F  MOBC    Vg  Good  Good    Vg   Y  Unmarried  V  Paid   ...         12   \n",
      "9    F   OBC    Vg    Vg  Good    Vg   Y  Unmarried  V  Paid   ...     Degree   \n",
      "10   M    ST    Vg    Vg  Good    Vg   N  Unmarried  V  Paid   ...         Pg   \n",
      "11   F   OBC    Vg    Vg  Good    Vg   N  Unmarried  V  Paid   ...     Degree   \n",
      "12   M   OBC  Good  Good  Good  Good   Y  Unmarried  V  Paid   ...     Degree   \n",
      "13   M   OBC  Good  Good  Pass    Vg   N  Unmarried  V  Paid   ...         Il   \n",
      "14   F     G    Vg    Vg  Good    Vg   N  Unmarried  V  Paid   ...     Degree   \n",
      "15   F    ST    Vg  Good  Good    Vg   Y  Unmarried  V  Paid   ...         10   \n",
      "16   F    ST    Vg    Vg    Vg    Vg   N  Unmarried  V  Paid   ...         Pg   \n",
      "17   M   OBC  Good  Good    Vg  Good   Y  Unmarried  V  Paid   ...         12   \n",
      "18   M    ST  Good  Good    Vg  Good   Y  Unmarried  V  Paid   ...         10   \n",
      "19   M    ST    Vg    Vg    Vg    Vg   Y  Unmarried  V  Paid   ...     Degree   \n",
      "20   F     G    Vg    Vg    Vg    Vg   N  Unmarried  V  Paid   ...     Degree   \n",
      "21   F     G    Vg  Good    Vg    Vg   Y  Unmarried  V  Paid   ...         10   \n",
      "22   F   OBC    Vg    Vg    Vg  Best   N  Unmarried  V  Paid   ...     Degree   \n",
      "23   F   OBC    Vg  Good    Vg    Vg   Y  Unmarried  V  Paid   ...         10   \n",
      "24   F     G    Vg  Good    Vg  Good   N  Unmarried  V  Paid   ...         12   \n",
      "25   F     G    Vg    Vg    Vg  Good   N  Unmarried  T  Paid   ...         Il   \n",
      "26   F   OBC  Good  Good    Vg    Vg   Y  Unmarried  T  Paid   ...         10   \n",
      "27   F   OBC  Good  Good    Vg  Good   Y  Unmarried  V  Paid   ...         Um   \n",
      "28   M     G  Good  Good  Good  Good   Y  Unmarried  T  Paid   ...         Pg   \n",
      "29   F   OBC    Vg    Vg  Good  Good   Y  Unmarried  V  Free   ...         12   \n",
      "..  ..   ...   ...   ...   ...   ...  ..        ... ..   ...   ...        ...   \n",
      "101  M  MOBC  Good  Pass    Vg  Pass   N  Unmarried  V  Free   ...         Um   \n",
      "102  M     G  Pass  Good    Vg  Pass   Y  Unmarried  V  Free   ...         Um   \n",
      "103  M     G  Good  Pass  Good  Good   Y  Unmarried  V  Free   ...         Um   \n",
      "104  M   OBC  Good  Pass    Vg  Pass   Y  Unmarried  V  Free   ...         Um   \n",
      "105  M     G  Good  Pass    Vg  Pass   Y  Unmarried  V  Free   ...     Degree   \n",
      "106  M  MOBC  Pass    Vg    Vg  Good   N  Unmarried  V  Free   ...         Il   \n",
      "107  M   OBC  Good  Pass  Good  Pass   Y  Unmarried  V  Free   ...         Il   \n",
      "108  F   OBC  Pass  Good  Good  Good   N  Unmarried  V  Free   ...         Um   \n",
      "109  M   OBC  Pass  Good  Good  Pass   Y  Unmarried  V  Free   ...         Um   \n",
      "110  M    ST  Good  Good  Pass  Pass   Y  Unmarried  V  Free   ...         12   \n",
      "111  M    ST    Vg  Good    Vg  Pass   Y  Unmarried  V  Free   ...         Um   \n",
      "112  M    ST  Pass  Good  Good  Pass   Y  Unmarried  V  Paid   ...         12   \n",
      "113  F     G  Good  Pass  Good  Pass   Y  Unmarried  T  Free   ...         Um   \n",
      "114  F     G  Pass  Pass  Pass  Pass   Y  Unmarried  T  Free   ...         Il   \n",
      "115  F     G  Good  Good  Good  Good   N  Unmarried  T  Free   ...     Degree   \n",
      "116  M     G  Good  Good  Good  Good   N  Unmarried  V  Free   ...     Degree   \n",
      "117  M     G  Good  Best    Vg    Vg   N  Unmarried  V  Paid   ...     Degree   \n",
      "118  M   OBC  Pass    Vg  Good  Pass   Y  Unmarried  V  Free   ...         10   \n",
      "119  M     G    Vg    Vg    Vg    Vg   N  Unmarried  T  Paid   ...         12   \n",
      "120  F     G  Good    Vg    Vg  Good   N  Unmarried  V  Free   ...         Il   \n",
      "121  M   OBC  Pass  Pass  Good  Pass   Y  Unmarried  V  Free   ...         Um   \n",
      "122  M   OBC  Good  Pass    Vg  Good   N  Unmarried  V  Free   ...         Il   \n",
      "123  M   OBC  Good  Good  Good  Good   Y  Unmarried  T  Paid   ...         12   \n",
      "124  M   OBC  Good  Good    Vg  Good   Y  Unmarried  V  Free   ...         Il   \n",
      "125  M   OBC  Pass  Good  Good  Pass   N  Unmarried  T  Free   ...         10   \n",
      "126  M     G  Pass  Good  Good  Pass   Y  Unmarried  T  Free   ...         Um   \n",
      "127  M  MOBC    Vg    Vg  Good  Good   N  Unmarried  V  Free   ...         10   \n",
      "128  F   OBC  Good  Good    Vg  Good   N  Unmarried  V  Free   ...         Il   \n",
      "129  M    ST  Pass  Pass  Good  Pass   Y  Unmarried  V  Free   ...         Um   \n",
      "130  M     G  Pass  Good  Good  Pass   Y  Unmarried  V  Free   ...         Um   \n",
      "\n",
      "         mq        fo         mo       nf       sh       ss   me       tt  \\\n",
      "0        10    Farmer  Housewife    Large     Poor     Govt  Asm    Small   \n",
      "1        Il   Service    Service    Small     Poor     Govt  Asm  Average   \n",
      "2        10   Service  Housewife  Average  Average     Govt  Asm    Large   \n",
      "3        Um  Business   Business    Large     Poor     Govt  Asm  Average   \n",
      "4        12   Service  Housewife    Large     Poor  Private  Asm    Small   \n",
      "5        Um    Farmer  Housewife    Small     Poor  Private  Eng  Average   \n",
      "6    Degree   Service    Service  Average     Poor     Govt  Asm    Small   \n",
      "7        Um    Farmer  Housewife    Small     Poor  Private  Asm  Average   \n",
      "8        10    Others  Housewife    Small     Good     Govt  Asm  Average   \n",
      "9    Degree    Others  Housewife    Large  Average     Govt  Asm  Average   \n",
      "10       Pg   Retired    Retired    Large     Good  Private  Eng    Large   \n",
      "11       12   Service  Housewife    Large  Average     Govt  Eng  Average   \n",
      "12       10   Service  Housewife    Large     Poor  Private  Eng  Average   \n",
      "13       Il    Others  Housewife    Large     Good     Govt  Asm  Average   \n",
      "14       10  Business  Housewife    Large     Poor     Govt  Eng    Small   \n",
      "15       10    Others  Housewife    Large  Average     Govt  Asm  Average   \n",
      "16       12  Business  Housewife    Large     Poor  Private  Eng    Small   \n",
      "17       12    Farmer  Housewife    Large  Average     Govt  Eng    Small   \n",
      "18       12    Farmer  Housewife    Large  Average     Govt  Eng    Small   \n",
      "19       12    Farmer  Housewife    Large     Poor     Govt  Eng  Average   \n",
      "20   Degree   Service  Housewife    Large     Poor     Govt  Eng    Small   \n",
      "21       10   Service  Housewife    Large     Poor  Private  Eng    Small   \n",
      "22       Pg  Business    Service    Large  Average     Govt  Eng    Small   \n",
      "23       Um    Farmer  Housewife    Large  Average     Govt  Eng    Small   \n",
      "24       Um  Business  Housewife    Large     Poor     Govt  Eng    Small   \n",
      "25       Il  Business  Housewife    Large     Poor     Govt  Eng  Average   \n",
      "26       10   Service  Housewife    Large     Poor     Govt  Eng    Small   \n",
      "27       Um    Others  Housewife    Large  Average  Private  Eng    Small   \n",
      "28   Degree   Service  Housewife    Large     Poor  Private  Eng  Average   \n",
      "29       10    Others  Housewife    Small  Average  Private  Asm  Average   \n",
      "..      ...       ...        ...      ...      ...      ...  ...      ...   \n",
      "101      Il    Farmer    Service    Small  Average     Govt  Asm    Large   \n",
      "102      Um    Farmer  Housewife  Average  Average     Govt  Asm  Average   \n",
      "103      Um    Farmer  Housewife  Average  Average     Govt  Asm    Small   \n",
      "104      Um   Service    Service    Large  Average     Govt  Asm  Average   \n",
      "105      12   Service  Housewife  Average  Average     Govt  Asm    Small   \n",
      "106      Il   Service  Housewife    Large  Average  Private  Asm    Small   \n",
      "107      Il    Others    Service  Average     Poor     Govt  Asm    Small   \n",
      "108      10   Service    Service  Average  Average     Govt  Asm    Small   \n",
      "109      Um    Farmer  Housewife  Average  Average     Govt  Asm  Average   \n",
      "110      Um    Farmer  Housewife  Average  Average     Govt  Asm  Average   \n",
      "111      Um    Farmer  Housewife    Small     Poor     Govt  Asm  Average   \n",
      "112      Um   Retired  Housewife  Average  Average     Govt  Asm  Average   \n",
      "113      Um  Business  Housewife  Average  Average  Private  Asm  Average   \n",
      "114      Il    Others  Housewife  Average     Poor     Govt  Asm  Average   \n",
      "115      12  Business  Housewife  Average     Good     Govt  Asm  Average   \n",
      "116      10    Farmer  Housewife  Average  Average     Govt  Asm  Average   \n",
      "117  Degree    Others  Housewife  Average  Average     Govt  Asm    Large   \n",
      "118      Um    Others  Housewife  Average  Average  Private  Asm  Average   \n",
      "119      12   Service  Housewife  Average  Average     Govt  Asm    Small   \n",
      "120      Il    Farmer  Housewife    Small     Poor     Govt  Asm    Small   \n",
      "121      Um    Farmer  Housewife  Average  Average     Govt  Asm  Average   \n",
      "122      10   Service  Housewife  Average     Poor     Govt  Asm    Small   \n",
      "123      Um  Business  Housewife  Average     Good     Govt  Eng    Small   \n",
      "124      Il   Service  Housewife  Average  Average     Govt  Asm  Average   \n",
      "125      Um   Service  Housewife    Small  Average     Govt  Eng  Average   \n",
      "126      Il   Service  Housewife    Small  Average     Govt  Asm    Small   \n",
      "127      Um    Farmer  Housewife  Average     Poor     Govt  Asm    Small   \n",
      "128      Il    Farmer  Housewife    Small  Average     Govt  Asm    Large   \n",
      "129      Um   Service  Housewife  Average  Average     Govt  Asm    Large   \n",
      "130      Um  Business  Housewife  Average  Average     Govt  Asm    Small   \n",
      "\n",
      "         atd  \n",
      "0       Good  \n",
      "1    Average  \n",
      "2       Good  \n",
      "3    Average  \n",
      "4       Good  \n",
      "5    Average  \n",
      "6       Good  \n",
      "7       Good  \n",
      "8       Good  \n",
      "9       Good  \n",
      "10      Good  \n",
      "11      Good  \n",
      "12      Good  \n",
      "13      Good  \n",
      "14      Good  \n",
      "15      Good  \n",
      "16      Good  \n",
      "17      Good  \n",
      "18      Good  \n",
      "19      Good  \n",
      "20      Good  \n",
      "21      Good  \n",
      "22      Good  \n",
      "23      Good  \n",
      "24      Good  \n",
      "25   Average  \n",
      "26   Average  \n",
      "27      Good  \n",
      "28   Average  \n",
      "29   Average  \n",
      "..       ...  \n",
      "101  Average  \n",
      "102     Good  \n",
      "103  Average  \n",
      "104     Poor  \n",
      "105     Poor  \n",
      "106  Average  \n",
      "107     Poor  \n",
      "108     Poor  \n",
      "109  Average  \n",
      "110     Poor  \n",
      "111     Poor  \n",
      "112     Poor  \n",
      "113     Good  \n",
      "114  Average  \n",
      "115  Average  \n",
      "116     Poor  \n",
      "117  Average  \n",
      "118  Average  \n",
      "119  Average  \n",
      "120     Good  \n",
      "121     Poor  \n",
      "122     Poor  \n",
      "123  Average  \n",
      "124     Poor  \n",
      "125     Good  \n",
      "126     Poor  \n",
      "127  Average  \n",
      "128     Good  \n",
      "129  Average  \n",
      "130  Average  \n",
      "\n",
      "[131 rows x 22 columns]\n"
     ]
    }
   ],
   "source": [
    "import pandas as pd\n",
    "import numpy as np\n",
    "df = pd.read_csv(\"Sapfile2.csv\")\n",
    "print(df)"
   ]
  },
  {
   "cell_type": "code",
   "execution_count": 15,
   "metadata": {},
   "outputs": [
    {
     "data": {
      "text/plain": [
       "(131, 22)"
      ]
     },
     "execution_count": 15,
     "metadata": {},
     "output_type": "execute_result"
    }
   ],
   "source": [
    "df.shape"
   ]
  },
  {
   "cell_type": "code",
   "execution_count": 16,
   "metadata": {},
   "outputs": [
    {
     "data": {
      "text/plain": [
       "ge     object\n",
       "cst    object\n",
       "tnp    object\n",
       "twp    object\n",
       "iap    object\n",
       "esp    object\n",
       "arr    object\n",
       "ms     object\n",
       "ls     object\n",
       "as     object\n",
       "fmi    object\n",
       "fs     object\n",
       "fq     object\n",
       "mq     object\n",
       "fo     object\n",
       "mo     object\n",
       "nf     object\n",
       "sh     object\n",
       "ss     object\n",
       "me     object\n",
       "tt     object\n",
       "atd    object\n",
       "dtype: object"
      ]
     },
     "execution_count": 16,
     "metadata": {},
     "output_type": "execute_result"
    }
   ],
   "source": [
    "df.dtypes"
   ]
  },
  {
   "cell_type": "code",
   "execution_count": 37,
   "metadata": {},
   "outputs": [
    {
     "data": {
      "text/plain": [
       "2"
      ]
     },
     "execution_count": 37,
     "metadata": {},
     "output_type": "execute_result"
    }
   ],
   "source": [
    "df.ndim"
   ]
  },
  {
   "cell_type": "code",
   "execution_count": 17,
   "metadata": {},
   "outputs": [
    {
     "data": {
      "text/plain": [
       "<bound method NDFrame.describe of     ge   cst   tnp   twp   iap   esp arr         ms ls    as   ...         fq  \\\n",
       "0    F     G  Good  Good    Vg  Good   Y  Unmarried  V  Paid   ...         Um   \n",
       "1    M   OBC    Vg    Vg    Vg    Vg   N  Unmarried  V  Paid   ...         Um   \n",
       "2    F   OBC  Good  Good    Vg  Good   N  Unmarried  V  Paid   ...         12   \n",
       "3    M  MOBC  Pass  Good    Vg  Good   N  Unmarried  V  Paid   ...         12   \n",
       "4    M     G  Good  Good    Vg    Vg   N  Unmarried  V  Paid   ...         10   \n",
       "5    M   OBC    Vg  Good    Vg    Vg   N  Unmarried  V  Paid   ...         10   \n",
       "6    F   OBC  Good    Vg  Good  Good   N  Unmarried  V  Paid   ...         12   \n",
       "7    F   OBC  Good  Good  Good  Good   N  Unmarried  V  Paid   ...         Il   \n",
       "8    F  MOBC    Vg  Good  Good    Vg   Y  Unmarried  V  Paid   ...         12   \n",
       "9    F   OBC    Vg    Vg  Good    Vg   Y  Unmarried  V  Paid   ...     Degree   \n",
       "10   M    ST    Vg    Vg  Good    Vg   N  Unmarried  V  Paid   ...         Pg   \n",
       "11   F   OBC    Vg    Vg  Good    Vg   N  Unmarried  V  Paid   ...     Degree   \n",
       "12   M   OBC  Good  Good  Good  Good   Y  Unmarried  V  Paid   ...     Degree   \n",
       "13   M   OBC  Good  Good  Pass    Vg   N  Unmarried  V  Paid   ...         Il   \n",
       "14   F     G    Vg    Vg  Good    Vg   N  Unmarried  V  Paid   ...     Degree   \n",
       "15   F    ST    Vg  Good  Good    Vg   Y  Unmarried  V  Paid   ...         10   \n",
       "16   F    ST    Vg    Vg    Vg    Vg   N  Unmarried  V  Paid   ...         Pg   \n",
       "17   M   OBC  Good  Good    Vg  Good   Y  Unmarried  V  Paid   ...         12   \n",
       "18   M    ST  Good  Good    Vg  Good   Y  Unmarried  V  Paid   ...         10   \n",
       "19   M    ST    Vg    Vg    Vg    Vg   Y  Unmarried  V  Paid   ...     Degree   \n",
       "20   F     G    Vg    Vg    Vg    Vg   N  Unmarried  V  Paid   ...     Degree   \n",
       "21   F     G    Vg  Good    Vg    Vg   Y  Unmarried  V  Paid   ...         10   \n",
       "22   F   OBC    Vg    Vg    Vg  Best   N  Unmarried  V  Paid   ...     Degree   \n",
       "23   F   OBC    Vg  Good    Vg    Vg   Y  Unmarried  V  Paid   ...         10   \n",
       "24   F     G    Vg  Good    Vg  Good   N  Unmarried  V  Paid   ...         12   \n",
       "25   F     G    Vg    Vg    Vg  Good   N  Unmarried  T  Paid   ...         Il   \n",
       "26   F   OBC  Good  Good    Vg    Vg   Y  Unmarried  T  Paid   ...         10   \n",
       "27   F   OBC  Good  Good    Vg  Good   Y  Unmarried  V  Paid   ...         Um   \n",
       "28   M     G  Good  Good  Good  Good   Y  Unmarried  T  Paid   ...         Pg   \n",
       "29   F   OBC    Vg    Vg  Good  Good   Y  Unmarried  V  Free   ...         12   \n",
       "..  ..   ...   ...   ...   ...   ...  ..        ... ..   ...   ...        ...   \n",
       "101  M  MOBC  Good  Pass    Vg  Pass   N  Unmarried  V  Free   ...         Um   \n",
       "102  M     G  Pass  Good    Vg  Pass   Y  Unmarried  V  Free   ...         Um   \n",
       "103  M     G  Good  Pass  Good  Good   Y  Unmarried  V  Free   ...         Um   \n",
       "104  M   OBC  Good  Pass    Vg  Pass   Y  Unmarried  V  Free   ...         Um   \n",
       "105  M     G  Good  Pass    Vg  Pass   Y  Unmarried  V  Free   ...     Degree   \n",
       "106  M  MOBC  Pass    Vg    Vg  Good   N  Unmarried  V  Free   ...         Il   \n",
       "107  M   OBC  Good  Pass  Good  Pass   Y  Unmarried  V  Free   ...         Il   \n",
       "108  F   OBC  Pass  Good  Good  Good   N  Unmarried  V  Free   ...         Um   \n",
       "109  M   OBC  Pass  Good  Good  Pass   Y  Unmarried  V  Free   ...         Um   \n",
       "110  M    ST  Good  Good  Pass  Pass   Y  Unmarried  V  Free   ...         12   \n",
       "111  M    ST    Vg  Good    Vg  Pass   Y  Unmarried  V  Free   ...         Um   \n",
       "112  M    ST  Pass  Good  Good  Pass   Y  Unmarried  V  Paid   ...         12   \n",
       "113  F     G  Good  Pass  Good  Pass   Y  Unmarried  T  Free   ...         Um   \n",
       "114  F     G  Pass  Pass  Pass  Pass   Y  Unmarried  T  Free   ...         Il   \n",
       "115  F     G  Good  Good  Good  Good   N  Unmarried  T  Free   ...     Degree   \n",
       "116  M     G  Good  Good  Good  Good   N  Unmarried  V  Free   ...     Degree   \n",
       "117  M     G  Good  Best    Vg    Vg   N  Unmarried  V  Paid   ...     Degree   \n",
       "118  M   OBC  Pass    Vg  Good  Pass   Y  Unmarried  V  Free   ...         10   \n",
       "119  M     G    Vg    Vg    Vg    Vg   N  Unmarried  T  Paid   ...         12   \n",
       "120  F     G  Good    Vg    Vg  Good   N  Unmarried  V  Free   ...         Il   \n",
       "121  M   OBC  Pass  Pass  Good  Pass   Y  Unmarried  V  Free   ...         Um   \n",
       "122  M   OBC  Good  Pass    Vg  Good   N  Unmarried  V  Free   ...         Il   \n",
       "123  M   OBC  Good  Good  Good  Good   Y  Unmarried  T  Paid   ...         12   \n",
       "124  M   OBC  Good  Good    Vg  Good   Y  Unmarried  V  Free   ...         Il   \n",
       "125  M   OBC  Pass  Good  Good  Pass   N  Unmarried  T  Free   ...         10   \n",
       "126  M     G  Pass  Good  Good  Pass   Y  Unmarried  T  Free   ...         Um   \n",
       "127  M  MOBC    Vg    Vg  Good  Good   N  Unmarried  V  Free   ...         10   \n",
       "128  F   OBC  Good  Good    Vg  Good   N  Unmarried  V  Free   ...         Il   \n",
       "129  M    ST  Pass  Pass  Good  Pass   Y  Unmarried  V  Free   ...         Um   \n",
       "130  M     G  Pass  Good  Good  Pass   Y  Unmarried  V  Free   ...         Um   \n",
       "\n",
       "         mq        fo         mo       nf       sh       ss   me       tt  \\\n",
       "0        10    Farmer  Housewife    Large     Poor     Govt  Asm    Small   \n",
       "1        Il   Service    Service    Small     Poor     Govt  Asm  Average   \n",
       "2        10   Service  Housewife  Average  Average     Govt  Asm    Large   \n",
       "3        Um  Business   Business    Large     Poor     Govt  Asm  Average   \n",
       "4        12   Service  Housewife    Large     Poor  Private  Asm    Small   \n",
       "5        Um    Farmer  Housewife    Small     Poor  Private  Eng  Average   \n",
       "6    Degree   Service    Service  Average     Poor     Govt  Asm    Small   \n",
       "7        Um    Farmer  Housewife    Small     Poor  Private  Asm  Average   \n",
       "8        10    Others  Housewife    Small     Good     Govt  Asm  Average   \n",
       "9    Degree    Others  Housewife    Large  Average     Govt  Asm  Average   \n",
       "10       Pg   Retired    Retired    Large     Good  Private  Eng    Large   \n",
       "11       12   Service  Housewife    Large  Average     Govt  Eng  Average   \n",
       "12       10   Service  Housewife    Large     Poor  Private  Eng  Average   \n",
       "13       Il    Others  Housewife    Large     Good     Govt  Asm  Average   \n",
       "14       10  Business  Housewife    Large     Poor     Govt  Eng    Small   \n",
       "15       10    Others  Housewife    Large  Average     Govt  Asm  Average   \n",
       "16       12  Business  Housewife    Large     Poor  Private  Eng    Small   \n",
       "17       12    Farmer  Housewife    Large  Average     Govt  Eng    Small   \n",
       "18       12    Farmer  Housewife    Large  Average     Govt  Eng    Small   \n",
       "19       12    Farmer  Housewife    Large     Poor     Govt  Eng  Average   \n",
       "20   Degree   Service  Housewife    Large     Poor     Govt  Eng    Small   \n",
       "21       10   Service  Housewife    Large     Poor  Private  Eng    Small   \n",
       "22       Pg  Business    Service    Large  Average     Govt  Eng    Small   \n",
       "23       Um    Farmer  Housewife    Large  Average     Govt  Eng    Small   \n",
       "24       Um  Business  Housewife    Large     Poor     Govt  Eng    Small   \n",
       "25       Il  Business  Housewife    Large     Poor     Govt  Eng  Average   \n",
       "26       10   Service  Housewife    Large     Poor     Govt  Eng    Small   \n",
       "27       Um    Others  Housewife    Large  Average  Private  Eng    Small   \n",
       "28   Degree   Service  Housewife    Large     Poor  Private  Eng  Average   \n",
       "29       10    Others  Housewife    Small  Average  Private  Asm  Average   \n",
       "..      ...       ...        ...      ...      ...      ...  ...      ...   \n",
       "101      Il    Farmer    Service    Small  Average     Govt  Asm    Large   \n",
       "102      Um    Farmer  Housewife  Average  Average     Govt  Asm  Average   \n",
       "103      Um    Farmer  Housewife  Average  Average     Govt  Asm    Small   \n",
       "104      Um   Service    Service    Large  Average     Govt  Asm  Average   \n",
       "105      12   Service  Housewife  Average  Average     Govt  Asm    Small   \n",
       "106      Il   Service  Housewife    Large  Average  Private  Asm    Small   \n",
       "107      Il    Others    Service  Average     Poor     Govt  Asm    Small   \n",
       "108      10   Service    Service  Average  Average     Govt  Asm    Small   \n",
       "109      Um    Farmer  Housewife  Average  Average     Govt  Asm  Average   \n",
       "110      Um    Farmer  Housewife  Average  Average     Govt  Asm  Average   \n",
       "111      Um    Farmer  Housewife    Small     Poor     Govt  Asm  Average   \n",
       "112      Um   Retired  Housewife  Average  Average     Govt  Asm  Average   \n",
       "113      Um  Business  Housewife  Average  Average  Private  Asm  Average   \n",
       "114      Il    Others  Housewife  Average     Poor     Govt  Asm  Average   \n",
       "115      12  Business  Housewife  Average     Good     Govt  Asm  Average   \n",
       "116      10    Farmer  Housewife  Average  Average     Govt  Asm  Average   \n",
       "117  Degree    Others  Housewife  Average  Average     Govt  Asm    Large   \n",
       "118      Um    Others  Housewife  Average  Average  Private  Asm  Average   \n",
       "119      12   Service  Housewife  Average  Average     Govt  Asm    Small   \n",
       "120      Il    Farmer  Housewife    Small     Poor     Govt  Asm    Small   \n",
       "121      Um    Farmer  Housewife  Average  Average     Govt  Asm  Average   \n",
       "122      10   Service  Housewife  Average     Poor     Govt  Asm    Small   \n",
       "123      Um  Business  Housewife  Average     Good     Govt  Eng    Small   \n",
       "124      Il   Service  Housewife  Average  Average     Govt  Asm  Average   \n",
       "125      Um   Service  Housewife    Small  Average     Govt  Eng  Average   \n",
       "126      Il   Service  Housewife    Small  Average     Govt  Asm    Small   \n",
       "127      Um    Farmer  Housewife  Average     Poor     Govt  Asm    Small   \n",
       "128      Il    Farmer  Housewife    Small  Average     Govt  Asm    Large   \n",
       "129      Um   Service  Housewife  Average  Average     Govt  Asm    Large   \n",
       "130      Um  Business  Housewife  Average  Average     Govt  Asm    Small   \n",
       "\n",
       "         atd  \n",
       "0       Good  \n",
       "1    Average  \n",
       "2       Good  \n",
       "3    Average  \n",
       "4       Good  \n",
       "5    Average  \n",
       "6       Good  \n",
       "7       Good  \n",
       "8       Good  \n",
       "9       Good  \n",
       "10      Good  \n",
       "11      Good  \n",
       "12      Good  \n",
       "13      Good  \n",
       "14      Good  \n",
       "15      Good  \n",
       "16      Good  \n",
       "17      Good  \n",
       "18      Good  \n",
       "19      Good  \n",
       "20      Good  \n",
       "21      Good  \n",
       "22      Good  \n",
       "23      Good  \n",
       "24      Good  \n",
       "25   Average  \n",
       "26   Average  \n",
       "27      Good  \n",
       "28   Average  \n",
       "29   Average  \n",
       "..       ...  \n",
       "101  Average  \n",
       "102     Good  \n",
       "103  Average  \n",
       "104     Poor  \n",
       "105     Poor  \n",
       "106  Average  \n",
       "107     Poor  \n",
       "108     Poor  \n",
       "109  Average  \n",
       "110     Poor  \n",
       "111     Poor  \n",
       "112     Poor  \n",
       "113     Good  \n",
       "114  Average  \n",
       "115  Average  \n",
       "116     Poor  \n",
       "117  Average  \n",
       "118  Average  \n",
       "119  Average  \n",
       "120     Good  \n",
       "121     Poor  \n",
       "122     Poor  \n",
       "123  Average  \n",
       "124     Poor  \n",
       "125     Good  \n",
       "126     Poor  \n",
       "127  Average  \n",
       "128     Good  \n",
       "129  Average  \n",
       "130  Average  \n",
       "\n",
       "[131 rows x 22 columns]>"
      ]
     },
     "execution_count": 17,
     "metadata": {},
     "output_type": "execute_result"
    }
   ],
   "source": [
    "df.describe"
   ]
  },
  {
   "cell_type": "markdown",
   "metadata": {},
   "source": [
    "# Visualize the data"
   ]
  },
  {
   "cell_type": "code",
   "execution_count": 92,
   "metadata": {},
   "outputs": [
    {
     "data": {
      "text/plain": [
       "<matplotlib.axes._subplots.AxesSubplot at 0x276460a4d30>"
      ]
     },
     "execution_count": 92,
     "metadata": {},
     "output_type": "execute_result"
    },
    {
     "data": {
      "image/png": "[encoded data removed]",
      "text/plain": [
       "<Figure size 432x288 with 1 Axes>"
      ]
     },
     "metadata": {},
     "output_type": "display_data"
    }
   ],
   "source": [
    "import matplotlib.pyplot as plt\n",
    "df[\"ge\"].value_counts().plot.bar()"
   ]
  },
  {
   "cell_type": "code",
   "execution_count": 93,
   "metadata": {},
   "outputs": [
    {
     "data": {
      "text/plain": [
       "<matplotlib.axes._subplots.AxesSubplot at 0x27646134fd0>"
      ]
     },
     "execution_count": 93,
     "metadata": {},
     "output_type": "execute_result"
    },
    {
     "data": {
      "image/png": "[encoded data removed]",
      "text/plain": [
       "<Figure size 432x288 with 1 Axes>"
      ]
     },
     "metadata": {},
     "output_type": "display_data"
    }
   ],
   "source": [
    "df[\"atd\"].value_counts().plot.bar()"
   ]
  },
  {
   "cell_type": "code",
   "execution_count": 95,
   "metadata": {},
   "outputs": [
    {
     "data": {
      "text/plain": [
       "<matplotlib.axes._subplots.AxesSubplot at 0x2764623a588>"
      ]
     },
     "execution_count": 95,
     "metadata": {},
     "output_type": "execute_result"
    },
    {
     "data": {
      "image/png": "[encoded data removed]",
      "text/plain": [
       "<Figure size 432x288 with 1 Axes>"
      ]
     },
     "metadata": {},
     "output_type": "display_data"
    }
   ],
   "source": [
    "df[\"ms\"].value_counts().plot.bar()"
   ]
  },
  {
   "cell_type": "code",
   "execution_count": 99,
   "metadata": {},
   "outputs": [
    {
     "data": {
      "text/plain": [
       "<matplotlib.axes._subplots.AxesSubplot at 0x276462939b0>"
      ]
     },
     "execution_count": 99,
     "metadata": {},
     "output_type": "execute_result"
    },
    {
     "data": {
      "image/png": "[encoded data removed]",
      "text/plain": [
       "<Figure size 432x288 with 1 Axes>"
      ]
     },
     "metadata": {},
     "output_type": "display_data"
    }
   ],
   "source": [
    "df[\"esp\"].value_counts().plot.bar()"
   ]
  },
  {
   "cell_type": "markdown",
   "metadata": {},
   "source": [
    "# Identify patterns in it"
   ]
  },
  {
   "cell_type": "code",
   "execution_count": 73,
   "metadata": {},
   "outputs": [
    {
     "name": "stdout",
     "output_type": "stream",
     "text": [
      "Counter({frozenset({'Good'}): 56, frozenset({'Average'}): 47, frozenset({'Poor'}): 28})\n"
     ]
    }
   ],
   "source": [
    "from collections import Counter\n",
    "import csv\n",
    "\n",
    "with open(\"Sapfile2.csv\") as f:\n",
    "    next(f)\n",
    "    counts = Counter(frozenset(tuple(row[-1].split(\",\")))\n",
    "                     for row in csv.reader(f))\n",
    "    print(counts)"
   ]
  },
  {
   "cell_type": "code",
   "execution_count": 94,
   "metadata": {},
   "outputs": [
    {
     "data": {
      "text/plain": [
       "array(['Good', 'Vg', 'Pass', 'Best'], dtype=object)"
      ]
     },
     "execution_count": 94,
     "metadata": {},
     "output_type": "execute_result"
    }
   ],
   "source": [
    "df['twp'].unique()"
   ]
  },
  {
   "cell_type": "code",
   "execution_count": 96,
   "metadata": {},
   "outputs": [
    {
     "data": {
      "text/plain": [
       "array(['F', 'M'], dtype=object)"
      ]
     },
     "execution_count": 96,
     "metadata": {},
     "output_type": "execute_result"
    }
   ],
   "source": [
    "df['ge'].unique()"
   ]
  },
  {
   "cell_type": "code",
   "execution_count": 97,
   "metadata": {},
   "outputs": [
    {
     "data": {
      "text/plain": [
       "array(['Good', 'Average', 'Poor'], dtype=object)"
      ]
     },
     "execution_count": 97,
     "metadata": {},
     "output_type": "execute_result"
    }
   ],
   "source": [
    "df['atd'].unique()"
   ]
  },
  {
   "cell_type": "code",
   "execution_count": 98,
   "metadata": {},
   "outputs": [
    {
     "data": {
      "text/plain": [
       "array(['Medium', 'Low', 'Am', 'High', 'Vh'], dtype=object)"
      ]
     },
     "execution_count": 98,
     "metadata": {},
     "output_type": "execute_result"
    }
   ],
   "source": [
    "df['fmi'].unique()"
   ]
  },
  {
   "cell_type": "markdown",
   "metadata": {},
   "source": [
    "# Identify challenges if any in using the data"
   ]
  },
  {
   "cell_type": "code",
   "execution_count": 91,
   "metadata": {},
   "outputs": [
    {
     "data": {
      "text/plain": [
       "False"
      ]
     },
     "execution_count": 91,
     "metadata": {},
     "output_type": "execute_result"
    }
   ],
   "source": [
    "pd.isnull(df).values.any()"
   ]
  },
  {
   "cell_type": "markdown",
   "metadata": {},
   "source": [
    "# Get the descriptive statistics"
   ]
  },
  {
   "cell_type": "code",
   "execution_count": 46,
   "metadata": {},
   "outputs": [
    {
     "data": {
      "text/plain": [
       "dtype('O')"
      ]
     },
     "execution_count": 46,
     "metadata": {},
     "output_type": "execute_result"
    }
   ],
   "source": [
    "df['ge'].dtype"
   ]
  },
  {
   "cell_type": "code",
   "execution_count": 47,
   "metadata": {},
   "outputs": [
    {
     "data": {
      "text/plain": [
       "2882"
      ]
     },
     "execution_count": 47,
     "metadata": {},
     "output_type": "execute_result"
    }
   ],
   "source": [
    "df.size"
   ]
  },
  {
   "cell_type": "code",
   "execution_count": 48,
   "metadata": {},
   "outputs": [
    {
     "data": {
      "text/plain": [
       "Series([], dtype: float64)"
      ]
     },
     "execution_count": 48,
     "metadata": {},
     "output_type": "execute_result"
    }
   ],
   "source": [
    "df.std()"
   ]
  },
  {
   "cell_type": "code",
   "execution_count": 49,
   "metadata": {},
   "outputs": [
    {
     "data": {
      "text/plain": [
       "<bound method DataFrame.sum of     ge   cst   tnp   twp   iap   esp arr         ms ls    as   ...         fq  \\\n",
       "0    F     G  Good  Good    Vg  Good   Y  Unmarried  V  Paid   ...         Um   \n",
       "1    M   OBC    Vg    Vg    Vg    Vg   N  Unmarried  V  Paid   ...         Um   \n",
       "2    F   OBC  Good  Good    Vg  Good   N  Unmarried  V  Paid   ...         12   \n",
       "3    M  MOBC  Pass  Good    Vg  Good   N  Unmarried  V  Paid   ...         12   \n",
       "4    M     G  Good  Good    Vg    Vg   N  Unmarried  V  Paid   ...         10   \n",
       "5    M   OBC    Vg  Good    Vg    Vg   N  Unmarried  V  Paid   ...         10   \n",
       "6    F   OBC  Good    Vg  Good  Good   N  Unmarried  V  Paid   ...         12   \n",
       "7    F   OBC  Good  Good  Good  Good   N  Unmarried  V  Paid   ...         Il   \n",
       "8    F  MOBC    Vg  Good  Good    Vg   Y  Unmarried  V  Paid   ...         12   \n",
       "9    F   OBC    Vg    Vg  Good    Vg   Y  Unmarried  V  Paid   ...     Degree   \n",
       "10   M    ST    Vg    Vg  Good    Vg   N  Unmarried  V  Paid   ...         Pg   \n",
       "11   F   OBC    Vg    Vg  Good    Vg   N  Unmarried  V  Paid   ...     Degree   \n",
       "12   M   OBC  Good  Good  Good  Good   Y  Unmarried  V  Paid   ...     Degree   \n",
       "13   M   OBC  Good  Good  Pass    Vg   N  Unmarried  V  Paid   ...         Il   \n",
       "14   F     G    Vg    Vg  Good    Vg   N  Unmarried  V  Paid   ...     Degree   \n",
       "15   F    ST    Vg  Good  Good    Vg   Y  Unmarried  V  Paid   ...         10   \n",
       "16   F    ST    Vg    Vg    Vg    Vg   N  Unmarried  V  Paid   ...         Pg   \n",
       "17   M   OBC  Good  Good    Vg  Good   Y  Unmarried  V  Paid   ...         12   \n",
       "18   M    ST  Good  Good    Vg  Good   Y  Unmarried  V  Paid   ...         10   \n",
       "19   M    ST    Vg    Vg    Vg    Vg   Y  Unmarried  V  Paid   ...     Degree   \n",
       "20   F     G    Vg    Vg    Vg    Vg   N  Unmarried  V  Paid   ...     Degree   \n",
       "21   F     G    Vg  Good    Vg    Vg   Y  Unmarried  V  Paid   ...         10   \n",
       "22   F   OBC    Vg    Vg    Vg  Best   N  Unmarried  V  Paid   ...     Degree   \n",
       "23   F   OBC    Vg  Good    Vg    Vg   Y  Unmarried  V  Paid   ...         10   \n",
       "24   F     G    Vg  Good    Vg  Good   N  Unmarried  V  Paid   ...         12   \n",
       "25   F     G    Vg    Vg    Vg  Good   N  Unmarried  T  Paid   ...         Il   \n",
       "26   F   OBC  Good  Good    Vg    Vg   Y  Unmarried  T  Paid   ...         10   \n",
       "27   F   OBC  Good  Good    Vg  Good   Y  Unmarried  V  Paid   ...         Um   \n",
       "28   M     G  Good  Good  Good  Good   Y  Unmarried  T  Paid   ...         Pg   \n",
       "29   F   OBC    Vg    Vg  Good  Good   Y  Unmarried  V  Free   ...         12   \n",
       "..  ..   ...   ...   ...   ...   ...  ..        ... ..   ...   ...        ...   \n",
       "101  M  MOBC  Good  Pass    Vg  Pass   N  Unmarried  V  Free   ...         Um   \n",
       "102  M     G  Pass  Good    Vg  Pass   Y  Unmarried  V  Free   ...         Um   \n",
       "103  M     G  Good  Pass  Good  Good   Y  Unmarried  V  Free   ...         Um   \n",
       "104  M   OBC  Good  Pass    Vg  Pass   Y  Unmarried  V  Free   ...         Um   \n",
       "105  M     G  Good  Pass    Vg  Pass   Y  Unmarried  V  Free   ...     Degree   \n",
       "106  M  MOBC  Pass    Vg    Vg  Good   N  Unmarried  V  Free   ...         Il   \n",
       "107  M   OBC  Good  Pass  Good  Pass   Y  Unmarried  V  Free   ...         Il   \n",
       "108  F   OBC  Pass  Good  Good  Good   N  Unmarried  V  Free   ...         Um   \n",
       "109  M   OBC  Pass  Good  Good  Pass   Y  Unmarried  V  Free   ...         Um   \n",
       "110  M    ST  Good  Good  Pass  Pass   Y  Unmarried  V  Free   ...         12   \n",
       "111  M    ST    Vg  Good    Vg  Pass   Y  Unmarried  V  Free   ...         Um   \n",
       "112  M    ST  Pass  Good  Good  Pass   Y  Unmarried  V  Paid   ...         12   \n",
       "113  F     G  Good  Pass  Good  Pass   Y  Unmarried  T  Free   ...         Um   \n",
       "114  F     G  Pass  Pass  Pass  Pass   Y  Unmarried  T  Free   ...         Il   \n",
       "115  F     G  Good  Good  Good  Good   N  Unmarried  T  Free   ...     Degree   \n",
       "116  M     G  Good  Good  Good  Good   N  Unmarried  V  Free   ...     Degree   \n",
       "117  M     G  Good  Best    Vg    Vg   N  Unmarried  V  Paid   ...     Degree   \n",
       "118  M   OBC  Pass    Vg  Good  Pass   Y  Unmarried  V  Free   ...         10   \n",
       "119  M     G    Vg    Vg    Vg    Vg   N  Unmarried  T  Paid   ...         12   \n",
       "120  F     G  Good    Vg    Vg  Good   N  Unmarried  V  Free   ...         Il   \n",
       "121  M   OBC  Pass  Pass  Good  Pass   Y  Unmarried  V  Free   ...         Um   \n",
       "122  M   OBC  Good  Pass    Vg  Good   N  Unmarried  V  Free   ...         Il   \n",
       "123  M   OBC  Good  Good  Good  Good   Y  Unmarried  T  Paid   ...         12   \n",
       "124  M   OBC  Good  Good    Vg  Good   Y  Unmarried  V  Free   ...         Il   \n",
       "125  M   OBC  Pass  Good  Good  Pass   N  Unmarried  T  Free   ...         10   \n",
       "126  M     G  Pass  Good  Good  Pass   Y  Unmarried  T  Free   ...         Um   \n",
       "127  M  MOBC    Vg    Vg  Good  Good   N  Unmarried  V  Free   ...         10   \n",
       "128  F   OBC  Good  Good    Vg  Good   N  Unmarried  V  Free   ...         Il   \n",
       "129  M    ST  Pass  Pass  Good  Pass   Y  Unmarried  V  Free   ...         Um   \n",
       "130  M     G  Pass  Good  Good  Pass   Y  Unmarried  V  Free   ...         Um   \n",
       "\n",
       "         mq        fo         mo       nf       sh       ss   me       tt  \\\n",
       "0        10    Farmer  Housewife    Large     Poor     Govt  Asm    Small   \n",
       "1        Il   Service    Service    Small     Poor     Govt  Asm  Average   \n",
       "2        10   Service  Housewife  Average  Average     Govt  Asm    Large   \n",
       "3        Um  Business   Business    Large     Poor     Govt  Asm  Average   \n",
       "4        12   Service  Housewife    Large     Poor  Private  Asm    Small   \n",
       "5        Um    Farmer  Housewife    Small     Poor  Private  Eng  Average   \n",
       "6    Degree   Service    Service  Average     Poor     Govt  Asm    Small   \n",
       "7        Um    Farmer  Housewife    Small     Poor  Private  Asm  Average   \n",
       "8        10    Others  Housewife    Small     Good     Govt  Asm  Average   \n",
       "9    Degree    Others  Housewife    Large  Average     Govt  Asm  Average   \n",
       "10       Pg   Retired    Retired    Large     Good  Private  Eng    Large   \n",
       "11       12   Service  Housewife    Large  Average     Govt  Eng  Average   \n",
       "12       10   Service  Housewife    Large     Poor  Private  Eng  Average   \n",
       "13       Il    Others  Housewife    Large     Good     Govt  Asm  Average   \n",
       "14       10  Business  Housewife    Large     Poor     Govt  Eng    Small   \n",
       "15       10    Others  Housewife    Large  Average     Govt  Asm  Average   \n",
       "16       12  Business  Housewife    Large     Poor  Private  Eng    Small   \n",
       "17       12    Farmer  Housewife    Large  Average     Govt  Eng    Small   \n",
       "18       12    Farmer  Housewife    Large  Average     Govt  Eng    Small   \n",
       "19       12    Farmer  Housewife    Large     Poor     Govt  Eng  Average   \n",
       "20   Degree   Service  Housewife    Large     Poor     Govt  Eng    Small   \n",
       "21       10   Service  Housewife    Large     Poor  Private  Eng    Small   \n",
       "22       Pg  Business    Service    Large  Average     Govt  Eng    Small   \n",
       "23       Um    Farmer  Housewife    Large  Average     Govt  Eng    Small   \n",
       "24       Um  Business  Housewife    Large     Poor     Govt  Eng    Small   \n",
       "25       Il  Business  Housewife    Large     Poor     Govt  Eng  Average   \n",
       "26       10   Service  Housewife    Large     Poor     Govt  Eng    Small   \n",
       "27       Um    Others  Housewife    Large  Average  Private  Eng    Small   \n",
       "28   Degree   Service  Housewife    Large     Poor  Private  Eng  Average   \n",
       "29       10    Others  Housewife    Small  Average  Private  Asm  Average   \n",
       "..      ...       ...        ...      ...      ...      ...  ...      ...   \n",
       "101      Il    Farmer    Service    Small  Average     Govt  Asm    Large   \n",
       "102      Um    Farmer  Housewife  Average  Average     Govt  Asm  Average   \n",
       "103      Um    Farmer  Housewife  Average  Average     Govt  Asm    Small   \n",
       "104      Um   Service    Service    Large  Average     Govt  Asm  Average   \n",
       "105      12   Service  Housewife  Average  Average     Govt  Asm    Small   \n",
       "106      Il   Service  Housewife    Large  Average  Private  Asm    Small   \n",
       "107      Il    Others    Service  Average     Poor     Govt  Asm    Small   \n",
       "108      10   Service    Service  Average  Average     Govt  Asm    Small   \n",
       "109      Um    Farmer  Housewife  Average  Average     Govt  Asm  Average   \n",
       "110      Um    Farmer  Housewife  Average  Average     Govt  Asm  Average   \n",
       "111      Um    Farmer  Housewife    Small     Poor     Govt  Asm  Average   \n",
       "112      Um   Retired  Housewife  Average  Average     Govt  Asm  Average   \n",
       "113      Um  Business  Housewife  Average  Average  Private  Asm  Average   \n",
       "114      Il    Others  Housewife  Average     Poor     Govt  Asm  Average   \n",
       "115      12  Business  Housewife  Average     Good     Govt  Asm  Average   \n",
       "116      10    Farmer  Housewife  Average  Average     Govt  Asm  Average   \n",
       "117  Degree    Others  Housewife  Average  Average     Govt  Asm    Large   \n",
       "118      Um    Others  Housewife  Average  Average  Private  Asm  Average   \n",
       "119      12   Service  Housewife  Average  Average     Govt  Asm    Small   \n",
       "120      Il    Farmer  Housewife    Small     Poor     Govt  Asm    Small   \n",
       "121      Um    Farmer  Housewife  Average  Average     Govt  Asm  Average   \n",
       "122      10   Service  Housewife  Average     Poor     Govt  Asm    Small   \n",
       "123      Um  Business  Housewife  Average     Good     Govt  Eng    Small   \n",
       "124      Il   Service  Housewife  Average  Average     Govt  Asm  Average   \n",
       "125      Um   Service  Housewife    Small  Average     Govt  Eng  Average   \n",
       "126      Il   Service  Housewife    Small  Average     Govt  Asm    Small   \n",
       "127      Um    Farmer  Housewife  Average     Poor     Govt  Asm    Small   \n",
       "128      Il    Farmer  Housewife    Small  Average     Govt  Asm    Large   \n",
       "129      Um   Service  Housewife  Average  Average     Govt  Asm    Large   \n",
       "130      Um  Business  Housewife  Average  Average     Govt  Asm    Small   \n",
       "\n",
       "         atd  \n",
       "0       Good  \n",
       "1    Average  \n",
       "2       Good  \n",
       "3    Average  \n",
       "4       Good  \n",
       "5    Average  \n",
       "6       Good  \n",
       "7       Good  \n",
       "8       Good  \n",
       "9       Good  \n",
       "10      Good  \n",
       "11      Good  \n",
       "12      Good  \n",
       "13      Good  \n",
       "14      Good  \n",
       "15      Good  \n",
       "16      Good  \n",
       "17      Good  \n",
       "18      Good  \n",
       "19      Good  \n",
       "20      Good  \n",
       "21      Good  \n",
       "22      Good  \n",
       "23      Good  \n",
       "24      Good  \n",
       "25   Average  \n",
       "26   Average  \n",
       "27      Good  \n",
       "28   Average  \n",
       "29   Average  \n",
       "..       ...  \n",
       "101  Average  \n",
       "102     Good  \n",
       "103  Average  \n",
       "104     Poor  \n",
       "105     Poor  \n",
       "106  Average  \n",
       "107     Poor  \n",
       "108     Poor  \n",
       "109  Average  \n",
       "110     Poor  \n",
       "111     Poor  \n",
       "112     Poor  \n",
       "113     Good  \n",
       "114  Average  \n",
       "115  Average  \n",
       "116     Poor  \n",
       "117  Average  \n",
       "118  Average  \n",
       "119  Average  \n",
       "120     Good  \n",
       "121     Poor  \n",
       "122     Poor  \n",
       "123  Average  \n",
       "124     Poor  \n",
       "125     Good  \n",
       "126     Poor  \n",
       "127  Average  \n",
       "128     Good  \n",
       "129  Average  \n",
       "130  Average  \n",
       "\n",
       "[131 rows x 22 columns]>"
      ]
     },
     "execution_count": 49,
     "metadata": {},
     "output_type": "execute_result"
    }
   ],
   "source": [
    "df.sum"
   ]
  },
  {
   "cell_type": "code",
   "execution_count": 50,
   "metadata": {},
   "outputs": [
    {
     "data": {
      "text/plain": [
       "<bound method DataFrame.mean of     ge   cst   tnp   twp   iap   esp arr         ms ls    as   ...         fq  \\\n",
       "0    F     G  Good  Good    Vg  Good   Y  Unmarried  V  Paid   ...         Um   \n",
       "1    M   OBC    Vg    Vg    Vg    Vg   N  Unmarried  V  Paid   ...         Um   \n",
       "2    F   OBC  Good  Good    Vg  Good   N  Unmarried  V  Paid   ...         12   \n",
       "3    M  MOBC  Pass  Good    Vg  Good   N  Unmarried  V  Paid   ...         12   \n",
       "4    M     G  Good  Good    Vg    Vg   N  Unmarried  V  Paid   ...         10   \n",
       "5    M   OBC    Vg  Good    Vg    Vg   N  Unmarried  V  Paid   ...         10   \n",
       "6    F   OBC  Good    Vg  Good  Good   N  Unmarried  V  Paid   ...         12   \n",
       "7    F   OBC  Good  Good  Good  Good   N  Unmarried  V  Paid   ...         Il   \n",
       "8    F  MOBC    Vg  Good  Good    Vg   Y  Unmarried  V  Paid   ...         12   \n",
       "9    F   OBC    Vg    Vg  Good    Vg   Y  Unmarried  V  Paid   ...     Degree   \n",
       "10   M    ST    Vg    Vg  Good    Vg   N  Unmarried  V  Paid   ...         Pg   \n",
       "11   F   OBC    Vg    Vg  Good    Vg   N  Unmarried  V  Paid   ...     Degree   \n",
       "12   M   OBC  Good  Good  Good  Good   Y  Unmarried  V  Paid   ...     Degree   \n",
       "13   M   OBC  Good  Good  Pass    Vg   N  Unmarried  V  Paid   ...         Il   \n",
       "14   F     G    Vg    Vg  Good    Vg   N  Unmarried  V  Paid   ...     Degree   \n",
       "15   F    ST    Vg  Good  Good    Vg   Y  Unmarried  V  Paid   ...         10   \n",
       "16   F    ST    Vg    Vg    Vg    Vg   N  Unmarried  V  Paid   ...         Pg   \n",
       "17   M   OBC  Good  Good    Vg  Good   Y  Unmarried  V  Paid   ...         12   \n",
       "18   M    ST  Good  Good    Vg  Good   Y  Unmarried  V  Paid   ...         10   \n",
       "19   M    ST    Vg    Vg    Vg    Vg   Y  Unmarried  V  Paid   ...     Degree   \n",
       "20   F     G    Vg    Vg    Vg    Vg   N  Unmarried  V  Paid   ...     Degree   \n",
       "21   F     G    Vg  Good    Vg    Vg   Y  Unmarried  V  Paid   ...         10   \n",
       "22   F   OBC    Vg    Vg    Vg  Best   N  Unmarried  V  Paid   ...     Degree   \n",
       "23   F   OBC    Vg  Good    Vg    Vg   Y  Unmarried  V  Paid   ...         10   \n",
       "24   F     G    Vg  Good    Vg  Good   N  Unmarried  V  Paid   ...         12   \n",
       "25   F     G    Vg    Vg    Vg  Good   N  Unmarried  T  Paid   ...         Il   \n",
       "26   F   OBC  Good  Good    Vg    Vg   Y  Unmarried  T  Paid   ...         10   \n",
       "27   F   OBC  Good  Good    Vg  Good   Y  Unmarried  V  Paid   ...         Um   \n",
       "28   M     G  Good  Good  Good  Good   Y  Unmarried  T  Paid   ...         Pg   \n",
       "29   F   OBC    Vg    Vg  Good  Good   Y  Unmarried  V  Free   ...         12   \n",
       "..  ..   ...   ...   ...   ...   ...  ..        ... ..   ...   ...        ...   \n",
       "101  M  MOBC  Good  Pass    Vg  Pass   N  Unmarried  V  Free   ...         Um   \n",
       "102  M     G  Pass  Good    Vg  Pass   Y  Unmarried  V  Free   ...         Um   \n",
       "103  M     G  Good  Pass  Good  Good   Y  Unmarried  V  Free   ...         Um   \n",
       "104  M   OBC  Good  Pass    Vg  Pass   Y  Unmarried  V  Free   ...         Um   \n",
       "105  M     G  Good  Pass    Vg  Pass   Y  Unmarried  V  Free   ...     Degree   \n",
       "106  M  MOBC  Pass    Vg    Vg  Good   N  Unmarried  V  Free   ...         Il   \n",
       "107  M   OBC  Good  Pass  Good  Pass   Y  Unmarried  V  Free   ...         Il   \n",
       "108  F   OBC  Pass  Good  Good  Good   N  Unmarried  V  Free   ...         Um   \n",
       "109  M   OBC  Pass  Good  Good  Pass   Y  Unmarried  V  Free   ...         Um   \n",
       "110  M    ST  Good  Good  Pass  Pass   Y  Unmarried  V  Free   ...         12   \n",
       "111  M    ST    Vg  Good    Vg  Pass   Y  Unmarried  V  Free   ...         Um   \n",
       "112  M    ST  Pass  Good  Good  Pass   Y  Unmarried  V  Paid   ...         12   \n",
       "113  F     G  Good  Pass  Good  Pass   Y  Unmarried  T  Free   ...         Um   \n",
       "114  F     G  Pass  Pass  Pass  Pass   Y  Unmarried  T  Free   ...         Il   \n",
       "115  F     G  Good  Good  Good  Good   N  Unmarried  T  Free   ...     Degree   \n",
       "116  M     G  Good  Good  Good  Good   N  Unmarried  V  Free   ...     Degree   \n",
       "117  M     G  Good  Best    Vg    Vg   N  Unmarried  V  Paid   ...     Degree   \n",
       "118  M   OBC  Pass    Vg  Good  Pass   Y  Unmarried  V  Free   ...         10   \n",
       "119  M     G    Vg    Vg    Vg    Vg   N  Unmarried  T  Paid   ...         12   \n",
       "120  F     G  Good    Vg    Vg  Good   N  Unmarried  V  Free   ...         Il   \n",
       "121  M   OBC  Pass  Pass  Good  Pass   Y  Unmarried  V  Free   ...         Um   \n",
       "122  M   OBC  Good  Pass    Vg  Good   N  Unmarried  V  Free   ...         Il   \n",
       "123  M   OBC  Good  Good  Good  Good   Y  Unmarried  T  Paid   ...         12   \n",
       "124  M   OBC  Good  Good    Vg  Good   Y  Unmarried  V  Free   ...         Il   \n",
       "125  M   OBC  Pass  Good  Good  Pass   N  Unmarried  T  Free   ...         10   \n",
       "126  M     G  Pass  Good  Good  Pass   Y  Unmarried  T  Free   ...         Um   \n",
       "127  M  MOBC    Vg    Vg  Good  Good   N  Unmarried  V  Free   ...         10   \n",
       "128  F   OBC  Good  Good    Vg  Good   N  Unmarried  V  Free   ...         Il   \n",
       "129  M    ST  Pass  Pass  Good  Pass   Y  Unmarried  V  Free   ...         Um   \n",
       "130  M     G  Pass  Good  Good  Pass   Y  Unmarried  V  Free   ...         Um   \n",
       "\n",
       "         mq        fo         mo       nf       sh       ss   me       tt  \\\n",
       "0        10    Farmer  Housewife    Large     Poor     Govt  Asm    Small   \n",
       "1        Il   Service    Service    Small     Poor     Govt  Asm  Average   \n",
       "2        10   Service  Housewife  Average  Average     Govt  Asm    Large   \n",
       "3        Um  Business   Business    Large     Poor     Govt  Asm  Average   \n",
       "4        12   Service  Housewife    Large     Poor  Private  Asm    Small   \n",
       "5        Um    Farmer  Housewife    Small     Poor  Private  Eng  Average   \n",
       "6    Degree   Service    Service  Average     Poor     Govt  Asm    Small   \n",
       "7        Um    Farmer  Housewife    Small     Poor  Private  Asm  Average   \n",
       "8        10    Others  Housewife    Small     Good     Govt  Asm  Average   \n",
       "9    Degree    Others  Housewife    Large  Average     Govt  Asm  Average   \n",
       "10       Pg   Retired    Retired    Large     Good  Private  Eng    Large   \n",
       "11       12   Service  Housewife    Large  Average     Govt  Eng  Average   \n",
       "12       10   Service  Housewife    Large     Poor  Private  Eng  Average   \n",
       "13       Il    Others  Housewife    Large     Good     Govt  Asm  Average   \n",
       "14       10  Business  Housewife    Large     Poor     Govt  Eng    Small   \n",
       "15       10    Others  Housewife    Large  Average     Govt  Asm  Average   \n",
       "16       12  Business  Housewife    Large     Poor  Private  Eng    Small   \n",
       "17       12    Farmer  Housewife    Large  Average     Govt  Eng    Small   \n",
       "18       12    Farmer  Housewife    Large  Average     Govt  Eng    Small   \n",
       "19       12    Farmer  Housewife    Large     Poor     Govt  Eng  Average   \n",
       "20   Degree   Service  Housewife    Large     Poor     Govt  Eng    Small   \n",
       "21       10   Service  Housewife    Large     Poor  Private  Eng    Small   \n",
       "22       Pg  Business    Service    Large  Average     Govt  Eng    Small   \n",
       "23       Um    Farmer  Housewife    Large  Average     Govt  Eng    Small   \n",
       "24       Um  Business  Housewife    Large     Poor     Govt  Eng    Small   \n",
       "25       Il  Business  Housewife    Large     Poor     Govt  Eng  Average   \n",
       "26       10   Service  Housewife    Large     Poor     Govt  Eng    Small   \n",
       "27       Um    Others  Housewife    Large  Average  Private  Eng    Small   \n",
       "28   Degree   Service  Housewife    Large     Poor  Private  Eng  Average   \n",
       "29       10    Others  Housewife    Small  Average  Private  Asm  Average   \n",
       "..      ...       ...        ...      ...      ...      ...  ...      ...   \n",
       "101      Il    Farmer    Service    Small  Average     Govt  Asm    Large   \n",
       "102      Um    Farmer  Housewife  Average  Average     Govt  Asm  Average   \n",
       "103      Um    Farmer  Housewife  Average  Average     Govt  Asm    Small   \n",
       "104      Um   Service    Service    Large  Average     Govt  Asm  Average   \n",
       "105      12   Service  Housewife  Average  Average     Govt  Asm    Small   \n",
       "106      Il   Service  Housewife    Large  Average  Private  Asm    Small   \n",
       "107      Il    Others    Service  Average     Poor     Govt  Asm    Small   \n",
       "108      10   Service    Service  Average  Average     Govt  Asm    Small   \n",
       "109      Um    Farmer  Housewife  Average  Average     Govt  Asm  Average   \n",
       "110      Um    Farmer  Housewife  Average  Average     Govt  Asm  Average   \n",
       "111      Um    Farmer  Housewife    Small     Poor     Govt  Asm  Average   \n",
       "112      Um   Retired  Housewife  Average  Average     Govt  Asm  Average   \n",
       "113      Um  Business  Housewife  Average  Average  Private  Asm  Average   \n",
       "114      Il    Others  Housewife  Average     Poor     Govt  Asm  Average   \n",
       "115      12  Business  Housewife  Average     Good     Govt  Asm  Average   \n",
       "116      10    Farmer  Housewife  Average  Average     Govt  Asm  Average   \n",
       "117  Degree    Others  Housewife  Average  Average     Govt  Asm    Large   \n",
       "118      Um    Others  Housewife  Average  Average  Private  Asm  Average   \n",
       "119      12   Service  Housewife  Average  Average     Govt  Asm    Small   \n",
       "120      Il    Farmer  Housewife    Small     Poor     Govt  Asm    Small   \n",
       "121      Um    Farmer  Housewife  Average  Average     Govt  Asm  Average   \n",
       "122      10   Service  Housewife  Average     Poor     Govt  Asm    Small   \n",
       "123      Um  Business  Housewife  Average     Good     Govt  Eng    Small   \n",
       "124      Il   Service  Housewife  Average  Average     Govt  Asm  Average   \n",
       "125      Um   Service  Housewife    Small  Average     Govt  Eng  Average   \n",
       "126      Il   Service  Housewife    Small  Average     Govt  Asm    Small   \n",
       "127      Um    Farmer  Housewife  Average     Poor     Govt  Asm    Small   \n",
       "128      Il    Farmer  Housewife    Small  Average     Govt  Asm    Large   \n",
       "129      Um   Service  Housewife  Average  Average     Govt  Asm    Large   \n",
       "130      Um  Business  Housewife  Average  Average     Govt  Asm    Small   \n",
       "\n",
       "         atd  \n",
       "0       Good  \n",
       "1    Average  \n",
       "2       Good  \n",
       "3    Average  \n",
       "4       Good  \n",
       "5    Average  \n",
       "6       Good  \n",
       "7       Good  \n",
       "8       Good  \n",
       "9       Good  \n",
       "10      Good  \n",
       "11      Good  \n",
       "12      Good  \n",
       "13      Good  \n",
       "14      Good  \n",
       "15      Good  \n",
       "16      Good  \n",
       "17      Good  \n",
       "18      Good  \n",
       "19      Good  \n",
       "20      Good  \n",
       "21      Good  \n",
       "22      Good  \n",
       "23      Good  \n",
       "24      Good  \n",
       "25   Average  \n",
       "26   Average  \n",
       "27      Good  \n",
       "28   Average  \n",
       "29   Average  \n",
       "..       ...  \n",
       "101  Average  \n",
       "102     Good  \n",
       "103  Average  \n",
       "104     Poor  \n",
       "105     Poor  \n",
       "106  Average  \n",
       "107     Poor  \n",
       "108     Poor  \n",
       "109  Average  \n",
       "110     Poor  \n",
       "111     Poor  \n",
       "112     Poor  \n",
       "113     Good  \n",
       "114  Average  \n",
       "115  Average  \n",
       "116     Poor  \n",
       "117  Average  \n",
       "118  Average  \n",
       "119  Average  \n",
       "120     Good  \n",
       "121     Poor  \n",
       "122     Poor  \n",
       "123  Average  \n",
       "124     Poor  \n",
       "125     Good  \n",
       "126     Poor  \n",
       "127  Average  \n",
       "128     Good  \n",
       "129  Average  \n",
       "130  Average  \n",
       "\n",
       "[131 rows x 22 columns]>"
      ]
     },
     "execution_count": 50,
     "metadata": {},
     "output_type": "execute_result"
    }
   ],
   "source": [
    "df.mean"
   ]
  },
  {
   "cell_type": "code",
   "execution_count": 51,
   "metadata": {},
   "outputs": [
    {
     "data": {
      "text/html": [
       "<div>\n",
       "<style scoped>\n",
       "    .dataframe tbody tr th:only-of-type {\n",
       "        vertical-align: middle;\n",
       "    }\n",
       "\n",
       "    .dataframe tbody tr th {\n",
       "        vertical-align: top;\n",
       "    }\n",
       "\n",
       "    .dataframe thead th {\n",
       "        text-align: right;\n",
       "    }\n",
       "</style>\n",
       "<table border=\"1\" class=\"dataframe\">\n",
       "  <thead>\n",
       "    <tr style=\"text-align: right;\">\n",
       "      <th></th>\n",
       "      <th>ge</th>\n",
       "      <th>cst</th>\n",
       "      <th>tnp</th>\n",
       "      <th>twp</th>\n",
       "      <th>iap</th>\n",
       "      <th>esp</th>\n",
       "      <th>arr</th>\n",
       "      <th>ms</th>\n",
       "      <th>ls</th>\n",
       "      <th>as</th>\n",
       "      <th>...</th>\n",
       "      <th>fq</th>\n",
       "      <th>mq</th>\n",
       "      <th>fo</th>\n",
       "      <th>mo</th>\n",
       "      <th>nf</th>\n",
       "      <th>sh</th>\n",
       "      <th>ss</th>\n",
       "      <th>me</th>\n",
       "      <th>tt</th>\n",
       "      <th>atd</th>\n",
       "    </tr>\n",
       "  </thead>\n",
       "  <tbody>\n",
       "    <tr>\n",
       "      <th>count</th>\n",
       "      <td>131</td>\n",
       "      <td>131</td>\n",
       "      <td>131</td>\n",
       "      <td>131</td>\n",
       "      <td>131</td>\n",
       "      <td>131</td>\n",
       "      <td>131</td>\n",
       "      <td>131</td>\n",
       "      <td>131</td>\n",
       "      <td>131</td>\n",
       "      <td>...</td>\n",
       "      <td>131</td>\n",
       "      <td>131</td>\n",
       "      <td>131</td>\n",
       "      <td>131</td>\n",
       "      <td>131</td>\n",
       "      <td>131</td>\n",
       "      <td>131</td>\n",
       "      <td>131</td>\n",
       "      <td>131</td>\n",
       "      <td>131</td>\n",
       "    </tr>\n",
       "    <tr>\n",
       "      <th>unique</th>\n",
       "      <td>2</td>\n",
       "      <td>5</td>\n",
       "      <td>4</td>\n",
       "      <td>4</td>\n",
       "      <td>4</td>\n",
       "      <td>4</td>\n",
       "      <td>2</td>\n",
       "      <td>1</td>\n",
       "      <td>2</td>\n",
       "      <td>2</td>\n",
       "      <td>...</td>\n",
       "      <td>6</td>\n",
       "      <td>6</td>\n",
       "      <td>5</td>\n",
       "      <td>5</td>\n",
       "      <td>3</td>\n",
       "      <td>3</td>\n",
       "      <td>2</td>\n",
       "      <td>4</td>\n",
       "      <td>3</td>\n",
       "      <td>3</td>\n",
       "    </tr>\n",
       "    <tr>\n",
       "      <th>top</th>\n",
       "      <td>M</td>\n",
       "      <td>OBC</td>\n",
       "      <td>Good</td>\n",
       "      <td>Good</td>\n",
       "      <td>Vg</td>\n",
       "      <td>Good</td>\n",
       "      <td>N</td>\n",
       "      <td>Unmarried</td>\n",
       "      <td>V</td>\n",
       "      <td>Paid</td>\n",
       "      <td>...</td>\n",
       "      <td>Um</td>\n",
       "      <td>Um</td>\n",
       "      <td>Service</td>\n",
       "      <td>Housewife</td>\n",
       "      <td>Large</td>\n",
       "      <td>Average</td>\n",
       "      <td>Govt</td>\n",
       "      <td>Eng</td>\n",
       "      <td>Small</td>\n",
       "      <td>Good</td>\n",
       "    </tr>\n",
       "    <tr>\n",
       "      <th>freq</th>\n",
       "      <td>72</td>\n",
       "      <td>57</td>\n",
       "      <td>59</td>\n",
       "      <td>65</td>\n",
       "      <td>63</td>\n",
       "      <td>54</td>\n",
       "      <td>78</td>\n",
       "      <td>131</td>\n",
       "      <td>92</td>\n",
       "      <td>76</td>\n",
       "      <td>...</td>\n",
       "      <td>40</td>\n",
       "      <td>52</td>\n",
       "      <td>38</td>\n",
       "      <td>115</td>\n",
       "      <td>58</td>\n",
       "      <td>59</td>\n",
       "      <td>91</td>\n",
       "      <td>62</td>\n",
       "      <td>78</td>\n",
       "      <td>56</td>\n",
       "    </tr>\n",
       "  </tbody>\n",
       "</table>\n",
       "<p>4 rows × 22 columns</p>\n",
       "</div>"
      ],
      "text/plain": [
       "         ge  cst   tnp   twp  iap   esp  arr         ms   ls    as  ...    fq  \\\n",
       "count   131  131   131   131  131   131  131        131  131   131  ...   131   \n",
       "unique    2    5     4     4    4     4    2          1    2     2  ...     6   \n",
       "top       M  OBC  Good  Good   Vg  Good    N  Unmarried    V  Paid  ...    Um   \n",
       "freq     72   57    59    65   63    54   78        131   92    76  ...    40   \n",
       "\n",
       "         mq       fo         mo     nf       sh    ss   me     tt   atd  \n",
       "count   131      131        131    131      131   131  131    131   131  \n",
       "unique    6        5          5      3        3     2    4      3     3  \n",
       "top      Um  Service  Housewife  Large  Average  Govt  Eng  Small  Good  \n",
       "freq     52       38        115     58       59    91   62     78    56  \n",
       "\n",
       "[4 rows x 22 columns]"
      ]
     },
     "execution_count": 51,
     "metadata": {},
     "output_type": "execute_result"
    }
   ],
   "source": [
    "df.describe(include='all')"
   ]
  }
 ],
 "metadata": {
  "kernelspec": {
   "display_name": "Python 3",
   "language": "python",
   "name": "python3"
  },
  "language_info": {
   "codemirror_mode": {
    "name": "ipython",
    "version": 3
   },
   "file_extension": ".py",
   "mimetype": "text/x-python",
   "name": "python",
   "nbconvert_exporter": "python",
   "pygments_lexer": "ipython3",
   "version": "3.6.5"
  }
 },
 "nbformat": 4,
 "nbformat_minor": 2
}
