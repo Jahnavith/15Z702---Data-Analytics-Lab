{
 "cells": [
  {
   "cell_type": "code",
   "execution_count": 2,
   "metadata": {
    "scrolled": true
   },
   "outputs": [],
   "source": [
    "import pandas as pd\n"
   ]
  },
  {
   "cell_type": "code",
   "execution_count": 11,
   "metadata": {},
   "outputs": [
    {
     "data": {
      "text/html": [
       "<div>\n",
       "<style scoped>\n",
       "    .dataframe tbody tr th:only-of-type {\n",
       "        vertical-align: middle;\n",
       "    }\n",
       "\n",
       "    .dataframe tbody tr th {\n",
       "        vertical-align: top;\n",
       "    }\n",
       "\n",
       "    .dataframe thead th {\n",
       "        text-align: right;\n",
       "    }\n",
       "</style>\n",
       "<table border=\"1\" class=\"dataframe\">\n",
       "  <thead>\n",
       "    <tr style=\"text-align: right;\">\n",
       "      <th></th>\n",
       "      <th>@RELATION Sapfile1</th>\n",
       "    </tr>\n",
       "  </thead>\n",
       "  <tbody>\n",
       "    <tr>\n",
       "      <th>count</th>\n",
       "      <td>6</td>\n",
       "    </tr>\n",
       "    <tr>\n",
       "      <th>unique</th>\n",
       "      <td>6</td>\n",
       "    </tr>\n",
       "    <tr>\n",
       "      <th>top</th>\n",
       "      <td>Private}</td>\n",
       "    </tr>\n",
       "    <tr>\n",
       "      <th>freq</th>\n",
       "      <td>1</td>\n",
       "    </tr>\n",
       "  </tbody>\n",
       "</table>\n",
       "</div>"
      ],
      "text/plain": [
       "       @RELATION Sapfile1\n",
       "count                   6\n",
       "unique                  6\n",
       "top              Private}\n",
       "freq                    1"
      ]
     },
     "execution_count": 11,
     "metadata": {},
     "output_type": "execute_result"
    }
   ],
   "source": [
    "da.describe()"
   ]
  },
  {
   "cell_type": "code",
   "execution_count": 12,
   "metadata": {},
   "outputs": [
    {
     "data": {
      "text/html": [
       "<div>\n",
       "<style scoped>\n",
       "    .dataframe tbody tr th:only-of-type {\n",
       "        vertical-align: middle;\n",
       "    }\n",
       "\n",
       "    .dataframe tbody tr th {\n",
       "        vertical-align: top;\n",
       "    }\n",
       "\n",
       "    .dataframe thead th {\n",
       "        text-align: right;\n",
       "    }\n",
       "</style>\n",
       "<table border=\"1\" class=\"dataframe\">\n",
       "  <thead>\n",
       "    <tr style=\"text-align: right;\">\n",
       "      <th></th>\n",
       "      <th>@RELATION Sapfile1</th>\n",
       "    </tr>\n",
       "  </thead>\n",
       "  <tbody>\n",
       "    <tr>\n",
       "      <th>count</th>\n",
       "      <td>6</td>\n",
       "    </tr>\n",
       "    <tr>\n",
       "      <th>unique</th>\n",
       "      <td>6</td>\n",
       "    </tr>\n",
       "    <tr>\n",
       "      <th>top</th>\n",
       "      <td>Private}</td>\n",
       "    </tr>\n",
       "    <tr>\n",
       "      <th>freq</th>\n",
       "      <td>1</td>\n",
       "    </tr>\n",
       "  </tbody>\n",
       "</table>\n",
       "</div>"
      ],
      "text/plain": [
       "       @RELATION Sapfile1\n",
       "count                   6\n",
       "unique                  6\n",
       "top              Private}\n",
       "freq                    1"
      ]
     },
     "execution_count": 12,
     "metadata": {},
     "output_type": "execute_result"
    }
   ],
   "source": []
  },
  {
   "cell_type": "code",
   "execution_count": 3,
   "metadata": {},
   "outputs": [
    {
     "name": "stdout",
     "output_type": "stream",
     "text": [
      "               attribute         att1     att2       att3     att4 att5  \\\n",
      "0                     NaN         NaN      NaN        NaN      NaN  NaN   \n",
      "1                  ge  {M          F}      NaN        NaN      NaN  NaN   \n",
      "2                  cst {G          ST       SC        OBC    MOBC}  NaN   \n",
      "3               tnp {Best          Vg     Good       Pass    Fail}  NaN   \n",
      "4               twp {Best          Vg     Good       Pass    Fail}  NaN   \n",
      "5               iap {Best          Vg     Good       Pass    Fail}  NaN   \n",
      "6               esp {Best          Vg     Good       Pass    Fail}  NaN   \n",
      "7                  arr {Y          N}      NaN        NaN      NaN  NaN   \n",
      "8            ms  {Married  Unmarried}      NaN        NaN      NaN  NaN   \n",
      "9                  ls  {T          V}      NaN        NaN      NaN  NaN   \n",
      "10              as  {Free       Paid}      NaN        NaN      NaN  NaN   \n",
      "11                fmi {Vh        High       Am     Medium     Low}  NaN   \n",
      "12             fs  {Large     Average   Small}        NaN      NaN  NaN   \n",
      "13                fq  {Il          Um       10         12   Degree  Pg}   \n",
      "14                mq  {Il          Um       10         12   Degree  Pg}   \n",
      "15           fo  {Service    Business  Retired     Farmer  Others}  NaN   \n",
      "16           mo  {Service    Business  Retired  Housewife  Others}  NaN   \n",
      "17             nf  {Large     Average   Small}        NaN      NaN  NaN   \n",
      "18              sh  {Good     Average    Poor}        NaN      NaN  NaN   \n",
      "19              ss  {Govt    Private}      NaN        NaN      NaN  NaN   \n",
      "20               me  {Eng         Asm      Hin       Ben}      NaN  NaN   \n",
      "21             tt  {Large     Average   Small}        NaN      NaN  NaN   \n",
      "22   @ATTRIBUTE atd {Good     Average    Poor}        NaN      NaN  NaN   \n",
      "23                    NaN         NaN      NaN        NaN      NaN  NaN   \n",
      "24                    NaN         NaN      NaN        NaN      NaN  NaN   \n",
      "25                    NaN         NaN      NaN        NaN      NaN  NaN   \n",
      "26                    NaN         NaN      NaN        NaN      NaN  NaN   \n",
      "27                    NaN         NaN      NaN        NaN      NaN  NaN   \n",
      "28                    NaN         NaN      NaN        NaN      NaN  NaN   \n",
      "29                    NaN         NaN      NaN        NaN      NaN  NaN   \n",
      "..                    ...         ...      ...        ...      ...  ...   \n",
      "101                   NaN         NaN      NaN        NaN      NaN  NaN   \n",
      "102                   NaN         NaN      NaN        NaN      NaN  NaN   \n",
      "103                   NaN         NaN      NaN        NaN      NaN  NaN   \n",
      "104                   NaN         NaN      NaN        NaN      NaN  NaN   \n",
      "105                   NaN         NaN      NaN        NaN      NaN  NaN   \n",
      "106                   NaN         NaN      NaN        NaN      NaN  NaN   \n",
      "107                   NaN         NaN      NaN        NaN      NaN  NaN   \n",
      "108                   NaN         NaN      NaN        NaN      NaN  NaN   \n",
      "109                   NaN         NaN      NaN        NaN      NaN  NaN   \n",
      "110                   NaN         NaN      NaN        NaN      NaN  NaN   \n",
      "111                   NaN         NaN      NaN        NaN      NaN  NaN   \n",
      "112                   NaN         NaN      NaN        NaN      NaN  NaN   \n",
      "113                   NaN         NaN      NaN        NaN      NaN  NaN   \n",
      "114                   NaN         NaN      NaN        NaN      NaN  NaN   \n",
      "115                   NaN         NaN      NaN        NaN      NaN  NaN   \n",
      "116                   NaN         NaN      NaN        NaN      NaN  NaN   \n",
      "117                   NaN         NaN      NaN        NaN      NaN  NaN   \n",
      "118                   NaN         NaN      NaN        NaN      NaN  NaN   \n",
      "119                   NaN         NaN      NaN        NaN      NaN  NaN   \n",
      "120                   NaN         NaN      NaN        NaN      NaN  NaN   \n",
      "121                   NaN         NaN      NaN        NaN      NaN  NaN   \n",
      "122                   NaN         NaN      NaN        NaN      NaN  NaN   \n",
      "123                   NaN         NaN      NaN        NaN      NaN  NaN   \n",
      "124                   NaN         NaN      NaN        NaN      NaN  NaN   \n",
      "125                   NaN         NaN      NaN        NaN      NaN  NaN   \n",
      "126                   NaN         NaN      NaN        NaN      NaN  NaN   \n",
      "127                   NaN         NaN      NaN        NaN      NaN  NaN   \n",
      "128                   NaN         NaN      NaN        NaN      NaN  NaN   \n",
      "129                   NaN         NaN      NaN        NaN      NaN  NaN   \n",
      "130                   NaN         NaN      NaN        NaN      NaN  NaN   \n",
      "\n",
      "    gender caste    p1    p2   ...     degree degree2 profession profession 2  \\\n",
      "0        F     G  Good  Good   ...         Um      10     Farmer    Housewife   \n",
      "1        M   OBC    Vg    Vg   ...         Um      Il    Service      Service   \n",
      "2        F   OBC  Good  Good   ...         12      10    Service    Housewife   \n",
      "3        M  MOBC  Pass  Good   ...         12      Um   Business     Business   \n",
      "4        M     G  Good  Good   ...         10      12    Service    Housewife   \n",
      "5        M   OBC    Vg  Good   ...         10      Um     Farmer    Housewife   \n",
      "6        F   OBC  Good    Vg   ...         12  Degree    Service      Service   \n",
      "7        F   OBC  Good  Good   ...         Il      Um     Farmer    Housewife   \n",
      "8        F  MOBC    Vg  Good   ...         12      10     Others    Housewife   \n",
      "9        F   OBC    Vg    Vg   ...     Degree  Degree     Others    Housewife   \n",
      "10       M    ST    Vg    Vg   ...         Pg      Pg    Retired      Retired   \n",
      "11       F   OBC    Vg    Vg   ...     Degree      12    Service    Housewife   \n",
      "12       M   OBC  Good  Good   ...     Degree      10    Service    Housewife   \n",
      "13       M   OBC  Good  Good   ...         Il      Il     Others    Housewife   \n",
      "14       F     G    Vg    Vg   ...     Degree      10   Business    Housewife   \n",
      "15       F    ST    Vg  Good   ...         10      10     Others    Housewife   \n",
      "16       F    ST    Vg    Vg   ...         Pg      12   Business    Housewife   \n",
      "17       M   OBC  Good  Good   ...         12      12     Farmer    Housewife   \n",
      "18       M    ST  Good  Good   ...         10      12     Farmer    Housewife   \n",
      "19       M    ST    Vg    Vg   ...     Degree      12     Farmer    Housewife   \n",
      "20       F     G    Vg    Vg   ...     Degree  Degree    Service    Housewife   \n",
      "21       F     G    Vg  Good   ...         10      10    Service    Housewife   \n",
      "22       F   OBC    Vg    Vg   ...     Degree      Pg   Business      Service   \n",
      "23       F   OBC    Vg  Good   ...         10      Um     Farmer    Housewife   \n",
      "24       F     G    Vg  Good   ...         12      Um   Business    Housewife   \n",
      "25       F     G    Vg    Vg   ...         Il      Il   Business    Housewife   \n",
      "26       F   OBC  Good  Good   ...         10      10    Service    Housewife   \n",
      "27       F   OBC  Good  Good   ...         Um      Um     Others    Housewife   \n",
      "28       M     G  Good  Good   ...         Pg  Degree    Service    Housewife   \n",
      "29       F   OBC    Vg    Vg   ...         12      10     Others    Housewife   \n",
      "..     ...   ...   ...   ...   ...        ...     ...        ...          ...   \n",
      "101      M  MOBC  Good  Pass   ...         Um      Il     Farmer      Service   \n",
      "102      M     G  Pass  Good   ...         Um      Um     Farmer    Housewife   \n",
      "103      M     G  Good  Pass   ...         Um      Um     Farmer    Housewife   \n",
      "104      M   OBC  Good  Pass   ...         Um      Um    Service      Service   \n",
      "105      M     G  Good  Pass   ...     Degree      12    Service    Housewife   \n",
      "106      M  MOBC  Pass    Vg   ...         Il      Il    Service    Housewife   \n",
      "107      M   OBC  Good  Pass   ...         Il      Il     Others      Service   \n",
      "108      F   OBC  Pass  Good   ...         Um      10    Service      Service   \n",
      "109      M   OBC  Pass  Good   ...         Um      Um     Farmer    Housewife   \n",
      "110      M    ST  Good  Good   ...         12      Um     Farmer    Housewife   \n",
      "111      M    ST    Vg  Good   ...         Um      Um     Farmer    Housewife   \n",
      "112      M    ST  Pass  Good   ...         12      Um    Retired    Housewife   \n",
      "113      F     G  Good  Pass   ...         Um      Um   Business    Housewife   \n",
      "114      F     G  Pass  Pass   ...         Il      Il     Others    Housewife   \n",
      "115      F     G  Good  Good   ...     Degree      12   Business    Housewife   \n",
      "116      M     G  Good  Good   ...     Degree      10     Farmer    Housewife   \n",
      "117      M     G  Good  Best   ...     Degree  Degree     Others    Housewife   \n",
      "118      M   OBC  Pass    Vg   ...         10      Um     Others    Housewife   \n",
      "119      M     G    Vg    Vg   ...         12      12    Service    Housewife   \n",
      "120      F     G  Good    Vg   ...         Il      Il     Farmer    Housewife   \n",
      "121      M   OBC  Pass  Pass   ...         Um      Um     Farmer    Housewife   \n",
      "122      M   OBC  Good  Pass   ...         Il      10    Service    Housewife   \n",
      "123      M   OBC  Good  Good   ...         12      Um   Business    Housewife   \n",
      "124      M   OBC  Good  Good   ...         Il      Il    Service    Housewife   \n",
      "125      M   OBC  Pass  Good   ...         10      Um    Service    Housewife   \n",
      "126      M     G  Pass  Good   ...         Um      Il    Service    Housewife   \n",
      "127      M  MOBC    Vg    Vg   ...         10      Um     Farmer    Housewife   \n",
      "128      F   OBC  Good  Good   ...         Il      Il     Farmer    Housewife   \n",
      "129      M    ST  Pass  Pass   ...         Um      Um    Service    Housewife   \n",
      "130      M     G  Pass  Good   ...         Um      Um   Business    Housewife   \n",
      "\n",
      "       house   welath job_desc study      car      eco  \n",
      "0      Large     Poor     Govt   Asm    Small     Good  \n",
      "1      Small     Poor     Govt   Asm  Average  Average  \n",
      "2    Average  Average     Govt   Asm    Large     Good  \n",
      "3      Large     Poor     Govt   Asm  Average  Average  \n",
      "4      Large     Poor  Private   Asm    Small     Good  \n",
      "5      Small     Poor  Private   Eng  Average  Average  \n",
      "6    Average     Poor     Govt   Asm    Small     Good  \n",
      "7      Small     Poor  Private   Asm  Average     Good  \n",
      "8      Small     Good     Govt   Asm  Average     Good  \n",
      "9      Large  Average     Govt   Asm  Average     Good  \n",
      "10     Large     Good  Private   Eng    Large     Good  \n",
      "11     Large  Average     Govt   Eng  Average     Good  \n",
      "12     Large     Poor  Private   Eng  Average     Good  \n",
      "13     Large     Good     Govt   Asm  Average     Good  \n",
      "14     Large     Poor     Govt   Eng    Small     Good  \n",
      "15     Large  Average     Govt   Asm  Average     Good  \n",
      "16     Large     Poor  Private   Eng    Small     Good  \n",
      "17     Large  Average     Govt   Eng    Small     Good  \n",
      "18     Large  Average     Govt   Eng    Small     Good  \n",
      "19     Large     Poor     Govt   Eng  Average     Good  \n",
      "20     Large     Poor     Govt   Eng    Small     Good  \n",
      "21     Large     Poor  Private   Eng    Small     Good  \n",
      "22     Large  Average     Govt   Eng    Small     Good  \n",
      "23     Large  Average     Govt   Eng    Small     Good  \n",
      "24     Large     Poor     Govt   Eng    Small     Good  \n",
      "25     Large     Poor     Govt   Eng  Average  Average  \n",
      "26     Large     Poor     Govt   Eng    Small  Average  \n",
      "27     Large  Average  Private   Eng    Small     Good  \n",
      "28     Large     Poor  Private   Eng  Average  Average  \n",
      "29     Small  Average  Private   Asm  Average  Average  \n",
      "..       ...      ...      ...   ...      ...      ...  \n",
      "101    Small  Average     Govt   Asm    Large  Average  \n",
      "102  Average  Average     Govt   Asm  Average     Good  \n",
      "103  Average  Average     Govt   Asm    Small  Average  \n",
      "104    Large  Average     Govt   Asm  Average     Poor  \n",
      "105  Average  Average     Govt   Asm    Small     Poor  \n",
      "106    Large  Average  Private   Asm    Small  Average  \n",
      "107  Average     Poor     Govt   Asm    Small     Poor  \n",
      "108  Average  Average     Govt   Asm    Small     Poor  \n",
      "109  Average  Average     Govt   Asm  Average  Average  \n",
      "110  Average  Average     Govt   Asm  Average     Poor  \n",
      "111    Small     Poor     Govt   Asm  Average     Poor  \n",
      "112  Average  Average     Govt   Asm  Average     Poor  \n",
      "113  Average  Average  Private   Asm  Average     Good  \n",
      "114  Average     Poor     Govt   Asm  Average  Average  \n",
      "115  Average     Good     Govt   Asm  Average  Average  \n",
      "116  Average  Average     Govt   Asm  Average     Poor  \n",
      "117  Average  Average     Govt   Asm    Large  Average  \n",
      "118  Average  Average  Private   Asm  Average  Average  \n",
      "119  Average  Average     Govt   Asm    Small  Average  \n",
      "120    Small     Poor     Govt   Asm    Small     Good  \n",
      "121  Average  Average     Govt   Asm  Average     Poor  \n",
      "122  Average     Poor     Govt   Asm    Small     Poor  \n",
      "123  Average     Good     Govt   Eng    Small  Average  \n",
      "124  Average  Average     Govt   Asm  Average     Poor  \n",
      "125    Small  Average     Govt   Eng  Average     Good  \n",
      "126    Small  Average     Govt   Asm    Small     Poor  \n",
      "127  Average     Poor     Govt   Asm    Small  Average  \n",
      "128    Small  Average     Govt   Asm    Large     Good  \n",
      "129  Average  Average     Govt   Asm    Large  Average  \n",
      "130  Average  Average     Govt   Asm    Small  Average  \n",
      "\n",
      "[131 rows x 28 columns]\n"
     ]
    }
   ],
   "source": [
    "da=pd.read_csv(\"C:/Users/CSE51/Desktop/da/Sapfile1.csv\",error_bad_lines=False)\n",
    "print(da)"
   ]
  },
  {
   "cell_type": "code",
   "execution_count": 4,
   "metadata": {},
   "outputs": [
    {
     "data": {
      "text/html": [
       "<div>\n",
       "<style scoped>\n",
       "    .dataframe tbody tr th:only-of-type {\n",
       "        vertical-align: middle;\n",
       "    }\n",
       "\n",
       "    .dataframe tbody tr th {\n",
       "        vertical-align: top;\n",
       "    }\n",
       "\n",
       "    .dataframe thead th {\n",
       "        text-align: right;\n",
       "    }\n",
       "</style>\n",
       "<table border=\"1\" class=\"dataframe\">\n",
       "  <thead>\n",
       "    <tr style=\"text-align: right;\">\n",
       "      <th></th>\n",
       "      <th>attribute</th>\n",
       "      <th>att1</th>\n",
       "      <th>att2</th>\n",
       "      <th>att3</th>\n",
       "      <th>att4</th>\n",
       "      <th>att5</th>\n",
       "      <th>gender</th>\n",
       "      <th>caste</th>\n",
       "      <th>p1</th>\n",
       "      <th>p2</th>\n",
       "      <th>...</th>\n",
       "      <th>degree</th>\n",
       "      <th>degree2</th>\n",
       "      <th>profession</th>\n",
       "      <th>profession 2</th>\n",
       "      <th>house</th>\n",
       "      <th>welath</th>\n",
       "      <th>job_desc</th>\n",
       "      <th>study</th>\n",
       "      <th>car</th>\n",
       "      <th>eco</th>\n",
       "    </tr>\n",
       "  </thead>\n",
       "  <tbody>\n",
       "    <tr>\n",
       "      <th>count</th>\n",
       "      <td>22</td>\n",
       "      <td>22</td>\n",
       "      <td>16</td>\n",
       "      <td>11</td>\n",
       "      <td>10</td>\n",
       "      <td>2</td>\n",
       "      <td>131</td>\n",
       "      <td>131</td>\n",
       "      <td>131</td>\n",
       "      <td>131</td>\n",
       "      <td>...</td>\n",
       "      <td>131</td>\n",
       "      <td>131</td>\n",
       "      <td>131</td>\n",
       "      <td>131</td>\n",
       "      <td>131</td>\n",
       "      <td>131</td>\n",
       "      <td>131</td>\n",
       "      <td>131</td>\n",
       "      <td>131</td>\n",
       "      <td>131</td>\n",
       "    </tr>\n",
       "    <tr>\n",
       "      <th>unique</th>\n",
       "      <td>22</td>\n",
       "      <td>13</td>\n",
       "      <td>8</td>\n",
       "      <td>7</td>\n",
       "      <td>5</td>\n",
       "      <td>1</td>\n",
       "      <td>2</td>\n",
       "      <td>5</td>\n",
       "      <td>4</td>\n",
       "      <td>4</td>\n",
       "      <td>...</td>\n",
       "      <td>6</td>\n",
       "      <td>6</td>\n",
       "      <td>5</td>\n",
       "      <td>5</td>\n",
       "      <td>3</td>\n",
       "      <td>3</td>\n",
       "      <td>2</td>\n",
       "      <td>4</td>\n",
       "      <td>3</td>\n",
       "      <td>3</td>\n",
       "    </tr>\n",
       "    <tr>\n",
       "      <th>top</th>\n",
       "      <td>tnp {Best</td>\n",
       "      <td>Average</td>\n",
       "      <td>Good</td>\n",
       "      <td>Pass</td>\n",
       "      <td>Fail}</td>\n",
       "      <td>Pg}</td>\n",
       "      <td>M</td>\n",
       "      <td>OBC</td>\n",
       "      <td>Good</td>\n",
       "      <td>Good</td>\n",
       "      <td>...</td>\n",
       "      <td>Um</td>\n",
       "      <td>Um</td>\n",
       "      <td>Service</td>\n",
       "      <td>Housewife</td>\n",
       "      <td>Large</td>\n",
       "      <td>Average</td>\n",
       "      <td>Govt</td>\n",
       "      <td>Eng</td>\n",
       "      <td>Small</td>\n",
       "      <td>Good</td>\n",
       "    </tr>\n",
       "    <tr>\n",
       "      <th>freq</th>\n",
       "      <td>1</td>\n",
       "      <td>5</td>\n",
       "      <td>4</td>\n",
       "      <td>4</td>\n",
       "      <td>4</td>\n",
       "      <td>2</td>\n",
       "      <td>72</td>\n",
       "      <td>57</td>\n",
       "      <td>59</td>\n",
       "      <td>65</td>\n",
       "      <td>...</td>\n",
       "      <td>40</td>\n",
       "      <td>52</td>\n",
       "      <td>38</td>\n",
       "      <td>115</td>\n",
       "      <td>58</td>\n",
       "      <td>59</td>\n",
       "      <td>91</td>\n",
       "      <td>62</td>\n",
       "      <td>78</td>\n",
       "      <td>56</td>\n",
       "    </tr>\n",
       "  </tbody>\n",
       "</table>\n",
       "<p>4 rows × 28 columns</p>\n",
       "</div>"
      ],
      "text/plain": [
       "        attribute      att1  att2  att3   att4 att5 gender caste    p1    p2  \\\n",
       "count           22       22    16    11     10    2    131   131   131   131   \n",
       "unique          22       13     8     7      5    1      2     5     4     4   \n",
       "top      tnp {Best  Average  Good  Pass  Fail}  Pg}      M   OBC  Good  Good   \n",
       "freq             1        5     4     4      4    2     72    57    59    65   \n",
       "\n",
       "        ...  degree degree2 profession profession 2  house   welath job_desc  \\\n",
       "count   ...     131     131        131          131    131      131      131   \n",
       "unique  ...       6       6          5            5      3        3        2   \n",
       "top     ...      Um      Um    Service    Housewife  Large  Average     Govt   \n",
       "freq    ...      40      52         38          115     58       59       91   \n",
       "\n",
       "       study    car   eco  \n",
       "count    131    131   131  \n",
       "unique     4      3     3  \n",
       "top      Eng  Small  Good  \n",
       "freq      62     78    56  \n",
       "\n",
       "[4 rows x 28 columns]"
      ]
     },
     "execution_count": 4,
     "metadata": {},
     "output_type": "execute_result"
    }
   ],
   "source": [
    "da.describe()"
   ]
  },
  {
   "cell_type": "code",
   "execution_count": 5,
   "metadata": {},
   "outputs": [],
   "source": [
    "import matplotlib as mpl\n",
    "import matplotlib.pyplot as plt"
   ]
  },
  {
   "cell_type": "code",
   "execution_count": 7,
   "metadata": {},
   "outputs": [],
   "source": [
    "%matplotlib inline\n"
   ]
  },
  {
   "cell_type": "code",
   "execution_count": 9,
   "metadata": {},
   "outputs": [],
   "source": [
    "import numpy as np\n"
   ]
  },
  {
   "cell_type": "code",
   "execution_count": 13,
   "metadata": {},
   "outputs": [
    {
     "ename": "NameError",
     "evalue": "name 'car' is not defined",
     "output_type": "error",
     "traceback": [
      "\u001b[1;31m---------------------------------------------------------------------------\u001b[0m",
      "\u001b[1;31mNameError\u001b[0m                                 Traceback (most recent call last)",
      "\u001b[1;32m<ipython-input-13-173a08fd50eb>\u001b[0m in \u001b[0;36m<module>\u001b[1;34m()\u001b[0m\n\u001b[1;32m----> 1\u001b[1;33m \u001b[0mplt\u001b[0m\u001b[1;33m.\u001b[0m\u001b[0mplot\u001b[0m\u001b[1;33m(\u001b[0m\u001b[0mda\u001b[0m\u001b[1;33m,\u001b[0m\u001b[0mcar\u001b[0m\u001b[1;33m)\u001b[0m\u001b[1;33m\u001b[0m\u001b[0m\n\u001b[0m",
      "\u001b[1;31mNameError\u001b[0m: name 'car' is not defined"
     ]
    }
   ],
   "source": [
    "plt.plot(da,car)"
   ]
  },
  {
   "cell_type": "code",
   "execution_count": 15,
   "metadata": {},
   "outputs": [
    {
     "name": "stdout",
     "output_type": "stream",
     "text": [
      "        attribute         att1     att2       att3     att4 att5 gender caste  \\\n",
      "0              NaN         NaN      NaN        NaN      NaN  NaN      F     G   \n",
      "1           ge  {M          F}      NaN        NaN      NaN  NaN      M   OBC   \n",
      "2           cst {G          ST       SC        OBC    MOBC}  NaN      F   OBC   \n",
      "3        tnp {Best          Vg     Good       Pass    Fail}  NaN      M  MOBC   \n",
      "4        twp {Best          Vg     Good       Pass    Fail}  NaN      M     G   \n",
      "5        iap {Best          Vg     Good       Pass    Fail}  NaN      M   OBC   \n",
      "6        esp {Best          Vg     Good       Pass    Fail}  NaN      F   OBC   \n",
      "7           arr {Y          N}      NaN        NaN      NaN  NaN      F   OBC   \n",
      "8     ms  {Married  Unmarried}      NaN        NaN      NaN  NaN      F  MOBC   \n",
      "9           ls  {T          V}      NaN        NaN      NaN  NaN      F   OBC   \n",
      "10       as  {Free       Paid}      NaN        NaN      NaN  NaN      M    ST   \n",
      "11         fmi {Vh        High       Am     Medium     Low}  NaN      F   OBC   \n",
      "12      fs  {Large     Average   Small}        NaN      NaN  NaN      M   OBC   \n",
      "13         fq  {Il          Um       10         12   Degree  Pg}      M   OBC   \n",
      "14         mq  {Il          Um       10         12   Degree  Pg}      F     G   \n",
      "15    fo  {Service    Business  Retired     Farmer  Others}  NaN      F    ST   \n",
      "16    mo  {Service    Business  Retired  Housewife  Others}  NaN      F    ST   \n",
      "17      nf  {Large     Average   Small}        NaN      NaN  NaN      M   OBC   \n",
      "18       sh  {Good     Average    Poor}        NaN      NaN  NaN      M    ST   \n",
      "19       ss  {Govt    Private}      NaN        NaN      NaN  NaN      M    ST   \n",
      "20        me  {Eng         Asm      Hin       Ben}      NaN  NaN      F     G   \n",
      "21      tt  {Large     Average   Small}        NaN      NaN  NaN      F     G   \n",
      "22       atd {Good     Average    Poor}        NaN      NaN  NaN      F   OBC   \n",
      "23             NaN         NaN      NaN        NaN      NaN  NaN      F   OBC   \n",
      "24             NaN         NaN      NaN        NaN      NaN  NaN      F     G   \n",
      "25             NaN         NaN      NaN        NaN      NaN  NaN      F     G   \n",
      "26             NaN         NaN      NaN        NaN      NaN  NaN      F   OBC   \n",
      "27             NaN         NaN      NaN        NaN      NaN  NaN      F   OBC   \n",
      "28             NaN         NaN      NaN        NaN      NaN  NaN      M     G   \n",
      "29             NaN         NaN      NaN        NaN      NaN  NaN      F   OBC   \n",
      "..             ...         ...      ...        ...      ...  ...    ...   ...   \n",
      "101            NaN         NaN      NaN        NaN      NaN  NaN      M  MOBC   \n",
      "102            NaN         NaN      NaN        NaN      NaN  NaN      M     G   \n",
      "103            NaN         NaN      NaN        NaN      NaN  NaN      M     G   \n",
      "104            NaN         NaN      NaN        NaN      NaN  NaN      M   OBC   \n",
      "105            NaN         NaN      NaN        NaN      NaN  NaN      M     G   \n",
      "106            NaN         NaN      NaN        NaN      NaN  NaN      M  MOBC   \n",
      "107            NaN         NaN      NaN        NaN      NaN  NaN      M   OBC   \n",
      "108            NaN         NaN      NaN        NaN      NaN  NaN      F   OBC   \n",
      "109            NaN         NaN      NaN        NaN      NaN  NaN      M   OBC   \n",
      "110            NaN         NaN      NaN        NaN      NaN  NaN      M    ST   \n",
      "111            NaN         NaN      NaN        NaN      NaN  NaN      M    ST   \n",
      "112            NaN         NaN      NaN        NaN      NaN  NaN      M    ST   \n",
      "113            NaN         NaN      NaN        NaN      NaN  NaN      F     G   \n",
      "114            NaN         NaN      NaN        NaN      NaN  NaN      F     G   \n",
      "115            NaN         NaN      NaN        NaN      NaN  NaN      F     G   \n",
      "116            NaN         NaN      NaN        NaN      NaN  NaN      M     G   \n",
      "117            NaN         NaN      NaN        NaN      NaN  NaN      M     G   \n",
      "118            NaN         NaN      NaN        NaN      NaN  NaN      M   OBC   \n",
      "119            NaN         NaN      NaN        NaN      NaN  NaN      M     G   \n",
      "120            NaN         NaN      NaN        NaN      NaN  NaN      F     G   \n",
      "121            NaN         NaN      NaN        NaN      NaN  NaN      M   OBC   \n",
      "122            NaN         NaN      NaN        NaN      NaN  NaN      M   OBC   \n",
      "123            NaN         NaN      NaN        NaN      NaN  NaN      M   OBC   \n",
      "124            NaN         NaN      NaN        NaN      NaN  NaN      M   OBC   \n",
      "125            NaN         NaN      NaN        NaN      NaN  NaN      M   OBC   \n",
      "126            NaN         NaN      NaN        NaN      NaN  NaN      M     G   \n",
      "127            NaN         NaN      NaN        NaN      NaN  NaN      M  MOBC   \n",
      "128            NaN         NaN      NaN        NaN      NaN  NaN      F   OBC   \n",
      "129            NaN         NaN      NaN        NaN      NaN  NaN      M    ST   \n",
      "130            NaN         NaN      NaN        NaN      NaN  NaN      M     G   \n",
      "\n",
      "       p1    p2   ...     degree degree2 profession profession 2    house  \\\n",
      "0    Good  Good   ...         Um      10     Farmer    Housewife    Large   \n",
      "1      Vg    Vg   ...         Um      Il    Service      Service    Small   \n",
      "2    Good  Good   ...         12      10    Service    Housewife  Average   \n",
      "3    Pass  Good   ...         12      Um   Business     Business    Large   \n",
      "4    Good  Good   ...         10      12    Service    Housewife    Large   \n",
      "5      Vg  Good   ...         10      Um     Farmer    Housewife    Small   \n",
      "6    Good    Vg   ...         12  Degree    Service      Service  Average   \n",
      "7    Good  Good   ...         Il      Um     Farmer    Housewife    Small   \n",
      "8      Vg  Good   ...         12      10     Others    Housewife    Small   \n",
      "9      Vg    Vg   ...     Degree  Degree     Others    Housewife    Large   \n",
      "10     Vg    Vg   ...         Pg      Pg    Retired      Retired    Large   \n",
      "11     Vg    Vg   ...     Degree      12    Service    Housewife    Large   \n",
      "12   Good  Good   ...     Degree      10    Service    Housewife    Large   \n",
      "13   Good  Good   ...         Il      Il     Others    Housewife    Large   \n",
      "14     Vg    Vg   ...     Degree      10   Business    Housewife    Large   \n",
      "15     Vg  Good   ...         10      10     Others    Housewife    Large   \n",
      "16     Vg    Vg   ...         Pg      12   Business    Housewife    Large   \n",
      "17   Good  Good   ...         12      12     Farmer    Housewife    Large   \n",
      "18   Good  Good   ...         10      12     Farmer    Housewife    Large   \n",
      "19     Vg    Vg   ...     Degree      12     Farmer    Housewife    Large   \n",
      "20     Vg    Vg   ...     Degree  Degree    Service    Housewife    Large   \n",
      "21     Vg  Good   ...         10      10    Service    Housewife    Large   \n",
      "22     Vg    Vg   ...     Degree      Pg   Business      Service    Large   \n",
      "23     Vg  Good   ...         10      Um     Farmer    Housewife    Large   \n",
      "24     Vg  Good   ...         12      Um   Business    Housewife    Large   \n",
      "25     Vg    Vg   ...         Il      Il   Business    Housewife    Large   \n",
      "26   Good  Good   ...         10      10    Service    Housewife    Large   \n",
      "27   Good  Good   ...         Um      Um     Others    Housewife    Large   \n",
      "28   Good  Good   ...         Pg  Degree    Service    Housewife    Large   \n",
      "29     Vg    Vg   ...         12      10     Others    Housewife    Small   \n",
      "..    ...   ...   ...        ...     ...        ...          ...      ...   \n",
      "101  Good  Pass   ...         Um      Il     Farmer      Service    Small   \n",
      "102  Pass  Good   ...         Um      Um     Farmer    Housewife  Average   \n",
      "103  Good  Pass   ...         Um      Um     Farmer    Housewife  Average   \n",
      "104  Good  Pass   ...         Um      Um    Service      Service    Large   \n",
      "105  Good  Pass   ...     Degree      12    Service    Housewife  Average   \n",
      "106  Pass    Vg   ...         Il      Il    Service    Housewife    Large   \n",
      "107  Good  Pass   ...         Il      Il     Others      Service  Average   \n",
      "108  Pass  Good   ...         Um      10    Service      Service  Average   \n",
      "109  Pass  Good   ...         Um      Um     Farmer    Housewife  Average   \n",
      "110  Good  Good   ...         12      Um     Farmer    Housewife  Average   \n",
      "111    Vg  Good   ...         Um      Um     Farmer    Housewife    Small   \n",
      "112  Pass  Good   ...         12      Um    Retired    Housewife  Average   \n",
      "113  Good  Pass   ...         Um      Um   Business    Housewife  Average   \n",
      "114  Pass  Pass   ...         Il      Il     Others    Housewife  Average   \n",
      "115  Good  Good   ...     Degree      12   Business    Housewife  Average   \n",
      "116  Good  Good   ...     Degree      10     Farmer    Housewife  Average   \n",
      "117  Good  Best   ...     Degree  Degree     Others    Housewife  Average   \n",
      "118  Pass    Vg   ...         10      Um     Others    Housewife  Average   \n",
      "119    Vg    Vg   ...         12      12    Service    Housewife  Average   \n",
      "120  Good    Vg   ...         Il      Il     Farmer    Housewife    Small   \n",
      "121  Pass  Pass   ...         Um      Um     Farmer    Housewife  Average   \n",
      "122  Good  Pass   ...         Il      10    Service    Housewife  Average   \n",
      "123  Good  Good   ...         12      Um   Business    Housewife  Average   \n",
      "124  Good  Good   ...         Il      Il    Service    Housewife  Average   \n",
      "125  Pass  Good   ...         10      Um    Service    Housewife    Small   \n",
      "126  Pass  Good   ...         Um      Il    Service    Housewife    Small   \n",
      "127    Vg    Vg   ...         10      Um     Farmer    Housewife  Average   \n",
      "128  Good  Good   ...         Il      Il     Farmer    Housewife    Small   \n",
      "129  Pass  Pass   ...         Um      Um    Service    Housewife  Average   \n",
      "130  Pass  Good   ...         Um      Um   Business    Housewife  Average   \n",
      "\n",
      "      welath job_desc study      car      eco  \n",
      "0       Poor     Govt   Asm    Small     Good  \n",
      "1       Poor     Govt   Asm  Average  Average  \n",
      "2    Average     Govt   Asm    Large     Good  \n",
      "3       Poor     Govt   Asm  Average  Average  \n",
      "4       Poor  Private   Asm    Small     Good  \n",
      "5       Poor  Private   Eng  Average  Average  \n",
      "6       Poor     Govt   Asm    Small     Good  \n",
      "7       Poor  Private   Asm  Average     Good  \n",
      "8       Good     Govt   Asm  Average     Good  \n",
      "9    Average     Govt   Asm  Average     Good  \n",
      "10      Good  Private   Eng    Large     Good  \n",
      "11   Average     Govt   Eng  Average     Good  \n",
      "12      Poor  Private   Eng  Average     Good  \n",
      "13      Good     Govt   Asm  Average     Good  \n",
      "14      Poor     Govt   Eng    Small     Good  \n",
      "15   Average     Govt   Asm  Average     Good  \n",
      "16      Poor  Private   Eng    Small     Good  \n",
      "17   Average     Govt   Eng    Small     Good  \n",
      "18   Average     Govt   Eng    Small     Good  \n",
      "19      Poor     Govt   Eng  Average     Good  \n",
      "20      Poor     Govt   Eng    Small     Good  \n",
      "21      Poor  Private   Eng    Small     Good  \n",
      "22   Average     Govt   Eng    Small     Good  \n",
      "23   Average     Govt   Eng    Small     Good  \n",
      "24      Poor     Govt   Eng    Small     Good  \n",
      "25      Poor     Govt   Eng  Average  Average  \n",
      "26      Poor     Govt   Eng    Small  Average  \n",
      "27   Average  Private   Eng    Small     Good  \n",
      "28      Poor  Private   Eng  Average  Average  \n",
      "29   Average  Private   Asm  Average  Average  \n",
      "..       ...      ...   ...      ...      ...  \n",
      "101  Average     Govt   Asm    Large  Average  \n",
      "102  Average     Govt   Asm  Average     Good  \n",
      "103  Average     Govt   Asm    Small  Average  \n",
      "104  Average     Govt   Asm  Average     Poor  \n",
      "105  Average     Govt   Asm    Small     Poor  \n",
      "106  Average  Private   Asm    Small  Average  \n",
      "107     Poor     Govt   Asm    Small     Poor  \n",
      "108  Average     Govt   Asm    Small     Poor  \n",
      "109  Average     Govt   Asm  Average  Average  \n",
      "110  Average     Govt   Asm  Average     Poor  \n",
      "111     Poor     Govt   Asm  Average     Poor  \n",
      "112  Average     Govt   Asm  Average     Poor  \n",
      "113  Average  Private   Asm  Average     Good  \n",
      "114     Poor     Govt   Asm  Average  Average  \n",
      "115     Good     Govt   Asm  Average  Average  \n",
      "116  Average     Govt   Asm  Average     Poor  \n",
      "117  Average     Govt   Asm    Large  Average  \n",
      "118  Average  Private   Asm  Average  Average  \n",
      "119  Average     Govt   Asm    Small  Average  \n",
      "120     Poor     Govt   Asm    Small     Good  \n",
      "121  Average     Govt   Asm  Average     Poor  \n",
      "122     Poor     Govt   Asm    Small     Poor  \n",
      "123     Good     Govt   Eng    Small  Average  \n",
      "124  Average     Govt   Asm  Average     Poor  \n",
      "125  Average     Govt   Eng  Average     Good  \n",
      "126  Average     Govt   Asm    Small     Poor  \n",
      "127     Poor     Govt   Asm    Small  Average  \n",
      "128  Average     Govt   Asm    Large     Good  \n",
      "129  Average     Govt   Asm    Large  Average  \n",
      "130  Average     Govt   Asm    Small  Average  \n",
      "\n",
      "[131 rows x 28 columns]\n"
     ]
    }
   ],
   "source": [
    "da=pd.read_csv(\"C:/Users/CSE51/Desktop/da/Sapfile1.csv\",error_bad_lines=False)\n",
    "print(da)"
   ]
  },
  {
   "cell_type": "code",
   "execution_count": 16,
   "metadata": {
    "scrolled": true
   },
   "outputs": [
    {
     "ename": "NameError",
     "evalue": "name 'FF' is not defined",
     "output_type": "error",
     "traceback": [
      "\u001b[1;31m---------------------------------------------------------------------------\u001b[0m",
      "\u001b[1;31mNameError\u001b[0m                                 Traceback (most recent call last)",
      "\u001b[1;32m<ipython-input-16-535c470f1d38>\u001b[0m in \u001b[0;36m<module>\u001b[1;34m()\u001b[0m\n\u001b[1;32m----> 1\u001b[1;33m \u001b[0msapfile_data_table\u001b[0m \u001b[1;33m=\u001b[0m \u001b[0mFF\u001b[0m\u001b[1;33m.\u001b[0m\u001b[0mcreate_table\u001b[0m\u001b[1;33m(\u001b[0m\u001b[0mdf\u001b[0m\u001b[1;33m.\u001b[0m\u001b[0mhead\u001b[0m\u001b[1;33m(\u001b[0m\u001b[1;33m)\u001b[0m\u001b[1;33m)\u001b[0m\u001b[1;33m\u001b[0m\u001b[0m\n\u001b[0m\u001b[0;32m      2\u001b[0m \u001b[0mpy\u001b[0m\u001b[1;33m.\u001b[0m\u001b[0miplot\u001b[0m\u001b[1;33m(\u001b[0m\u001b[0msapfile_data_table\u001b[0m\u001b[1;33m,\u001b[0m \u001b[0mfilename\u001b[0m\u001b[1;33m=\u001b[0m\u001b[1;34m'sapfile1'\u001b[0m\u001b[1;33m)\u001b[0m\u001b[1;33m\u001b[0m\u001b[0m\n",
      "\u001b[1;31mNameError\u001b[0m: name 'FF' is not defined"
     ]
    }
   ],
   "source": [
    "sapfile_data_table = FF.create_table(df.head())\n",
    "py.iplot(sapfile_data_table, filename='sapfile1')"
   ]
  },
  {
   "cell_type": "code",
   "execution_count": 20,
   "metadata": {},
   "outputs": [
    {
     "ename": "AttributeError",
     "evalue": "'DataFrame' object has no attribute 'dataframe'",
     "output_type": "error",
     "traceback": [
      "\u001b[1;31m---------------------------------------------------------------------------\u001b[0m",
      "\u001b[1;31mAttributeError\u001b[0m                            Traceback (most recent call last)",
      "\u001b[1;32m<ipython-input-20-76814e98eba6>\u001b[0m in \u001b[0;36m<module>\u001b[1;34m()\u001b[0m\n\u001b[1;32m----> 1\u001b[1;33m \u001b[0mda\u001b[0m\u001b[1;33m.\u001b[0m\u001b[0mdataframe\u001b[0m\u001b[1;33m(\u001b[0m\u001b[1;33m)\u001b[0m\u001b[1;33m\u001b[0m\u001b[0m\n\u001b[0m",
      "\u001b[1;32mC:\\ProgramData\\Anaconda3\\lib\\site-packages\\pandas\\core\\generic.py\u001b[0m in \u001b[0;36m__getattr__\u001b[1;34m(self, name)\u001b[0m\n\u001b[0;32m   4370\u001b[0m             \u001b[1;32mif\u001b[0m \u001b[0mself\u001b[0m\u001b[1;33m.\u001b[0m\u001b[0m_info_axis\u001b[0m\u001b[1;33m.\u001b[0m\u001b[0m_can_hold_identifiers_and_holds_name\u001b[0m\u001b[1;33m(\u001b[0m\u001b[0mname\u001b[0m\u001b[1;33m)\u001b[0m\u001b[1;33m:\u001b[0m\u001b[1;33m\u001b[0m\u001b[0m\n\u001b[0;32m   4371\u001b[0m                 \u001b[1;32mreturn\u001b[0m \u001b[0mself\u001b[0m\u001b[1;33m[\u001b[0m\u001b[0mname\u001b[0m\u001b[1;33m]\u001b[0m\u001b[1;33m\u001b[0m\u001b[0m\n\u001b[1;32m-> 4372\u001b[1;33m             \u001b[1;32mreturn\u001b[0m \u001b[0mobject\u001b[0m\u001b[1;33m.\u001b[0m\u001b[0m__getattribute__\u001b[0m\u001b[1;33m(\u001b[0m\u001b[0mself\u001b[0m\u001b[1;33m,\u001b[0m \u001b[0mname\u001b[0m\u001b[1;33m)\u001b[0m\u001b[1;33m\u001b[0m\u001b[0m\n\u001b[0m\u001b[0;32m   4373\u001b[0m \u001b[1;33m\u001b[0m\u001b[0m\n\u001b[0;32m   4374\u001b[0m     \u001b[1;32mdef\u001b[0m \u001b[0m__setattr__\u001b[0m\u001b[1;33m(\u001b[0m\u001b[0mself\u001b[0m\u001b[1;33m,\u001b[0m \u001b[0mname\u001b[0m\u001b[1;33m,\u001b[0m \u001b[0mvalue\u001b[0m\u001b[1;33m)\u001b[0m\u001b[1;33m:\u001b[0m\u001b[1;33m\u001b[0m\u001b[0m\n",
      "\u001b[1;31mAttributeError\u001b[0m: 'DataFrame' object has no attribute 'dataframe'"
     ]
    }
   ],
   "source": []
  },
  {
   "cell_type": "code",
   "execution_count": 22,
   "metadata": {
    "scrolled": true
   },
   "outputs": [],
   "source": [
    "a=pd.DataFrame(da)"
   ]
  },
  {
   "cell_type": "code",
   "execution_count": 26,
   "metadata": {},
   "outputs": [
    {
     "name": "stdout",
     "output_type": "stream",
     "text": [
      "        attribute      att1  att2  att3   att4 att5 gender caste    p1    p2  \\\n",
      "count           22       22    16    11     10    2    131   131   131   131   \n",
      "unique          22       13     8     7      5    1      2     5     4     4   \n",
      "top      tnp {Best  Average  Good  Pass  Fail}  Pg}      M   OBC  Good  Good   \n",
      "freq             1        5     4     4      4    2     72    57    59    65   \n",
      "\n",
      "        ...  degree degree2 profession profession 2  house   welath job_desc  \\\n",
      "count   ...     131     131        131          131    131      131      131   \n",
      "unique  ...       6       6          5            5      3        3        2   \n",
      "top     ...      Um      Um    Service    Housewife  Large  Average     Govt   \n",
      "freq    ...      40      52         38          115     58       59       91   \n",
      "\n",
      "       study    car   eco  \n",
      "count    131    131   131  \n",
      "unique     4      3     3  \n",
      "top      Eng  Small  Good  \n",
      "freq      62     78    56  \n",
      "\n",
      "[4 rows x 28 columns]\n"
     ]
    }
   ],
   "source": [
    "print (a.describe())"
   ]
  },
  {
   "cell_type": "code",
   "execution_count": 30,
   "metadata": {},
   "outputs": [
    {
     "data": {
      "text/plain": [
       "<matplotlib.axes._subplots.AxesSubplot at 0x175baee1780>"
      ]
     },
     "execution_count": 30,
     "metadata": {},
     "output_type": "execute_result"
    },
    {
     "data": {
      "image/png": "[encoded data removed]",
      "text/plain": [
       "<Figure size 432x288 with 1 Axes>"
      ]
     },
     "metadata": {},
     "output_type": "display_data"
    }
   ],
   "source": [
    "da['gender'].value_counts().plot(kind='bar')"
   ]
  },
  {
   "cell_type": "code",
   "execution_count": 31,
   "metadata": {},
   "outputs": [
    {
     "data": {
      "text/plain": [
       "<matplotlib.axes._subplots.AxesSubplot at 0x175bae88048>"
      ]
     },
     "execution_count": 31,
     "metadata": {},
     "output_type": "execute_result"
    },
    {
     "data": {
      "image/png": "[encoded data removed]",
      "text/plain": [
       "<Figure size 432x288 with 1 Axes>"
      ]
     },
     "metadata": {},
     "output_type": "display_data"
    }
   ],
   "source": [
    "da['eco'].value_counts().plot(kind='bar')"
   ]
  },
  {
   "cell_type": "code",
   "execution_count": 32,
   "metadata": {},
   "outputs": [
    {
     "data": {
      "text/plain": [
       "<matplotlib.axes._subplots.AxesSubplot at 0x175bb28ecc0>"
      ]
     },
     "execution_count": 32,
     "metadata": {},
     "output_type": "execute_result"
    },
    {
     "data": {
      "image/png": "[encoded data removed]",
      "text/plain": [
       "<Figure size 432x288 with 1 Axes>"
      ]
     },
     "metadata": {},
     "output_type": "display_data"
    }
   ],
   "source": [
    "da['degree'].value_counts().plot(kind='bar')"
   ]
  },
  {
   "cell_type": "code",
   "execution_count": 36,
   "metadata": {
    "scrolled": true
   },
   "outputs": [
    {
     "data": {
      "text/plain": [
       "<matplotlib.axes._subplots.AxesSubplot at 0x175bb36e6a0>"
      ]
     },
     "execution_count": 36,
     "metadata": {},
     "output_type": "execute_result"
    },
    {
     "data": {
      "image/png": "[encoded data removed]",
      "text/plain": [
       "<Figure size 432x288 with 1 Axes>"
      ]
     },
     "metadata": {},
     "output_type": "display_data"
    }
   ],
   "source": [
    "da['rent'].value_counts().plot(kind='bar')"
   ]
  },
  {
   "cell_type": "code",
   "execution_count": 40,
   "metadata": {},
   "outputs": [],
   "source": [
    " da = pd.DataFrame(np.random.rand(10, 4), columns=['p1', 'p2', 'p3', 'p4'])\n"
   ]
  },
  {
   "cell_type": "code",
   "execution_count": 41,
   "metadata": {},
   "outputs": [
    {
     "data": {
      "text/plain": [
       "<matplotlib.axes._subplots.AxesSubplot at 0x175bb3d61d0>"
      ]
     },
     "execution_count": 41,
     "metadata": {},
     "output_type": "execute_result"
    },
    {
     "data": {
      "image/png": "[encoded data removed]",
      "text/plain": [
       "<Figure size 432x288 with 1 Axes>"
      ]
     },
     "metadata": {},
     "output_type": "display_data"
    }
   ],
   "source": [
    "da.plot.bar()"
   ]
  },
  {
   "cell_type": "code",
   "execution_count": null,
   "metadata": {},
   "outputs": [],
   "source": []
  }
 ],
 "metadata": {
  "kernelspec": {
   "display_name": "Python 3",
   "language": "python",
   "name": "python3"
  },
  "language_info": {
   "codemirror_mode": {
    "name": "ipython",
    "version": 3
   },
   "file_extension": ".py",
   "mimetype": "text/x-python",
   "name": "python",
   "nbconvert_exporter": "python",
   "pygments_lexer": "ipython3",
   "version": "3.6.5"
  }
 },
 "nbformat": 4,
 "nbformat_minor": 2
}
