{
 "cells": [
  {
   "cell_type": "markdown",
   "metadata": {},
   "source": [
    "# Ex3 - Image Processing"
   ]
  },
  {
   "cell_type": "code",
   "execution_count": 19,
   "metadata": {},
   "outputs": [],
   "source": [
    "import pandas as pd\n",
    "import os\n",
    "import urllib\n",
    "im_1 = pd.read_csv(\"MovieGenre.csv\",encoding=\"latin1\")\n",
    "im_2=im_1['Poster']\n",
    "im_3=im_1['Genre']\n",
    "im_4=im_1['Title']\n",
    "\n",
    "if not os.path.exists('C:/Users/Dheepak ram/Desktop/genre'):\n",
    "    os.makedirs('C:/Users/Dheepak ram/Desktop/genre')\n",
    "\n",
    "for i in im_3:\n",
    "    i=str(i)\n",
    "    i=i.split(\"|\")\n",
    "    for j in i:\n",
    "        j='C:/Users/Dheepak ram/Desktop/genre/'+j\n",
    "        if not os.path.exists(j):\n",
    "            os.makedirs(j)\n",
    "for i in range(10000):\n",
    "    if \"https://\" in str(im_2[i]):\n",
    "        try:\n",
    "            j=str(im_3[i])\n",
    "            if \"|\" in j:\n",
    "                    \n",
    "                    l=j.split(\"|\")\n",
    "                    for k in l:\n",
    "                        urllib.request.urlretrieve(im_2[i],\"C:/Users/Dheepak ram/Desktop/genre/\"+k+\"/\"+str(i)+\".jpg\")\n",
    "            else:\n",
    "                    urllib.request.urlretrieve(im_2[i],\"C:/Users/Dheepak ram/Desktop/genre/\"+j+\"/\"+str(i)+\".jpg\")\n",
    "        except IOError:\n",
    "           print(\"Error\")\n",
    "           continue"
   ]
  },
  {
   "cell_type": "code",
   "execution_count": null,
   "metadata": {},
   "outputs": [],
   "source": []
  },
  {
   "cell_type": "code",
   "execution_count": null,
   "metadata": {},
   "outputs": [],
   "source": []
  }
 ],
 "metadata": {
  "kernelspec": {
   "display_name": "Python 3",
   "language": "python",
   "name": "python3"
  },
  "language_info": {
   "codemirror_mode": {
    "name": "ipython",
    "version": 3
   },
   "file_extension": ".py",
   "mimetype": "text/x-python",
   "name": "python",
   "nbconvert_exporter": "python",
   "pygments_lexer": "ipython3",
   "version": "3.6.5"
  }
 },
 "nbformat": 4,
 "nbformat_minor": 2
}
