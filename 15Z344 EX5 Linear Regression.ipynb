{
 "cells": [
  {
   "cell_type": "markdown",
   "metadata": {},
   "source": [
    "Linear Regression"
   ]
  },
  {
   "cell_type": "code",
   "execution_count": 2,
   "metadata": {},
   "outputs": [
    {
     "name": "stdout",
     "output_type": "stream",
     "text": [
      "Enter the number of points for calculation4\n",
      "For point 1\n",
      "Enter x point1\n",
      "Enter y point1\n",
      "For point 2\n",
      "Enter x point2\n",
      "Enter y point2\n",
      "For point 3\n",
      "Enter x point3\n",
      "Enter y point3\n",
      "For point 4\n",
      "Enter x point4\n",
      "Enter y point4\n"
     ]
    }
   ],
   "source": [
    "import matplotlib.pyplot as plt\n",
    "import statistics\n",
    "import numpy as np\n",
    "num=input(\"Enter the number of points for calculation\")\n",
    "x_point = []\n",
    "y_point = []\n",
    "count = 0;\n",
    "for i in range(int(num)):\n",
    "    count = count + 1\n",
    "    print(\"For point \"+ str(count))\n",
    "    x_point.append(float(input(\"Enter x point\")))\n",
    "    y_point.append(float(input(\"Enter y point\")))"
   ]
  },
  {
   "cell_type": "code",
   "execution_count": 5,
   "metadata": {},
   "outputs": [
    {
     "name": "stdout",
     "output_type": "stream",
     "text": [
      "x_point mean 2.5\n",
      "y_point mean 2.5\n"
     ]
    }
   ],
   "source": [
    "xmean = statistics.mean (x_point)\n",
    "ymean = statistics.mean (y_point)\n",
    "print(\"x_point mean \" + str(xmean))\n",
    "print(\"y_point mean \" + str(ymean))"
   ]
  },
  {
   "cell_type": "code",
   "execution_count": 7,
   "metadata": {},
   "outputs": [
    {
     "data": {
      "text/plain": [
       "[<matplotlib.lines.Line2D at 0x1fbfad127f0>]"
      ]
     },
     "execution_count": 7,
     "metadata": {},
     "output_type": "execute_result"
    },
    {
     "data": {
      "image/png": "[encoded data removed]",
      "text/plain": [
       "<Figure size 432x288 with 1 Axes>"
      ]
     },
     "metadata": {},
     "output_type": "display_data"
    }
   ],
   "source": [
    "plt.plot(x_point,y_point,'ro')"
   ]
  },
  {
   "cell_type": "code",
   "execution_count": 8,
   "metadata": {},
   "outputs": [
    {
     "name": "stdout",
     "output_type": "stream",
     "text": [
      "Beta 1.0\n",
      "Alpha  0.0\n",
      "Straight line y = 1.0x+0.0\n"
     ]
    }
   ],
   "source": [
    "xy = 0;\n",
    "xsqrsum = 0;\n",
    "for i in range(int(num)):\n",
    "    xy = xy + (x_point[i]*y_point[i])\n",
    "    xsqrsum = xsqrsum + ( x_point[i] *  x_point[i] )\n",
    "beta =(xy - (int(num)*xmean*ymean))/(xsqrsum-(int(num)*(xmean*xmean)))\n",
    "print(\"Beta \" + str(beta))\n",
    "alpha = ymean - ( beta * xmean)\n",
    "print(\"Alpha  \" + str(alpha))\n",
    "print(\"Straight line y = \"+str(beta)+\"x+\"+str(alpha))"
   ]
  },
  {
   "cell_type": "code",
   "execution_count": 10,
   "metadata": {},
   "outputs": [
    {
     "name": "stdout",
     "output_type": "stream",
     "text": [
      "Points [1.0, 2.0, 3.0, 4.0]\n",
      "Enter value 3.3\n",
      "OutputY 3.3\n"
     ]
    },
    {
     "data": {
      "image/png": "[encoded data removed]",
      "text/plain": [
       "<Figure size 432x288 with 1 Axes>"
      ]
     },
     "metadata": {},
     "output_type": "display_data"
    }
   ],
   "source": [
    "yo = []\n",
    "for i in range(int(num)):\n",
    "    yo.append(beta*x_point[i]+alpha)\n",
    "print(\"Points \" + str(yo))\n",
    "plt.plot(np.array(x_point),beta*np.array(x_point)+alpha,'r')\n",
    "plt.plot(x_point,y_point,'ro')\n",
    "inputx = float(input(\"Enter value \"))\n",
    "outputy = beta*inputx+alpha\n",
    "print(\"OutputY \" + str(outputy) )"
   ]
  },
  {
   "cell_type": "code",
   "execution_count": null,
   "metadata": {},
   "outputs": [],
   "source": []
  }
 ],
 "metadata": {
  "kernelspec": {
   "display_name": "Python 3",
   "language": "python",
   "name": "python3"
  },
  "language_info": {
   "codemirror_mode": {
    "name": "ipython",
    "version": 3
   },
   "file_extension": ".py",
   "mimetype": "text/x-python",
   "name": "python",
   "nbconvert_exporter": "python",
   "pygments_lexer": "ipython3",
   "version": "3.6.5"
  }
 },
 "nbformat": 4,
 "nbformat_minor": 2
}
