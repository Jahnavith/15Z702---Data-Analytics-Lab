{
 "cells": [
  {
   "cell_type": "code",
   "execution_count": 23,
   "metadata": {},
   "outputs": [],
   "source": [
    "from sklearn import svm,datasets\n",
    "from sklearn.naive_bayes import GaussianNB\n",
    "from sklearn.model_selection import train_test_split\n",
    "from sklearn.metrics import confusion_matrix\n",
    "from sklearn.metrics import accuracy_score\n",
    "from sklearn import metrics\n",
    "from sklearn.metrics import precision_recall_curve\n",
    "import matplotlib.pyplot as plt\n",
    "import numpy as np\n",
    "iris = datasets.load_iris()\n",
    "\n",
    "X = iris.data\n",
    "y = iris.target\n",
    "\n",
    "random_state = np.random.RandomState(0)\n",
    "n_samples, n_features = X.shape\n",
    "X = np.c_[X, random_state.randn(n_samples, 100 * n_features)]\n",
    "\n",
    "X_train, X_test, y_train, y_test = train_test_split(X [y < 2], y [y < 2], test_size = 0.20) \n",
    "C=1.0"
   ]
  },
  {
   "cell_type": "code",
   "execution_count": 27,
   "metadata": {},
   "outputs": [
    {
     "name": "stdout",
     "output_type": "stream",
     "text": [
      "Accuracy: 0.8\n",
      "Confusion matrix: \n",
      "[[8 3]\n",
      " [1 8]]\n",
      "Classification report: \n",
      "             precision    recall  f1-score   support\n",
      "\n",
      "          0       0.89      0.73      0.80        11\n",
      "          1       0.73      0.89      0.80         9\n",
      "\n",
      "avg / total       0.82      0.80      0.80        20\n",
      "\n"
     ]
    },
    {
     "data": {
      "text/plain": [
       "Text(0,0.5,'Precision')"
      ]
     },
     "execution_count": 27,
     "metadata": {},
     "output_type": "execute_result"
    },
    {
     "data": {
      "image/png": "[encoded data removed]",
      "text/plain": [
       "<Figure size 432x288 with 1 Axes>"
      ]
     },
     "metadata": {},
     "output_type": "display_data"
    }
   ],
   "source": [
    "#linear kernel\n",
    "linear=svm.SVC(kernel='linear')\n",
    "linear.fit(X_train,y_train)\n",
    "svmpred=linear.predict(X_test)\n",
    "\n",
    "#accuracy and confusion matrix\n",
    "print(\"Accuracy: \"+str(accuracy_score(y_test, svmpred)))  \n",
    "print(\"Confusion matrix: \\n\"+str(confusion_matrix(y_test, svmpred))) \n",
    "print(\"Classification report: \\n\"+str(metrics.classification_report(y_test,svmpred)))\n",
    "y_score = linear.decision_function(X_test)\n",
    "precision, recall , _  = precision_recall_curve(y_test, y_score)\n",
    "plt.step(recall, precision, color='r')\n",
    "plt.xlabel('Recall')\n",
    "plt.ylabel('Precision')"
   ]
  },
  {
   "cell_type": "code",
   "execution_count": 25,
   "metadata": {},
   "outputs": [
    {
     "name": "stdout",
     "output_type": "stream",
     "text": [
      "Accuracy: 0.55\n",
      "Confusion matrix: \n",
      "[[11  0]\n",
      " [ 9  0]]\n",
      "Classification report: \n",
      "             precision    recall  f1-score   support\n",
      "\n",
      "          0       0.55      1.00      0.71        11\n",
      "          1       0.00      0.00      0.00         9\n",
      "\n",
      "avg / total       0.30      0.55      0.39        20\n",
      "\n"
     ]
    },
    {
     "name": "stderr",
     "output_type": "stream",
     "text": [
      "G:\\Anaconda\\lib\\site-packages\\sklearn\\metrics\\classification.py:1135: UndefinedMetricWarning: Precision and F-score are ill-defined and being set to 0.0 in labels with no predicted samples.\n",
      "  'precision', 'predicted', average, warn_for)\n"
     ]
    },
    {
     "data": {
      "text/plain": [
       "Text(0,0.5,'Precision')"
      ]
     },
     "execution_count": 25,
     "metadata": {},
     "output_type": "execute_result"
    },
    {
     "data": {
      "image/png": "[encoded data removed]",
      "text/plain": [
       "<Figure size 432x288 with 1 Axes>"
      ]
     },
     "metadata": {},
     "output_type": "display_data"
    }
   ],
   "source": [
    "#polynomial kernel\n",
    "poly=svm.SVC(kernel='poly',random_state=27)\n",
    "poly.fit(X_train,y_train)\n",
    "svmpred=polysvc.predict(X_test)\n",
    "\n",
    "#accuracy and confusion matrix\n",
    "print(\"Accuracy: \"+str(accuracy_score(y_test, svmpred)))  \n",
    "print(\"Confusion matrix: \\n\"+str(confusion_matrix(y_test, svmpred))) \n",
    "print(\"Classification report: \\n\"+str(metrics.classification_report(y_test,svmpred)))\n",
    "y_score = poly.decision_function(X_test)\n",
    "precision, recall , _  = precision_recall_curve(y_test, y_score)\n",
    "plt.step(recall, precision, color='r')\n",
    "plt.xlabel('Recall')\n",
    "plt.ylabel('Precision')"
   ]
  },
  {
   "cell_type": "code",
   "execution_count": 26,
   "metadata": {},
   "outputs": [
    {
     "name": "stdout",
     "output_type": "stream",
     "text": [
      "Accuracy: 0.75\n",
      "Confusion matrix: \n",
      "[[6 5]\n",
      " [0 9]]\n",
      "Classification report: \n",
      "             precision    recall  f1-score   support\n",
      "\n",
      "          0       1.00      0.55      0.71        11\n",
      "          1       0.64      1.00      0.78         9\n",
      "\n",
      "avg / total       0.84      0.75      0.74        20\n",
      "\n"
     ]
    },
    {
     "data": {
      "text/plain": [
       "Text(0,0.5,'Precision')"
      ]
     },
     "execution_count": 26,
     "metadata": {},
     "output_type": "execute_result"
    },
    {
     "data": {
      "image/png": "[encoded data removed]",
      "text/plain": [
       "<Figure size 432x288 with 1 Axes>"
      ]
     },
     "metadata": {},
     "output_type": "display_data"
    }
   ],
   "source": [
    "#rbf kernel\n",
    "rbf=svm.SVC(kernel='rbf')\n",
    "rbf.fit(X_train,y_train)\n",
    "svmpred=rbf.predict(X_test)\n",
    "\n",
    "#accuracy and confusion matrix\n",
    "print(\"Accuracy: \"+str(accuracy_score(y_test, svmpred)))  \n",
    "print(\"Confusion matrix: \\n\"+str(confusion_matrix(y_test, svmpred))) \n",
    "print(\"Classification report: \\n\"+str(metrics.classification_report(y_test,svmpred)))\n",
    "y_score = rbfsvc.decision_function(X_test)\n",
    "precision, recall , _  = precision_recall_curve(y_test, y_score)\n",
    "plt.step(recall, precision, color='r')\n",
    "plt.xlabel('Recall')\n",
    "plt.ylabel('Precision')"
   ]
  },
  {
   "cell_type": "code",
   "execution_count": null,
   "metadata": {},
   "outputs": [],
   "source": []
  },
  {
   "cell_type": "code",
   "execution_count": null,
   "metadata": {},
   "outputs": [],
   "source": []
  }
 ],
 "metadata": {
  "kernelspec": {
   "display_name": "Python 3",
   "language": "python",
   "name": "python3"
  },
  "language_info": {
   "codemirror_mode": {
    "name": "ipython",
    "version": 3
   },
   "file_extension": ".py",
   "mimetype": "text/x-python",
   "name": "python",
   "nbconvert_exporter": "python",
   "pygments_lexer": "ipython3",
   "version": "3.6.5"
  }
 },
 "nbformat": 4,
 "nbformat_minor": 2
}
