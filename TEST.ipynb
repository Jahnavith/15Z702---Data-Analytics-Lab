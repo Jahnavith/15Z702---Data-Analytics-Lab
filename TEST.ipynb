{
 "cells": [
  {
   "cell_type": "code",
   "execution_count": 1,
   "metadata": {},
   "outputs": [
    {
     "ename": "ModuleNotFoundError",
     "evalue": "No module named 'arff'",
     "output_type": "error",
     "traceback": [
      "\u001b[1;31m---------------------------------------------------------------------------\u001b[0m",
      "\u001b[1;31mModuleNotFoundError\u001b[0m                       Traceback (most recent call last)",
      "\u001b[1;32m<ipython-input-1-be25f2b27249>\u001b[0m in \u001b[0;36m<module>\u001b[1;34m()\u001b[0m\n\u001b[1;32m----> 1\u001b[1;33m \u001b[1;32mimport\u001b[0m \u001b[0marff\u001b[0m\u001b[1;33m\u001b[0m\u001b[0m\n\u001b[0m\u001b[0;32m      2\u001b[0m \u001b[0mdata\u001b[0m \u001b[1;33m=\u001b[0m \u001b[0marff\u001b[0m\u001b[1;33m.\u001b[0m\u001b[0mload\u001b[0m\u001b[1;33m(\u001b[0m\u001b[0mopen\u001b[0m\u001b[1;33m(\u001b[0m\u001b[1;34m'untitled.arff'\u001b[0m\u001b[1;33m,\u001b[0m \u001b[1;34m'rb'\u001b[0m\u001b[1;33m)\u001b[0m\u001b[1;33m)\u001b[0m\u001b[1;33m\u001b[0m\u001b[0m\n",
      "\u001b[1;31mModuleNotFoundError\u001b[0m: No module named 'arff'"
     ]
    }
   ],
   "source": [
    "import arff\n",
    "data = arff.load(open('untitled.arff', 'rb'))"
   ]
  },
  {
   "cell_type": "code",
   "execution_count": 2,
   "metadata": {},
   "outputs": [
    {
     "ename": "SyntaxError",
     "evalue": "unexpected EOF while parsing (<ipython-input-2-d0fcb3154cb1>, line 6)",
     "output_type": "error",
     "traceback": [
      "\u001b[1;36m  File \u001b[1;32m\"<ipython-input-2-d0fcb3154cb1>\"\u001b[1;36m, line \u001b[1;32m6\u001b[0m\n\u001b[1;33m    arffData = np.array(dataDictionary['data']\u001b[0m\n\u001b[1;37m                                              ^\u001b[0m\n\u001b[1;31mSyntaxError\u001b[0m\u001b[1;31m:\u001b[0m unexpected EOF while parsing\n"
     ]
    }
   ],
   "source": [
    "import arff\n",
    "import numpy as np\n",
    "with open(\"untitled.arff\") as f:\n",
    "    dataDictionary = arff.load(f)\n",
    "    f.close()\n",
    "arffData = np.array(dataDictionary['data']\n"
   ]
  },
  {
   "cell_type": "code",
   "execution_count": 5,
   "metadata": {
    "scrolled": true
   },
   "outputs": [
    {
     "ename": "ModuleNotFoundError",
     "evalue": "No module named 'arff'",
     "output_type": "error",
     "traceback": [
      "\u001b[1;31m---------------------------------------------------------------------------\u001b[0m",
      "\u001b[1;31mModuleNotFoundError\u001b[0m                       Traceback (most recent call last)",
      "\u001b[1;32m<ipython-input-5-384c0d055bdd>\u001b[0m in \u001b[0;36m<module>\u001b[1;34m()\u001b[0m\n\u001b[1;32m----> 1\u001b[1;33m \u001b[1;32mimport\u001b[0m \u001b[0marff\u001b[0m\u001b[1;33m,\u001b[0m \u001b[0mnumpy\u001b[0m \u001b[1;32mas\u001b[0m \u001b[0mnp\u001b[0m\u001b[1;33m\u001b[0m\u001b[0m\n\u001b[0m\u001b[0;32m      2\u001b[0m \u001b[0mdataset\u001b[0m \u001b[1;33m=\u001b[0m \u001b[0marff\u001b[0m\u001b[1;33m.\u001b[0m\u001b[0mload\u001b[0m\u001b[1;33m(\u001b[0m\u001b[0mopen\u001b[0m\u001b[1;33m(\u001b[0m\u001b[1;34m'untitled.arff'\u001b[0m\u001b[1;33m,\u001b[0m \u001b[1;34m'rb'\u001b[0m\u001b[1;33m)\u001b[0m\u001b[1;33m)\u001b[0m\u001b[1;33m\u001b[0m\u001b[0m\n\u001b[0;32m      3\u001b[0m \u001b[0mdata\u001b[0m \u001b[1;33m=\u001b[0m \u001b[0mnp\u001b[0m\u001b[1;33m.\u001b[0m\u001b[0marray\u001b[0m\u001b[1;33m(\u001b[0m\u001b[0mdataset\u001b[0m\u001b[1;33m[\u001b[0m\u001b[1;34m'sapfile1'\u001b[0m\u001b[1;33m]\u001b[0m\u001b[1;33m)\u001b[0m\u001b[1;33m\u001b[0m\u001b[0m\n",
      "\u001b[1;31mModuleNotFoundError\u001b[0m: No module named 'arff'"
     ]
    }
   ],
   "source": [
    "import arff, numpy as np\n",
    "dataset = arff.load(open('untitled.arff', 'rb'))\n",
    "data = np.array(dataset['sapfile1'])"
   ]
  },
  {
   "cell_type": "code",
   "execution_count": 9,
   "metadata": {},
   "outputs": [
    {
     "ename": "ModuleNotFoundError",
     "evalue": "No module named 'arff'",
     "output_type": "error",
     "traceback": [
      "\u001b[1;31m---------------------------------------------------------------------------\u001b[0m",
      "\u001b[1;31mModuleNotFoundError\u001b[0m                       Traceback (most recent call last)",
      "\u001b[1;32m<ipython-input-9-6258c7559195>\u001b[0m in \u001b[0;36m<module>\u001b[1;34m()\u001b[0m\n\u001b[1;32m----> 1\u001b[1;33m \u001b[1;32mimport\u001b[0m \u001b[0marff\u001b[0m\u001b[1;33m\u001b[0m\u001b[0m\n\u001b[0m\u001b[0;32m      2\u001b[0m \u001b[1;32mfor\u001b[0m \u001b[0mrow\u001b[0m \u001b[1;32min\u001b[0m \u001b[0marff\u001b[0m\u001b[1;33m.\u001b[0m\u001b[0mload\u001b[0m\u001b[1;33m(\u001b[0m\u001b[1;34m'student.arff'\u001b[0m\u001b[1;33m)\u001b[0m\u001b[1;33m:\u001b[0m\u001b[1;33m\u001b[0m\u001b[0m\n\u001b[0;32m      3\u001b[0m         \u001b[0mprint\u001b[0m\u001b[1;33m(\u001b[0m\u001b[0mrow\u001b[0m\u001b[1;33m.\u001b[0m\u001b[0mge\u001b[0m\u001b[1;33m)\u001b[0m\u001b[1;33m\u001b[0m\u001b[0m\n",
      "\u001b[1;31mModuleNotFoundError\u001b[0m: No module named 'arff'"
     ]
    }
   ],
   "source": [
    "import arff\n",
    "for row in arff.load('student.arff'):\n",
    "        print(row.ge) "
   ]
  },
  {
   "cell_type": "code",
   "execution_count": 7,
   "metadata": {},
   "outputs": [
    {
     "name": "stdout",
     "output_type": "stream",
     "text": [
      "\n",
      "The following command must be run outside of the IPython shell:\n",
      "\n",
      "    $ pip install arff\n",
      "\n",
      "The Python package manager (pip) can only be used from outside of IPython.\n",
      "Please reissue the `pip` command in a separate terminal or command prompt.\n",
      "\n",
      "See the Python documentation for more information on how to install packages:\n",
      "\n",
      "    https://docs.python.org/3/installing/\n"
     ]
    }
   ],
   "source": [
    "pip install arff"
   ]
  },
  {
   "cell_type": "code",
   "execution_count": 8,
   "metadata": {},
   "outputs": [
    {
     "ename": "SyntaxError",
     "evalue": "unexpected EOF while parsing (<ipython-input-8-d6529d2fae64>, line 6)",
     "output_type": "error",
     "traceback": [
      "\u001b[1;36m  File \u001b[1;32m\"<ipython-input-8-d6529d2fae64>\"\u001b[1;36m, line \u001b[1;32m6\u001b[0m\n\u001b[1;33m    arffData = np.array(dataDictionary['data']\u001b[0m\n\u001b[1;37m                                              ^\u001b[0m\n\u001b[1;31mSyntaxError\u001b[0m\u001b[1;31m:\u001b[0m unexpected EOF while parsing\n"
     ]
    }
   ],
   "source": [
    "import arff\n",
    "import numpy as np\n",
    "with open(\"student.arff\") as f:\n",
    "    dataDictionary = arff.load(f)\n",
    "    f.close()\n",
    "arffData = np.array(dataDictionary['data']"
   ]
  },
  {
   "cell_type": "code",
   "execution_count": 10,
   "metadata": {},
   "outputs": [
    {
     "ename": "ModuleNotFoundError",
     "evalue": "No module named 'arff'",
     "output_type": "error",
     "traceback": [
      "\u001b[1;31m---------------------------------------------------------------------------\u001b[0m",
      "\u001b[1;31mModuleNotFoundError\u001b[0m                       Traceback (most recent call last)",
      "\u001b[1;32m<ipython-input-10-6258c7559195>\u001b[0m in \u001b[0;36m<module>\u001b[1;34m()\u001b[0m\n\u001b[1;32m----> 1\u001b[1;33m \u001b[1;32mimport\u001b[0m \u001b[0marff\u001b[0m\u001b[1;33m\u001b[0m\u001b[0m\n\u001b[0m\u001b[0;32m      2\u001b[0m \u001b[1;32mfor\u001b[0m \u001b[0mrow\u001b[0m \u001b[1;32min\u001b[0m \u001b[0marff\u001b[0m\u001b[1;33m.\u001b[0m\u001b[0mload\u001b[0m\u001b[1;33m(\u001b[0m\u001b[1;34m'student.arff'\u001b[0m\u001b[1;33m)\u001b[0m\u001b[1;33m:\u001b[0m\u001b[1;33m\u001b[0m\u001b[0m\n\u001b[0;32m      3\u001b[0m         \u001b[0mprint\u001b[0m\u001b[1;33m(\u001b[0m\u001b[0mrow\u001b[0m\u001b[1;33m.\u001b[0m\u001b[0mge\u001b[0m\u001b[1;33m)\u001b[0m\u001b[1;33m\u001b[0m\u001b[0m\n",
      "\u001b[1;31mModuleNotFoundError\u001b[0m: No module named 'arff'"
     ]
    }
   ],
   "source": [
    "import arff\n",
    "for row in arff.load('student.arff'):\n",
    "        print(row.ge) "
   ]
  },
  {
   "cell_type": "code",
   "execution_count": 11,
   "metadata": {},
   "outputs": [
    {
     "ename": "SyntaxError",
     "evalue": "invalid syntax (<ipython-input-11-e2da0ff6aec9>, line 1)",
     "output_type": "error",
     "traceback": [
      "\u001b[1;36m  File \u001b[1;32m\"<ipython-input-11-e2da0ff6aec9>\"\u001b[1;36m, line \u001b[1;32m1\u001b[0m\n\u001b[1;33m    m pip install SomePackage\u001b[0m\n\u001b[1;37m        ^\u001b[0m\n\u001b[1;31mSyntaxError\u001b[0m\u001b[1;31m:\u001b[0m invalid syntax\n"
     ]
    }
   ],
   "source": [
    "m pip install SomePackage"
   ]
  },
  {
   "cell_type": "code",
   "execution_count": 12,
   "metadata": {},
   "outputs": [],
   "source": [
    "from scipy.io import arff"
   ]
  },
  {
   "cell_type": "code",
   "execution_count": 13,
   "metadata": {},
   "outputs": [
    {
     "ename": "SyntaxError",
     "evalue": "unexpected EOF while parsing (<ipython-input-13-d6529d2fae64>, line 6)",
     "output_type": "error",
     "traceback": [
      "\u001b[1;36m  File \u001b[1;32m\"<ipython-input-13-d6529d2fae64>\"\u001b[1;36m, line \u001b[1;32m6\u001b[0m\n\u001b[1;33m    arffData = np.array(dataDictionary['data']\u001b[0m\n\u001b[1;37m                                              ^\u001b[0m\n\u001b[1;31mSyntaxError\u001b[0m\u001b[1;31m:\u001b[0m unexpected EOF while parsing\n"
     ]
    }
   ],
   "source": [
    "import arff\n",
    "import numpy as np\n",
    "with open(\"student.arff\") as f:\n",
    "    dataDictionary = arff.load(f)\n",
    "    f.close()\n",
    "arffData = np.array(dataDictionary['data']"
   ]
  },
  {
   "cell_type": "code",
   "execution_count": null,
   "metadata": {},
   "outputs": [],
   "source": [
    "arffdata"
   ]
  },
  {
   "cell_type": "code",
   "execution_count": 14,
   "metadata": {},
   "outputs": [
    {
     "data": {
      "text/html": [
       "<div>\n",
       "<style scoped>\n",
       "    .dataframe tbody tr th:only-of-type {\n",
       "        vertical-align: middle;\n",
       "    }\n",
       "\n",
       "    .dataframe tbody tr th {\n",
       "        vertical-align: top;\n",
       "    }\n",
       "\n",
       "    .dataframe thead th {\n",
       "        text-align: right;\n",
       "    }\n",
       "</style>\n",
       "<table border=\"1\" class=\"dataframe\">\n",
       "  <thead>\n",
       "    <tr style=\"text-align: right;\">\n",
       "      <th></th>\n",
       "      <th>ge</th>\n",
       "      <th>cst</th>\n",
       "      <th>tnp</th>\n",
       "      <th>twp</th>\n",
       "      <th>iap</th>\n",
       "      <th>esp</th>\n",
       "      <th>arr</th>\n",
       "      <th>ms</th>\n",
       "      <th>ls</th>\n",
       "      <th>as</th>\n",
       "      <th>...</th>\n",
       "      <th>fq</th>\n",
       "      <th>mq</th>\n",
       "      <th>fo</th>\n",
       "      <th>mo</th>\n",
       "      <th>nf</th>\n",
       "      <th>sh</th>\n",
       "      <th>ss</th>\n",
       "      <th>me</th>\n",
       "      <th>tt</th>\n",
       "      <th>atd</th>\n",
       "    </tr>\n",
       "  </thead>\n",
       "  <tbody>\n",
       "    <tr>\n",
       "      <th>0</th>\n",
       "      <td>b'F'</td>\n",
       "      <td>b'G'</td>\n",
       "      <td>b'Good'</td>\n",
       "      <td>b'Good'</td>\n",
       "      <td>b'Vg'</td>\n",
       "      <td>b'Good'</td>\n",
       "      <td>b'Y'</td>\n",
       "      <td>b'Unmarried'</td>\n",
       "      <td>b'V'</td>\n",
       "      <td>b'Paid'</td>\n",
       "      <td>...</td>\n",
       "      <td>b'Um'</td>\n",
       "      <td>b'10'</td>\n",
       "      <td>b'Farmer'</td>\n",
       "      <td>b'Housewife'</td>\n",
       "      <td>b'Large'</td>\n",
       "      <td>b'Poor'</td>\n",
       "      <td>b'Govt'</td>\n",
       "      <td>b'Asm'</td>\n",
       "      <td>b'Small'</td>\n",
       "      <td>b'Good'</td>\n",
       "    </tr>\n",
       "    <tr>\n",
       "      <th>1</th>\n",
       "      <td>b'M'</td>\n",
       "      <td>b'OBC'</td>\n",
       "      <td>b'Vg'</td>\n",
       "      <td>b'Vg'</td>\n",
       "      <td>b'Vg'</td>\n",
       "      <td>b'Vg'</td>\n",
       "      <td>b'N'</td>\n",
       "      <td>b'Unmarried'</td>\n",
       "      <td>b'V'</td>\n",
       "      <td>b'Paid'</td>\n",
       "      <td>...</td>\n",
       "      <td>b'Um'</td>\n",
       "      <td>b'Il'</td>\n",
       "      <td>b'Service'</td>\n",
       "      <td>b'Service'</td>\n",
       "      <td>b'Small'</td>\n",
       "      <td>b'Poor'</td>\n",
       "      <td>b'Govt'</td>\n",
       "      <td>b'Asm'</td>\n",
       "      <td>b'Average'</td>\n",
       "      <td>b'Average'</td>\n",
       "    </tr>\n",
       "    <tr>\n",
       "      <th>2</th>\n",
       "      <td>b'F'</td>\n",
       "      <td>b'OBC'</td>\n",
       "      <td>b'Good'</td>\n",
       "      <td>b'Good'</td>\n",
       "      <td>b'Vg'</td>\n",
       "      <td>b'Good'</td>\n",
       "      <td>b'N'</td>\n",
       "      <td>b'Unmarried'</td>\n",
       "      <td>b'V'</td>\n",
       "      <td>b'Paid'</td>\n",
       "      <td>...</td>\n",
       "      <td>b'12'</td>\n",
       "      <td>b'10'</td>\n",
       "      <td>b'Service'</td>\n",
       "      <td>b'Housewife'</td>\n",
       "      <td>b'Average'</td>\n",
       "      <td>b'Average'</td>\n",
       "      <td>b'Govt'</td>\n",
       "      <td>b'Asm'</td>\n",
       "      <td>b'Large'</td>\n",
       "      <td>b'Good'</td>\n",
       "    </tr>\n",
       "    <tr>\n",
       "      <th>3</th>\n",
       "      <td>b'M'</td>\n",
       "      <td>b'MOBC'</td>\n",
       "      <td>b'Pass'</td>\n",
       "      <td>b'Good'</td>\n",
       "      <td>b'Vg'</td>\n",
       "      <td>b'Good'</td>\n",
       "      <td>b'N'</td>\n",
       "      <td>b'Unmarried'</td>\n",
       "      <td>b'V'</td>\n",
       "      <td>b'Paid'</td>\n",
       "      <td>...</td>\n",
       "      <td>b'12'</td>\n",
       "      <td>b'Um'</td>\n",
       "      <td>b'Business'</td>\n",
       "      <td>b'Business'</td>\n",
       "      <td>b'Large'</td>\n",
       "      <td>b'Poor'</td>\n",
       "      <td>b'Govt'</td>\n",
       "      <td>b'Asm'</td>\n",
       "      <td>b'Average'</td>\n",
       "      <td>b'Average'</td>\n",
       "    </tr>\n",
       "    <tr>\n",
       "      <th>4</th>\n",
       "      <td>b'M'</td>\n",
       "      <td>b'G'</td>\n",
       "      <td>b'Good'</td>\n",
       "      <td>b'Good'</td>\n",
       "      <td>b'Vg'</td>\n",
       "      <td>b'Vg'</td>\n",
       "      <td>b'N'</td>\n",
       "      <td>b'Unmarried'</td>\n",
       "      <td>b'V'</td>\n",
       "      <td>b'Paid'</td>\n",
       "      <td>...</td>\n",
       "      <td>b'10'</td>\n",
       "      <td>b'12'</td>\n",
       "      <td>b'Service'</td>\n",
       "      <td>b'Housewife'</td>\n",
       "      <td>b'Large'</td>\n",
       "      <td>b'Poor'</td>\n",
       "      <td>b'Private'</td>\n",
       "      <td>b'Asm'</td>\n",
       "      <td>b'Small'</td>\n",
       "      <td>b'Good'</td>\n",
       "    </tr>\n",
       "  </tbody>\n",
       "</table>\n",
       "<p>5 rows × 22 columns</p>\n",
       "</div>"
      ],
      "text/plain": [
       "     ge      cst      tnp      twp    iap      esp   arr            ms    ls  \\\n",
       "0  b'F'     b'G'  b'Good'  b'Good'  b'Vg'  b'Good'  b'Y'  b'Unmarried'  b'V'   \n",
       "1  b'M'   b'OBC'    b'Vg'    b'Vg'  b'Vg'    b'Vg'  b'N'  b'Unmarried'  b'V'   \n",
       "2  b'F'   b'OBC'  b'Good'  b'Good'  b'Vg'  b'Good'  b'N'  b'Unmarried'  b'V'   \n",
       "3  b'M'  b'MOBC'  b'Pass'  b'Good'  b'Vg'  b'Good'  b'N'  b'Unmarried'  b'V'   \n",
       "4  b'M'     b'G'  b'Good'  b'Good'  b'Vg'    b'Vg'  b'N'  b'Unmarried'  b'V'   \n",
       "\n",
       "        as     ...         fq     mq           fo            mo          nf  \\\n",
       "0  b'Paid'     ...      b'Um'  b'10'    b'Farmer'  b'Housewife'    b'Large'   \n",
       "1  b'Paid'     ...      b'Um'  b'Il'   b'Service'    b'Service'    b'Small'   \n",
       "2  b'Paid'     ...      b'12'  b'10'   b'Service'  b'Housewife'  b'Average'   \n",
       "3  b'Paid'     ...      b'12'  b'Um'  b'Business'   b'Business'    b'Large'   \n",
       "4  b'Paid'     ...      b'10'  b'12'   b'Service'  b'Housewife'    b'Large'   \n",
       "\n",
       "           sh          ss      me          tt         atd  \n",
       "0     b'Poor'     b'Govt'  b'Asm'    b'Small'     b'Good'  \n",
       "1     b'Poor'     b'Govt'  b'Asm'  b'Average'  b'Average'  \n",
       "2  b'Average'     b'Govt'  b'Asm'    b'Large'     b'Good'  \n",
       "3     b'Poor'     b'Govt'  b'Asm'  b'Average'  b'Average'  \n",
       "4     b'Poor'  b'Private'  b'Asm'    b'Small'     b'Good'  \n",
       "\n",
       "[5 rows x 22 columns]"
      ]
     },
     "execution_count": 14,
     "metadata": {},
     "output_type": "execute_result"
    }
   ],
   "source": [
    "from scipy.io import arff\n",
    "import pandas as pd\n",
    "\n",
    "data=arff.loadarff('student.arff')\n",
    "df=pd.DataFrame(data[0])\n",
    "\n",
    "df.head()"
   ]
  },
  {
   "cell_type": "code",
   "execution_count": 15,
   "metadata": {},
   "outputs": [
    {
     "data": {
      "text/html": [
       "<div>\n",
       "<style scoped>\n",
       "    .dataframe tbody tr th:only-of-type {\n",
       "        vertical-align: middle;\n",
       "    }\n",
       "\n",
       "    .dataframe tbody tr th {\n",
       "        vertical-align: top;\n",
       "    }\n",
       "\n",
       "    .dataframe thead th {\n",
       "        text-align: right;\n",
       "    }\n",
       "</style>\n",
       "<table border=\"1\" class=\"dataframe\">\n",
       "  <thead>\n",
       "    <tr style=\"text-align: right;\">\n",
       "      <th></th>\n",
       "      <th>ge</th>\n",
       "      <th>cst</th>\n",
       "      <th>tnp</th>\n",
       "      <th>twp</th>\n",
       "      <th>iap</th>\n",
       "      <th>esp</th>\n",
       "      <th>arr</th>\n",
       "      <th>ms</th>\n",
       "      <th>ls</th>\n",
       "      <th>as</th>\n",
       "      <th>...</th>\n",
       "      <th>fq</th>\n",
       "      <th>mq</th>\n",
       "      <th>fo</th>\n",
       "      <th>mo</th>\n",
       "      <th>nf</th>\n",
       "      <th>sh</th>\n",
       "      <th>ss</th>\n",
       "      <th>me</th>\n",
       "      <th>tt</th>\n",
       "      <th>atd</th>\n",
       "    </tr>\n",
       "  </thead>\n",
       "  <tbody>\n",
       "    <tr>\n",
       "      <th>count</th>\n",
       "      <td>131</td>\n",
       "      <td>131</td>\n",
       "      <td>131</td>\n",
       "      <td>131</td>\n",
       "      <td>131</td>\n",
       "      <td>131</td>\n",
       "      <td>131</td>\n",
       "      <td>131</td>\n",
       "      <td>131</td>\n",
       "      <td>131</td>\n",
       "      <td>...</td>\n",
       "      <td>131</td>\n",
       "      <td>131</td>\n",
       "      <td>131</td>\n",
       "      <td>131</td>\n",
       "      <td>131</td>\n",
       "      <td>131</td>\n",
       "      <td>131</td>\n",
       "      <td>131</td>\n",
       "      <td>131</td>\n",
       "      <td>131</td>\n",
       "    </tr>\n",
       "    <tr>\n",
       "      <th>unique</th>\n",
       "      <td>2</td>\n",
       "      <td>5</td>\n",
       "      <td>4</td>\n",
       "      <td>4</td>\n",
       "      <td>4</td>\n",
       "      <td>4</td>\n",
       "      <td>2</td>\n",
       "      <td>1</td>\n",
       "      <td>2</td>\n",
       "      <td>2</td>\n",
       "      <td>...</td>\n",
       "      <td>6</td>\n",
       "      <td>6</td>\n",
       "      <td>5</td>\n",
       "      <td>5</td>\n",
       "      <td>3</td>\n",
       "      <td>3</td>\n",
       "      <td>2</td>\n",
       "      <td>4</td>\n",
       "      <td>3</td>\n",
       "      <td>3</td>\n",
       "    </tr>\n",
       "    <tr>\n",
       "      <th>top</th>\n",
       "      <td>b'M'</td>\n",
       "      <td>b'OBC'</td>\n",
       "      <td>b'Good'</td>\n",
       "      <td>b'Good'</td>\n",
       "      <td>b'Vg'</td>\n",
       "      <td>b'Good'</td>\n",
       "      <td>b'N'</td>\n",
       "      <td>b'Unmarried'</td>\n",
       "      <td>b'V'</td>\n",
       "      <td>b'Paid'</td>\n",
       "      <td>...</td>\n",
       "      <td>b'Um'</td>\n",
       "      <td>b'Um'</td>\n",
       "      <td>b'Service'</td>\n",
       "      <td>b'Housewife'</td>\n",
       "      <td>b'Large'</td>\n",
       "      <td>b'Average'</td>\n",
       "      <td>b'Govt'</td>\n",
       "      <td>b'Eng'</td>\n",
       "      <td>b'Small'</td>\n",
       "      <td>b'Good'</td>\n",
       "    </tr>\n",
       "    <tr>\n",
       "      <th>freq</th>\n",
       "      <td>72</td>\n",
       "      <td>57</td>\n",
       "      <td>59</td>\n",
       "      <td>65</td>\n",
       "      <td>63</td>\n",
       "      <td>54</td>\n",
       "      <td>78</td>\n",
       "      <td>131</td>\n",
       "      <td>92</td>\n",
       "      <td>76</td>\n",
       "      <td>...</td>\n",
       "      <td>40</td>\n",
       "      <td>52</td>\n",
       "      <td>38</td>\n",
       "      <td>115</td>\n",
       "      <td>58</td>\n",
       "      <td>59</td>\n",
       "      <td>91</td>\n",
       "      <td>62</td>\n",
       "      <td>78</td>\n",
       "      <td>56</td>\n",
       "    </tr>\n",
       "  </tbody>\n",
       "</table>\n",
       "<p>4 rows × 22 columns</p>\n",
       "</div>"
      ],
      "text/plain": [
       "          ge     cst      tnp      twp    iap      esp   arr            ms  \\\n",
       "count    131     131      131      131    131      131   131           131   \n",
       "unique     2       5        4        4      4        4     2             1   \n",
       "top     b'M'  b'OBC'  b'Good'  b'Good'  b'Vg'  b'Good'  b'N'  b'Unmarried'   \n",
       "freq      72      57       59       65     63       54    78           131   \n",
       "\n",
       "          ls       as   ...        fq     mq          fo            mo  \\\n",
       "count    131      131   ...       131    131         131           131   \n",
       "unique     2        2   ...         6      6           5             5   \n",
       "top     b'V'  b'Paid'   ...     b'Um'  b'Um'  b'Service'  b'Housewife'   \n",
       "freq      92       76   ...        40     52          38           115   \n",
       "\n",
       "              nf          sh       ss      me        tt      atd  \n",
       "count        131         131      131     131       131      131  \n",
       "unique         3           3        2       4         3        3  \n",
       "top     b'Large'  b'Average'  b'Govt'  b'Eng'  b'Small'  b'Good'  \n",
       "freq          58          59       91      62        78       56  \n",
       "\n",
       "[4 rows x 22 columns]"
      ]
     },
     "execution_count": 15,
     "metadata": {},
     "output_type": "execute_result"
    }
   ],
   "source": [
    "df.describe()"
   ]
  },
  {
   "cell_type": "code",
   "execution_count": 16,
   "metadata": {},
   "outputs": [
    {
     "ename": "SyntaxError",
     "evalue": "Missing parentheses in call to 'print'. Did you mean print(df)? (<ipython-input-16-e21ddb45044a>, line 6)",
     "output_type": "error",
     "traceback": [
      "\u001b[1;36m  File \u001b[1;32m\"<ipython-input-16-e21ddb45044a>\"\u001b[1;36m, line \u001b[1;32m6\u001b[0m\n\u001b[1;33m    print df\u001b[0m\n\u001b[1;37m           ^\u001b[0m\n\u001b[1;31mSyntaxError\u001b[0m\u001b[1;31m:\u001b[0m Missing parentheses in call to 'print'. Did you mean print(df)?\n"
     ]
    }
   ],
   "source": [
    "import pandas as pd\n",
    "import numpy as np\n",
    "\n",
    "d = {'tnp':pd.Series(['Best,Vg,Good,Pass,Fail'])}\n",
    "df = pd.DataFrame(d)\n",
    "print df"
   ]
  },
  {
   "cell_type": "code",
   "execution_count": 27,
   "metadata": {},
   "outputs": [
    {
     "name": "stdout",
     "output_type": "stream",
     "text": [
      "    ge   cst  arr         ms   ls    as\n",
      "0    M     G    Y    married    T  Free\n",
      "1    F    ST    N  unmarried    V  Paid\n",
      "2  NaN    SC  NaN        NaN  NaN   NaN\n",
      "3  NaN   OBC  NaN        NaN  NaN   NaN\n",
      "4  NaN  MOBC  NaN        NaN  NaN   NaN\n"
     ]
    }
   ],
   "source": [
    "\n",
    "import pandas as pd\n",
    "import numpy as np\n",
    "\n",
    "#Create a Dictionary of series\n",
    "d = {'ge':pd.Series(['M','F']),\n",
    "   'cst':pd.Series(['G','ST','SC','OBC','MOBC']),\n",
    "   'arr':pd.Series(['Y','N']),\n",
    "    'ms':pd.Series(['married','unmarried']),\n",
    "    'ls':pd.Series(['T','V']),\n",
    "    'as':pd.Series(['Free','Paid'])}\n",
    "#Create a DataFrame\n",
    "df = pd.DataFrame(d)\n",
    "print(df)\n"
   ]
  },
  {
   "cell_type": "code",
   "execution_count": null,
   "metadata": {},
   "outputs": [],
   "source": []
  }
 ],
 "metadata": {
  "kernelspec": {
   "display_name": "Python 3",
   "language": "python",
   "name": "python3"
  },
  "language_info": {
   "codemirror_mode": {
    "name": "ipython",
    "version": 3
   },
   "file_extension": ".py",
   "mimetype": "text/x-python",
   "name": "python",
   "nbconvert_exporter": "python",
   "pygments_lexer": "ipython3",
   "version": "3.6.5"
  }
 },
 "nbformat": 4,
 "nbformat_minor": 2
}
