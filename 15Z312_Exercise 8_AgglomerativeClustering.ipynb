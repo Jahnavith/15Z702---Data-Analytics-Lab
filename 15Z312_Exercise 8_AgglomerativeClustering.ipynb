{
 "cells": [
  {
   "cell_type": "markdown",
   "metadata": {},
   "source": [
    "# Exercise 8\n",
    "# Clustering"
   ]
  },
  {
   "cell_type": "markdown",
   "metadata": {},
   "source": [
    "## <b>Problem Description</b>\n",
    "To perform clustering using k-means, k-medoids and agglomerative methods"
   ]
  },
  {
   "cell_type": "markdown",
   "metadata": {},
   "source": [
    "### 1. K Means"
   ]
  },
  {
   "cell_type": "code",
   "execution_count": 1,
   "metadata": {},
   "outputs": [
    {
     "data": {
      "text/plain": [
       "array([1, 1, 1, 1, 1, 1, 1, 1, 1, 1, 1, 1, 1, 1, 1, 1, 1, 1, 1, 1, 1, 1,\n",
       "       1, 1, 1, 1, 1, 1, 1, 1, 1, 1, 1, 1, 1, 1, 1, 1, 1, 1, 1, 1, 1, 1,\n",
       "       1, 1, 1, 1, 1, 1, 0, 0, 2, 0, 0, 0, 0, 0, 0, 0, 0, 0, 0, 0, 0, 0,\n",
       "       0, 0, 0, 0, 0, 0, 0, 0, 0, 0, 0, 2, 0, 0, 0, 0, 0, 0, 0, 0, 0, 0,\n",
       "       0, 0, 0, 0, 0, 0, 0, 0, 0, 0, 0, 0, 2, 0, 2, 2, 2, 2, 0, 2, 2, 2,\n",
       "       2, 2, 2, 0, 0, 2, 2, 2, 2, 0, 2, 0, 2, 0, 2, 2, 0, 0, 2, 2, 2, 2,\n",
       "       2, 0, 2, 2, 2, 2, 0, 2, 2, 2, 0, 2, 2, 2, 0, 2, 2, 0])"
      ]
     },
     "execution_count": 1,
     "metadata": {},
     "output_type": "execute_result"
    }
   ],
   "source": [
    "from sklearn.cluster import KMeans\n",
    "from sklearn.datasets import load_iris\n",
    "from sklearn.metrics import accuracy_score\n",
    "from sklearn.model_selection import train_test_split\n",
    "\n",
    "iris = load_iris()\n",
    "X = iris.data\n",
    "\n",
    "kmeans = KMeans(n_clusters=3, random_state=0).fit(X)\n",
    "kmeans.labels_"
   ]
  },
  {
   "cell_type": "markdown",
   "metadata": {},
   "source": [
    "### 2. K Medoids"
   ]
  },
  {
   "cell_type": "code",
   "execution_count": 2,
   "metadata": {},
   "outputs": [
    {
     "name": "stdout",
     "output_type": "stream",
     "text": [
      "Initializing Data.\n",
      "n=6000000\td=3\tk=6\tbatch_size=1000 \n",
      "Distance metric:  Manhattan\n",
      "\n",
      "Making k-groups as:\n",
      "    x[0:1000000, 2] += 0\n",
      "    x[1000000:2000000, 0] += 9\n",
      "    x[2000000:3000000, 1] += 18\n",
      "    x[3000000:4000000, 2] += 27\n",
      "    x[4000000:5000000, 0] += 36\n",
      "    x[5000000:6000000, 1] += 45\n",
      "\n",
      "Fitting Kmedoids.\n",
      "Initializing to random medoids.\n",
      "\tFinding new medoids.\n",
      "\tReassigning points.\n",
      "iteration  0: 16.00% of points got reassigned.\n",
      "\tFinding new medoids.\n",
      "\tReassigning points.\n",
      "iteration  1: 0.71% of points got reassigned.\n",
      "\n",
      "Fitting Kmeans from Scikit-Learn\n",
      "\n",
      "KMedoids:\n",
      "[[-0.60612191 45.14779493 -0.03217662]\n",
      " [ 8.85849871 -0.30200808 -0.15378769]\n",
      " [-0.21859602  1.42113585 -0.00259564]\n",
      " [ 0.09383698 -0.06620665 27.2910921 ]\n",
      " [ 0.53464463 45.13614272  0.15450471]\n",
      " [35.89015332  0.08452618  0.37228623]]\n",
      "K-Medoids class sizes:\n",
      "[ 487042. 1000118. 1999882. 1000000.  512958. 1000000.]\n",
      "\n",
      "KMeans:\n",
      "[[35.99847299 -0.00093059 -0.00111718]\n",
      " [ 9.00092632 -0.00164236 -0.00010067]\n",
      " [ 0.00069047 45.00008233  0.00081331]\n",
      " [-0.00069688  0.00030652 26.99981997]\n",
      " [-0.00112429 17.99755477 -0.00073309]\n",
      " [-0.00110388 -0.00000996  0.00018143]]\n",
      "K-Means class sizes:\n",
      "[1000000. 1000001. 1000000. 1000000. 1000000.  999999.]\n",
      "\n",
      "Mismatch between assignment to Kmeans and Kmedoids:\n",
      "[[      0.       0.  487042.       0.       0.       0.]\n",
      " [      0.  999991.       0.       0.       0.     127.]\n",
      " [      0.      10.       0.       0. 1000000.  999872.]\n",
      " [      0.       0.       0. 1000000.       0.       0.]\n",
      " [      0.       0.  512958.       0.       0.       0.]\n",
      " [1000000.       0.       0.       0.       0.       0.]]\n",
      "Should ideally be 1000000 * a permutation matrix.\n"
     ]
    }
   ],
   "source": [
    "import numpy as np\n",
    "from sklearn.cluster import KMeans\n",
    "\n",
    "######################### K-Medoids\n",
    "\n",
    "def assign_nearest(ids_of_mediods):\n",
    "    dists = dist(x[:,None,:], x[None,ids_of_mediods,:])\n",
    "    return np.argmin(dists, axis=1)\n",
    "\n",
    "\n",
    "def dist(xa, xb):\n",
    "    if EUCLIDEAN:\n",
    "        return np.sqrt(np.sum(np.square(xa-xb), axis=-1))\n",
    "    else:\n",
    "        return np.sum(np.abs(xa - xb), axis=-1)\n",
    "\n",
    "\n",
    "def find_medoids(assignments):\n",
    "    medoid_ids = np.full(k, -1, dtype=int)\n",
    "    subset = np.random.choice(n, batch_sz, replace=False)\n",
    "\n",
    "    for i in range(k):\n",
    "        indices = np.intersect1d(np.where(assignments==i)[0], subset)\n",
    "        distances = dist(x[indices, None, :], x[None, indices, :]).sum(axis=0)\n",
    "        medoid_ids[i] = indices[np.argmin(distances)]\n",
    "\n",
    "    return medoid_ids\n",
    "\n",
    "\n",
    "def kmeds(iterations=20):\n",
    "    print(\"Initializing to random medoids.\")\n",
    "    ids_of_medoids = np.random.choice(n, k, replace=False)\n",
    "    class_assignments = assign_nearest(ids_of_medoids)\n",
    "\n",
    "    for i in range(iterations):\n",
    "        print(\"\\tFinding new medoids.\")\n",
    "        ids_of_medoids = find_medoids(class_assignments)\n",
    "        print(\"\\tReassigning points.\")\n",
    "        new_class_assignments = assign_nearest(ids_of_medoids)\n",
    "\n",
    "        diffs = np.mean(new_class_assignments != class_assignments)\n",
    "        class_assignments = new_class_assignments\n",
    "\n",
    "        print(\"iteration {:2d}: {:.2%} of points got reassigned.\"\n",
    "              \"\".format(i, diffs))\n",
    "        if diffs <= 0.01:\n",
    "            break\n",
    "\n",
    "    return class_assignments, ids_of_medoids\n",
    "\n",
    "\n",
    "######################### Generate Fake Data\n",
    "print(\"Initializing Data.\")\n",
    "d = 3\n",
    "k = 6\n",
    "n = k * 1000000\n",
    "batch_sz = 1000\n",
    "x = np.random.normal(size=(n, d))\n",
    "EUCLIDEAN = False\n",
    "\n",
    "print(\"n={}\\td={}\\tk={}\\tbatch_size={} \".format(n, d, k, batch_sz))\n",
    "print(\"Distance metric: \", \"Eucledian\" if EUCLIDEAN else \"Manhattan\")\n",
    "\n",
    "print(\"\\nMaking k-groups as:\")\n",
    "for kk in range(k):\n",
    "    dd = (kk-1)%d\n",
    "    print(\"    x[{}:{}, {}] += {}\".format(kk*n//k, (kk+1)*n//k, dd , 3*d*kk))\n",
    "    x[kk*n//k:(kk+1)*n//k,dd] += 3*d*kk\n",
    "\n",
    "######################### Fitting\n",
    "print(\"\\nFitting Kmedoids.\")\n",
    "final_assignments, final_medoid_ids = kmeds()\n",
    "\n",
    "print(\"\\nFitting Kmeans from Scikit-Learn\")\n",
    "fit = KMeans(n_clusters=k).fit(x)\n",
    "kmeans_assignments = fit.labels_\n",
    "kmeans = fit.cluster_centers_\n",
    "\n",
    "mismatch = np.zeros((k, k))\n",
    "for i, m in (zip(final_assignments, kmeans_assignments)):\n",
    "    mismatch[i, m] += 1\n",
    "\n",
    "np.set_printoptions(suppress=True)\n",
    "print(\"\\nKMedoids:\")\n",
    "print(x[final_medoid_ids, ])\n",
    "print(\"K-Medoids class sizes:\")\n",
    "print(mismatch.sum(axis=-1))\n",
    "print(\"\\nKMeans:\")\n",
    "print(kmeans)\n",
    "print(\"K-Means class sizes:\")\n",
    "print(mismatch.sum(axis=0))\n",
    "print(\"\\nMismatch between assignment to Kmeans and Kmedoids:\")\n",
    "print(mismatch)\n",
    "print(\"Should ideally be {} * a permutation matrix.\".format(n//k))"
   ]
  },
  {
   "cell_type": "markdown",
   "metadata": {},
   "source": [
    "### 3. Agglomerative Clustering"
   ]
  },
  {
   "cell_type": "markdown",
   "metadata": {},
   "source": [
    "\n",
    "matplotlib : For displaying plots<br>\n",
    "scipy.cluster.hierarchy : Fittting models and displaying dendograms<br>\n",
    "scipy.spatial.distance : For calculating distance<br>\n",
    "scipy.preprocesing : For calculating distance<br>\n",
    "Matplotlib : For displaying plots<br>\n",
    "Matplotlib : For displaying plots<br>"
   ]
  },
  {
   "cell_type": "code",
   "execution_count": 3,
   "metadata": {},
   "outputs": [],
   "source": [
    "# Header Files\n",
    "from matplotlib import pyplot as plt\n",
    "from scipy.cluster.hierarchy import dendrogram, linkage, fcluster\n",
    "from scipy.spatial.distance import pdist, squareform\n",
    "from sklearn.cluster import AgglomerativeClustering\n",
    "from sklearn.preprocessing import scale\n",
    "from sklearn import datasets\n",
    "import numpy as np\n",
    "import pandas as pd"
   ]
  },
  {
   "cell_type": "code",
   "execution_count": 4,
   "metadata": {},
   "outputs": [],
   "source": [
    "# Loading the standard IRIS dataset\n",
    "iris = datasets.load_iris()\n",
    "dataIRIS = pd.DataFrame(data= np.c_[iris['data'], iris['target']],\n",
    "                     columns= iris['feature_names'] + ['target'])"
   ]
  },
  {
   "cell_type": "code",
   "execution_count": 5,
   "metadata": {
    "scrolled": false
   },
   "outputs": [
    {
     "data": {
      "text/html": [
       "<div>\n",
       "<style scoped>\n",
       "    .dataframe tbody tr th:only-of-type {\n",
       "        vertical-align: middle;\n",
       "    }\n",
       "\n",
       "    .dataframe tbody tr th {\n",
       "        vertical-align: top;\n",
       "    }\n",
       "\n",
       "    .dataframe thead th {\n",
       "        text-align: right;\n",
       "    }\n",
       "</style>\n",
       "<table border=\"1\" class=\"dataframe\">\n",
       "  <thead>\n",
       "    <tr style=\"text-align: right;\">\n",
       "      <th></th>\n",
       "      <th>sepal length (cm)</th>\n",
       "      <th>sepal width (cm)</th>\n",
       "      <th>petal length (cm)</th>\n",
       "      <th>petal width (cm)</th>\n",
       "      <th>target</th>\n",
       "    </tr>\n",
       "  </thead>\n",
       "  <tbody>\n",
       "    <tr>\n",
       "      <th>0</th>\n",
       "      <td>5.1</td>\n",
       "      <td>3.5</td>\n",
       "      <td>1.4</td>\n",
       "      <td>0.2</td>\n",
       "      <td>0.0</td>\n",
       "    </tr>\n",
       "    <tr>\n",
       "      <th>1</th>\n",
       "      <td>4.9</td>\n",
       "      <td>3.0</td>\n",
       "      <td>1.4</td>\n",
       "      <td>0.2</td>\n",
       "      <td>0.0</td>\n",
       "    </tr>\n",
       "    <tr>\n",
       "      <th>2</th>\n",
       "      <td>4.7</td>\n",
       "      <td>3.2</td>\n",
       "      <td>1.3</td>\n",
       "      <td>0.2</td>\n",
       "      <td>0.0</td>\n",
       "    </tr>\n",
       "    <tr>\n",
       "      <th>3</th>\n",
       "      <td>4.6</td>\n",
       "      <td>3.1</td>\n",
       "      <td>1.5</td>\n",
       "      <td>0.2</td>\n",
       "      <td>0.0</td>\n",
       "    </tr>\n",
       "    <tr>\n",
       "      <th>4</th>\n",
       "      <td>5.0</td>\n",
       "      <td>3.6</td>\n",
       "      <td>1.4</td>\n",
       "      <td>0.2</td>\n",
       "      <td>0.0</td>\n",
       "    </tr>\n",
       "  </tbody>\n",
       "</table>\n",
       "</div>"
      ],
      "text/plain": [
       "   sepal length (cm)  sepal width (cm)  petal length (cm)  petal width (cm)  \\\n",
       "0                5.1               3.5                1.4               0.2   \n",
       "1                4.9               3.0                1.4               0.2   \n",
       "2                4.7               3.2                1.3               0.2   \n",
       "3                4.6               3.1                1.5               0.2   \n",
       "4                5.0               3.6                1.4               0.2   \n",
       "\n",
       "   target  \n",
       "0     0.0  \n",
       "1     0.0  \n",
       "2     0.0  \n",
       "3     0.0  \n",
       "4     0.0  "
      ]
     },
     "execution_count": 5,
     "metadata": {},
     "output_type": "execute_result"
    }
   ],
   "source": [
    "dataIRIS.head()"
   ]
  },
  {
   "cell_type": "code",
   "execution_count": 6,
   "metadata": {},
   "outputs": [
    {
     "data": {
      "text/html": [
       "<div>\n",
       "<style scoped>\n",
       "    .dataframe tbody tr th:only-of-type {\n",
       "        vertical-align: middle;\n",
       "    }\n",
       "\n",
       "    .dataframe tbody tr th {\n",
       "        vertical-align: top;\n",
       "    }\n",
       "\n",
       "    .dataframe thead th {\n",
       "        text-align: right;\n",
       "    }\n",
       "</style>\n",
       "<table border=\"1\" class=\"dataframe\">\n",
       "  <thead>\n",
       "    <tr style=\"text-align: right;\">\n",
       "      <th></th>\n",
       "      <th>sepal length</th>\n",
       "      <th>sepal width</th>\n",
       "      <th>petal length</th>\n",
       "      <th>petal width</th>\n",
       "    </tr>\n",
       "  </thead>\n",
       "  <tbody>\n",
       "    <tr>\n",
       "      <th>0</th>\n",
       "      <td>-0.900681</td>\n",
       "      <td>1.032057</td>\n",
       "      <td>-1.341272</td>\n",
       "      <td>-1.312977</td>\n",
       "    </tr>\n",
       "    <tr>\n",
       "      <th>1</th>\n",
       "      <td>-1.143017</td>\n",
       "      <td>-0.124958</td>\n",
       "      <td>-1.341272</td>\n",
       "      <td>-1.312977</td>\n",
       "    </tr>\n",
       "    <tr>\n",
       "      <th>2</th>\n",
       "      <td>-1.385353</td>\n",
       "      <td>0.337848</td>\n",
       "      <td>-1.398138</td>\n",
       "      <td>-1.312977</td>\n",
       "    </tr>\n",
       "    <tr>\n",
       "      <th>3</th>\n",
       "      <td>-1.506521</td>\n",
       "      <td>0.106445</td>\n",
       "      <td>-1.284407</td>\n",
       "      <td>-1.312977</td>\n",
       "    </tr>\n",
       "    <tr>\n",
       "      <th>4</th>\n",
       "      <td>-1.021849</td>\n",
       "      <td>1.263460</td>\n",
       "      <td>-1.341272</td>\n",
       "      <td>-1.312977</td>\n",
       "    </tr>\n",
       "  </tbody>\n",
       "</table>\n",
       "</div>"
      ],
      "text/plain": [
       "   sepal length  sepal width  petal length  petal width\n",
       "0     -0.900681     1.032057     -1.341272    -1.312977\n",
       "1     -1.143017    -0.124958     -1.341272    -1.312977\n",
       "2     -1.385353     0.337848     -1.398138    -1.312977\n",
       "3     -1.506521     0.106445     -1.284407    -1.312977\n",
       "4     -1.021849     1.263460     -1.341272    -1.312977"
      ]
     },
     "execution_count": 6,
     "metadata": {},
     "output_type": "execute_result"
    }
   ],
   "source": [
    "# Normalises the data\n",
    "# Setting mean as 0 and standard deviation as 1\n",
    "\n",
    "dataScaled = scale(dataIRIS.iloc[:,:4])\n",
    "dataScaled = pd.DataFrame(dataScaled, columns=['sepal length', 'sepal width', 'petal length', 'petal width'])\n",
    "dataScaled.head()"
   ]
  },
  {
   "cell_type": "markdown",
   "metadata": {},
   "source": [
    "The Euclidean distances are calculated and placed on a distance matrix"
   ]
  },
  {
   "cell_type": "code",
   "execution_count": 7,
   "metadata": {},
   "outputs": [
    {
     "data": {
      "text/plain": [
       "array([[0.        , 1.18212094, 0.84856711, ..., 3.80606726, 3.82448796,\n",
       "        3.33620324],\n",
       "       [1.18212094, 0.        , 0.52549943, ..., 3.74544575, 4.01679443,\n",
       "        3.21249253],\n",
       "       [0.84856711, 0.52549943, 0.        , ..., 3.93572117, 4.07138458,\n",
       "        3.37976603],\n",
       "       ...,\n",
       "       [3.80606726, 3.74544575, 3.93572117, ..., 0.        , 1.07582215,\n",
       "        0.77518629],\n",
       "       [3.82448796, 4.01679443, 4.07138458, ..., 1.07582215, 0.        ,\n",
       "        1.20421099],\n",
       "       [3.33620324, 3.21249253, 3.37976603, ..., 0.77518629, 1.20421099,\n",
       "        0.        ]])"
      ]
     },
     "execution_count": 7,
     "metadata": {},
     "output_type": "execute_result"
    }
   ],
   "source": [
    "distances = pdist(dataScaled, metric='euclidean')\n",
    "DistMatrix = squareform(distances)\n",
    "DistMatrix"
   ]
  },
  {
   "cell_type": "markdown",
   "metadata": {},
   "source": [
    "The Scaled data is visualized using the ward method"
   ]
  },
  {
   "cell_type": "markdown",
   "metadata": {},
   "source": [
    "### 3.1 Ward Linkage"
   ]
  },
  {
   "cell_type": "code",
   "execution_count": 8,
   "metadata": {},
   "outputs": [
    {
     "data": {
      "image/png": "[encoded data removed]",
      "text/plain": [
       "<Figure size 1800x720 with 1 Axes>"
      ]
     },
     "metadata": {
      "needs_background": "light"
     },
     "output_type": "display_data"
    }
   ],
   "source": [
    "# Fitting our model.\n",
    "cluster_tree = linkage(dataScaled, 'ward')\n",
    "\n",
    "# Ploting our dendrogram.\n",
    "plt.figure(figsize=(25, 10))\n",
    "plt.title('Hierarchical Clustering Dendrogram')\n",
    "plt.xlabel('Sources')\n",
    "plt.ylabel('Distance')\n",
    "\n",
    "dendrogram(cluster_tree, leaf_rotation=80., leaf_font_size=14.,  color_threshold=5)\n",
    "plt.show()"
   ]
  },
  {
   "cell_type": "markdown",
   "metadata": {},
   "source": [
    "### 3.2 Complete Linkage"
   ]
  },
  {
   "cell_type": "code",
   "execution_count": 9,
   "metadata": {},
   "outputs": [
    {
     "data": {
      "image/png": "[encoded data removed]",
      "text/plain": [
       "<Figure size 1800x720 with 1 Axes>"
      ]
     },
     "metadata": {
      "needs_background": "light"
     },
     "output_type": "display_data"
    }
   ],
   "source": [
    "# Fitting our model.\n",
    "cluster_tree = linkage(dataScaled, 'complete')\n",
    "\n",
    "# Ploting our dendrogram.\n",
    "plt.figure(figsize=(25, 10))\n",
    "plt.title('Hierarchical Clustering Dendrogram')\n",
    "plt.xlabel('Sources')\n",
    "plt.ylabel('Distance')\n",
    "\n",
    "dendrogram(cluster_tree, leaf_rotation=80., leaf_font_size=14.,  color_threshold=5)\n",
    "plt.show()"
   ]
  },
  {
   "cell_type": "markdown",
   "metadata": {},
   "source": [
    "### 3.3 Average Linkage"
   ]
  },
  {
   "cell_type": "code",
   "execution_count": 10,
   "metadata": {},
   "outputs": [
    {
     "data": {
      "image/png": "[encoded data removed]",
      "text/plain": [
       "<Figure size 1800x720 with 1 Axes>"
      ]
     },
     "metadata": {
      "needs_background": "light"
     },
     "output_type": "display_data"
    }
   ],
   "source": [
    "# Fitting our model.\n",
    "cluster_tree = linkage(dataScaled, 'average')\n",
    "\n",
    "# Ploting our dendrogram.\n",
    "plt.figure(figsize=(25, 10))\n",
    "plt.title('Hierarchical Clustering Dendrogram')\n",
    "plt.xlabel('Sources')\n",
    "plt.ylabel('Distance')\n",
    "\n",
    "dendrogram(cluster_tree, leaf_rotation=80., leaf_font_size=14.,  color_threshold=5)\n",
    "plt.show()"
   ]
  },
  {
   "cell_type": "markdown",
   "metadata": {},
   "source": [
    "The corresponding clusters of each row"
   ]
  },
  {
   "cell_type": "code",
   "execution_count": 11,
   "metadata": {},
   "outputs": [
    {
     "data": {
      "text/plain": [
       "array([2, 2, 2, 2, 2, 4, 2, 2, 2, 2, 4, 2, 2, 2, 4, 4, 4, 2, 4, 4, 2, 4,\n",
       "       2, 2, 2, 2, 2, 2, 2, 2, 2, 2, 4, 4, 2, 2, 2, 2, 2, 2, 2, 0, 2, 2,\n",
       "       4, 2, 4, 2, 4, 2, 3, 3, 3, 0, 3, 0, 3, 0, 3, 0, 0, 3, 0, 3, 0, 3,\n",
       "       0, 0, 0, 0, 3, 3, 3, 3, 3, 3, 3, 3, 3, 0, 0, 0, 0, 3, 0, 3, 3, 0,\n",
       "       0, 0, 0, 3, 0, 0, 0, 0, 0, 3, 0, 0, 1, 3, 1, 3, 3, 1, 0, 1, 3, 1,\n",
       "       1, 3, 1, 3, 3, 1, 3, 1, 1, 0, 1, 3, 1, 3, 1, 1, 3, 3, 3, 1, 1, 1,\n",
       "       3, 3, 3, 1, 1, 3, 3, 1, 1, 1, 3, 1, 1, 1, 3, 3, 1, 3], dtype=int64)"
      ]
     },
     "execution_count": 11,
     "metadata": {},
     "output_type": "execute_result"
    }
   ],
   "source": [
    "max_distance = 4.5\n",
    "clusters = fcluster(cluster_tree, max_distance, criterion='distance')\n",
    "\n",
    "# Another way to fit the data\n",
    "cluster = AgglomerativeClustering(n_clusters=5, affinity='euclidean', linkage='ward')  \n",
    "clusters = cluster.fit_predict(dataScaled)\n",
    "clusters"
   ]
  },
  {
   "cell_type": "code",
   "execution_count": 12,
   "metadata": {},
   "outputs": [
    {
     "data": {
      "text/html": [
       "<div>\n",
       "<style scoped>\n",
       "    .dataframe tbody tr th:only-of-type {\n",
       "        vertical-align: middle;\n",
       "    }\n",
       "\n",
       "    .dataframe tbody tr th {\n",
       "        vertical-align: top;\n",
       "    }\n",
       "\n",
       "    .dataframe thead th {\n",
       "        text-align: right;\n",
       "    }\n",
       "</style>\n",
       "<table border=\"1\" class=\"dataframe\">\n",
       "  <thead>\n",
       "    <tr style=\"text-align: right;\">\n",
       "      <th></th>\n",
       "      <th>sepal length (cm)</th>\n",
       "      <th>sepal width (cm)</th>\n",
       "      <th>petal length (cm)</th>\n",
       "      <th>petal width (cm)</th>\n",
       "      <th>target</th>\n",
       "      <th>cluster</th>\n",
       "    </tr>\n",
       "  </thead>\n",
       "  <tbody>\n",
       "    <tr>\n",
       "      <th>0</th>\n",
       "      <td>5.1</td>\n",
       "      <td>3.5</td>\n",
       "      <td>1.4</td>\n",
       "      <td>0.2</td>\n",
       "      <td>0.0</td>\n",
       "      <td>2</td>\n",
       "    </tr>\n",
       "    <tr>\n",
       "      <th>1</th>\n",
       "      <td>4.9</td>\n",
       "      <td>3.0</td>\n",
       "      <td>1.4</td>\n",
       "      <td>0.2</td>\n",
       "      <td>0.0</td>\n",
       "      <td>2</td>\n",
       "    </tr>\n",
       "    <tr>\n",
       "      <th>2</th>\n",
       "      <td>4.7</td>\n",
       "      <td>3.2</td>\n",
       "      <td>1.3</td>\n",
       "      <td>0.2</td>\n",
       "      <td>0.0</td>\n",
       "      <td>2</td>\n",
       "    </tr>\n",
       "    <tr>\n",
       "      <th>3</th>\n",
       "      <td>4.6</td>\n",
       "      <td>3.1</td>\n",
       "      <td>1.5</td>\n",
       "      <td>0.2</td>\n",
       "      <td>0.0</td>\n",
       "      <td>2</td>\n",
       "    </tr>\n",
       "    <tr>\n",
       "      <th>4</th>\n",
       "      <td>5.0</td>\n",
       "      <td>3.6</td>\n",
       "      <td>1.4</td>\n",
       "      <td>0.2</td>\n",
       "      <td>0.0</td>\n",
       "      <td>2</td>\n",
       "    </tr>\n",
       "  </tbody>\n",
       "</table>\n",
       "</div>"
      ],
      "text/plain": [
       "   sepal length (cm)  sepal width (cm)  petal length (cm)  petal width (cm)  \\\n",
       "0                5.1               3.5                1.4               0.2   \n",
       "1                4.9               3.0                1.4               0.2   \n",
       "2                4.7               3.2                1.3               0.2   \n",
       "3                4.6               3.1                1.5               0.2   \n",
       "4                5.0               3.6                1.4               0.2   \n",
       "\n",
       "   target  cluster  \n",
       "0     0.0        2  \n",
       "1     0.0        2  \n",
       "2     0.0        2  \n",
       "3     0.0        2  \n",
       "4     0.0        2  "
      ]
     },
     "execution_count": 12,
     "metadata": {},
     "output_type": "execute_result"
    }
   ],
   "source": [
    "dataIRIS['cluster'] = clusters\n",
    "dataIRIS.head()"
   ]
  },
  {
   "cell_type": "markdown",
   "metadata": {},
   "source": [
    "Count of each cluster type"
   ]
  },
  {
   "cell_type": "code",
   "execution_count": 13,
   "metadata": {
    "scrolled": true
   },
   "outputs": [
    {
     "data": {
      "text/plain": [
       "3    45\n",
       "2    36\n",
       "0    30\n",
       "1    26\n",
       "4    13\n",
       "Name: cluster, dtype: int64"
      ]
     },
     "execution_count": 13,
     "metadata": {},
     "output_type": "execute_result"
    }
   ],
   "source": [
    "dataIRIS['cluster'].value_counts()"
   ]
  }
 ],
 "metadata": {
  "kernelspec": {
   "display_name": "Python 3",
   "language": "python",
   "name": "python3"
  },
  "language_info": {
   "codemirror_mode": {
    "name": "ipython",
    "version": 3
   },
   "file_extension": ".py",
   "mimetype": "text/x-python",
   "name": "python",
   "nbconvert_exporter": "python",
   "pygments_lexer": "ipython3",
   "version": "3.6.2"
  }
 },
 "nbformat": 4,
 "nbformat_minor": 2
}
