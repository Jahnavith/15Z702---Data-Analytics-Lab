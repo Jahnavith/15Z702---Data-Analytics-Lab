{
 "cells": [
  {
   "cell_type": "markdown",
   "metadata": {},
   "source": [
    "\n",
    "# Exercise 2\n",
    "# Web Scraping using BeautifulSoup\n"
   ]
  },
  {
   "cell_type": "markdown",
   "metadata": {},
   "source": [
    "## <b>Problem Description</b>\n",
    "To perform web scraping on psgtech.edu to list out all faculties with PhDs"
   ]
  },
  {
   "cell_type": "markdown",
   "metadata": {},
   "source": [
    "### Step 1\n",
    "\n",
    "Import the required packages requests, webbrowser and BeautifulSoup <br>\n",
    "Using the requests module, we get the response of the index page of psgtech"
   ]
  },
  {
   "cell_type": "code",
   "execution_count": 1,
   "metadata": {},
   "outputs": [
    {
     "name": "stdout",
     "output_type": "stream",
     "text": [
      "c:\\users\\balaj\\appdata\\local\\programs\\python\\python36\\python.exe\n",
      "3.6.2 (v3.6.2:5fd33b5, Jul  8 2017, 04:57:36) [MSC v.1900 64 bit (AMD64)]\n",
      "sys.version_info(major=3, minor=6, micro=2, releaselevel='final', serial=0)\n"
     ]
    }
   ],
   "source": [
    "import sys\n",
    "print(sys.executable)\n",
    "print(sys.version)\n",
    "print(sys.version_info)"
   ]
  },
  {
   "cell_type": "code",
   "execution_count": 2,
   "metadata": {},
   "outputs": [],
   "source": [
    "import requests\n",
    "import webbrowser\n",
    "from bs4 import BeautifulSoup\n",
    "\n",
    "r  = requests.get(\"http://psgtech.edu/index.php\")"
   ]
  },
  {
   "cell_type": "markdown",
   "metadata": {},
   "source": [
    "### Step 2\n",
    "\n",
    "Import the HTML contents into BeautifulSoup format<br>\n",
    "Find out the a tags with the class \"list-group-item\" since they list out the departments explicitly\n"
   ]
  },
  {
   "cell_type": "code",
   "execution_count": 3,
   "metadata": {},
   "outputs": [
    {
     "name": "stdout",
     "output_type": "stream",
     "text": [
      "hme.php?var=AFD\n",
      "hme.php?var=AMC\n",
      "hme.php?var=AS\n",
      "hme.php?var=AUT\n",
      "hme.php?var=BIO\n",
      "hme.php?var=BME\n",
      "hme.php?var=CHE\n",
      "hme.php?var=CIV\n",
      "hme.php?var=MCA\n",
      "hme.php?var=CSE\n",
      "hme.php?var=EEE\n",
      "hme.php?var=ECE\n",
      "hme.php?var=ENG\n",
      "hme.php?var=FAT\n",
      "hme.php?var=HUM\n",
      "hme.php?var=IT\n",
      "hme.php?var=ICE\n",
      "hme.php?var=MAT\n",
      "hme.php?var=MEC\n",
      "hme.php?var=MTL\n",
      "hme.php?var=PHY\n",
      "hme.php?var=PRO\n",
      "hme.php?var=RAE\n",
      "hme.php?var=TXT\n",
      "http://www.psgim.ac.in/new/\n",
      "http://www.psgtech.edu/sports/\n",
      "#\n",
      "#\n",
      "Mainoffice.php\n",
      "Accsec.php\n",
      "Academ.php\n"
     ]
    }
   ],
   "source": [
    "soup = BeautifulSoup(r.content, 'html.parser')\n",
    "department = soup.findAll('a',{\"class\":\"list-group-item\"})\n",
    "for i in department:\n",
    "    print(i['href'])"
   ]
  },
  {
   "cell_type": "markdown",
   "metadata": {},
   "source": [
    "### Step 3\n",
    "\n",
    "Filter out the departments that we require, in this case we are analyzing all departments till CSE"
   ]
  },
  {
   "cell_type": "code",
   "execution_count": 4,
   "metadata": {},
   "outputs": [
    {
     "name": "stdout",
     "output_type": "stream",
     "text": [
      "AFD\n",
      "AMC\n",
      "AS\n",
      "AUT\n",
      "BIO\n",
      "BME\n",
      "CHE\n",
      "CIV\n",
      "MCA\n",
      "CSE\n"
     ]
    }
   ],
   "source": [
    "department = department[:len(department)-21]\n",
    "departmentList = []\n",
    "for i in department:\n",
    "    print(i['href'].split(\"=\")[1])\n",
    "    departmentList.append(i['href'].split(\"=\")[1])"
   ]
  },
  {
   "cell_type": "code",
   "execution_count": 5,
   "metadata": {},
   "outputs": [
    {
     "data": {
      "text/plain": [
       "['AFD', 'AMC', 'AS', 'AUT', 'BIO', 'BME', 'CHE', 'CIV', 'MCA', 'CSE']"
      ]
     },
     "execution_count": 5,
     "metadata": {},
     "output_type": "execute_result"
    }
   ],
   "source": [
    "departmentList"
   ]
  },
  {
   "cell_type": "markdown",
   "metadata": {},
   "source": [
    "### Step 4\n",
    "\n",
    "Download the required files from the various department subdomains<br>\n",
    "This can be downloaded by using the following script which uses puautogui and Webbrowser module<br>\n",
    "Since the PHP pages are generated from the server side it is necessary to register certain mouse clicks to download the pages<br><br>\n",
    "\n",
    "Note: This script should be run separately since we are automating mouse events"
   ]
  },
  {
   "cell_type": "code",
   "execution_count": 6,
   "metadata": {},
   "outputs": [],
   "source": [
    "# Downloaded files will be found in PSGWEbsiteData\n",
    "# webbrowser.open(\"http://www.psgtech.edu\",new=2);\n",
    "# for i in departmentList:\n",
    "#     pyautogui.click(176,58)\n",
    "#     pyautogui.typewrite(\"http://www.psgtech.edu/hme.php?var=\"+i)\n",
    "#     pyautogui.typewrite([\"enter\"])\n",
    "#     pyautogui.click(176,58)\n",
    "#     pyautogui.typewrite(\"http://www.psgtech.edu/prografac.php\")\n",
    "#     pyautogui.typewrite([\"enter\"])\n",
    "#     pyautogui.hotkey('ctrl','s')\n",
    "#     pyautogui.typewrite(str(i))\n",
    "#     pyautogui.typewrite([\"enter\"])\n",
    "#     time.sleep(2)"
   ]
  },
  {
   "cell_type": "markdown",
   "metadata": {},
   "source": [
    "### Step 5\n",
    "\n",
    "Parse through all the downloaded files<br>\n",
    "First we find all div tags which have the same class as that of name of the faculty<br>\n",
    "We check whether the names start with Dr. to verify if that person has obtained the PhD"
   ]
  },
  {
   "cell_type": "code",
   "execution_count": 7,
   "metadata": {},
   "outputs": [
    {
     "name": "stdout",
     "output_type": "stream",
     "text": [
      "['Dr.Vijayalakshmi', 'Dr.Nirmala', 'Dr.Mariyam', 'Dr.Prathiba', 'Dr.Nandhinee', 'Dr.Sudha', 'Dr.Venkatesan', 'Dr.Karpagam', 'Dr.Santhi', 'Dr.Suriya', 'Dr.Indumathi', 'Dr.Kavitha', 'Dr.Gopika', 'Dr.Uma', 'Dr.Sathiyapriya', 'Dr.Jayashree', 'Dr.Lovelyn', 'Dr.Arul', 'Dr.Sudha', 'Dr.Venkatesan', 'Dr.Karpagam', 'Dr.Santhi', 'Dr.Suriya', 'Dr.Indumathi', 'Dr.Kavitha', 'Dr.Gopika', 'Dr.Uma', 'Dr.Sathiyapriya', 'Dr.Jayashree', 'Dr.Lovelyn', 'Dr.Arul']\n"
     ]
    }
   ],
   "source": [
    "mainList = []\n",
    "for j in departmentList:\n",
    "    try:\n",
    "        soup_main = BeautifulSoup(open(\"PSGWebsiteData\\\\\"+str(j)+\".html\"), 'html.parser')\n",
    "        for i in soup_main.findAll('div',{'class':'col-sm-6 col-md-8'}):\n",
    "            name = i.text\n",
    "            name = name.strip()\n",
    "            name = name.replace(\"\\n\",\" \")\n",
    "            nameList = name.split(' ')\n",
    "            if(nameList[0].startswith(\"Dr\")) :\n",
    "                if(len(nameList[0])>3):\n",
    "                    mainList.append(nameList[0])\n",
    "    except:\n",
    "        continue\n",
    "print(mainList)"
   ]
  },
  {
   "cell_type": "markdown",
   "metadata": {},
   "source": [
    "### Step 6\n",
    "\n",
    "Print the results<br>"
   ]
  },
  {
   "cell_type": "code",
   "execution_count": 8,
   "metadata": {},
   "outputs": [
    {
     "name": "stdout",
     "output_type": "stream",
     "text": [
      "Dr.Vijayalakshmi\n",
      "Dr.Nirmala\n",
      "Dr.Mariyam\n",
      "Dr.Prathiba\n",
      "Dr.Nandhinee\n",
      "Dr.Sudha\n",
      "Dr.Venkatesan\n",
      "Dr.Karpagam\n",
      "Dr.Santhi\n",
      "Dr.Suriya\n",
      "Dr.Indumathi\n",
      "Dr.Kavitha\n",
      "Dr.Gopika\n",
      "Dr.Uma\n",
      "Dr.Sathiyapriya\n",
      "Dr.Jayashree\n",
      "Dr.Lovelyn\n",
      "Dr.Arul\n",
      "Dr.Sudha\n",
      "Dr.Venkatesan\n",
      "Dr.Karpagam\n",
      "Dr.Santhi\n",
      "Dr.Suriya\n",
      "Dr.Indumathi\n",
      "Dr.Kavitha\n",
      "Dr.Gopika\n",
      "Dr.Uma\n",
      "Dr.Sathiyapriya\n",
      "Dr.Jayashree\n",
      "Dr.Lovelyn\n",
      "Dr.Arul\n"
     ]
    }
   ],
   "source": [
    "for i in mainList:\n",
    "    print(i)"
   ]
  }
 ],
 "metadata": {
  "kernelspec": {
   "display_name": "Python 3",
   "language": "python",
   "name": "python3"
  },
  "language_info": {
   "codemirror_mode": {
    "name": "ipython",
    "version": 3
   },
   "file_extension": ".py",
   "mimetype": "text/x-python",
   "name": "python",
   "nbconvert_exporter": "python",
   "pygments_lexer": "ipython3",
   "version": "3.6.2"
  }
 },
 "nbformat": 4,
 "nbformat_minor": 2
}
