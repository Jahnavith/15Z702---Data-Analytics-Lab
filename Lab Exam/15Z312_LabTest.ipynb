{
 "cells": [
  {
   "cell_type": "markdown",
   "metadata": {},
   "source": [
    "# Final Lab Exam\n",
    "## Author : Balaji Muthazhagan T"
   ]
  },
  {
   "cell_type": "code",
   "execution_count": 1,
   "metadata": {},
   "outputs": [
    {
     "data": {
      "text/html": [
       "<div>\n",
       "<style scoped>\n",
       "    .dataframe tbody tr th:only-of-type {\n",
       "        vertical-align: middle;\n",
       "    }\n",
       "\n",
       "    .dataframe tbody tr th {\n",
       "        vertical-align: top;\n",
       "    }\n",
       "\n",
       "    .dataframe thead th {\n",
       "        text-align: right;\n",
       "    }\n",
       "</style>\n",
       "<table border=\"1\" class=\"dataframe\">\n",
       "  <thead>\n",
       "    <tr style=\"text-align: right;\">\n",
       "      <th></th>\n",
       "      <th>ge</th>\n",
       "      <th>cst</th>\n",
       "      <th>tnp</th>\n",
       "      <th>twp</th>\n",
       "      <th>iap</th>\n",
       "      <th>esp</th>\n",
       "      <th>arr</th>\n",
       "      <th>ms</th>\n",
       "      <th>ls</th>\n",
       "      <th>as</th>\n",
       "      <th>...</th>\n",
       "      <th>fq</th>\n",
       "      <th>mq</th>\n",
       "      <th>fo</th>\n",
       "      <th>mo</th>\n",
       "      <th>nf</th>\n",
       "      <th>sh</th>\n",
       "      <th>ss</th>\n",
       "      <th>me</th>\n",
       "      <th>tt</th>\n",
       "      <th>atd</th>\n",
       "    </tr>\n",
       "  </thead>\n",
       "  <tbody>\n",
       "    <tr>\n",
       "      <th>0</th>\n",
       "      <td>b'F'</td>\n",
       "      <td>b'G'</td>\n",
       "      <td>b'Good'</td>\n",
       "      <td>b'Good'</td>\n",
       "      <td>b'Vg'</td>\n",
       "      <td>b'Good'</td>\n",
       "      <td>b'Y'</td>\n",
       "      <td>b'Unmarried'</td>\n",
       "      <td>b'V'</td>\n",
       "      <td>b'Paid'</td>\n",
       "      <td>...</td>\n",
       "      <td>b'Um'</td>\n",
       "      <td>b'10'</td>\n",
       "      <td>b'Farmer'</td>\n",
       "      <td>b'Housewife'</td>\n",
       "      <td>b'Large'</td>\n",
       "      <td>b'Poor'</td>\n",
       "      <td>b'Govt'</td>\n",
       "      <td>b'Asm'</td>\n",
       "      <td>b'Small'</td>\n",
       "      <td>b'Good'</td>\n",
       "    </tr>\n",
       "    <tr>\n",
       "      <th>1</th>\n",
       "      <td>b'M'</td>\n",
       "      <td>b'OBC'</td>\n",
       "      <td>b'Vg'</td>\n",
       "      <td>b'Vg'</td>\n",
       "      <td>b'Vg'</td>\n",
       "      <td>b'Vg'</td>\n",
       "      <td>b'N'</td>\n",
       "      <td>b'Unmarried'</td>\n",
       "      <td>b'V'</td>\n",
       "      <td>b'Paid'</td>\n",
       "      <td>...</td>\n",
       "      <td>b'Um'</td>\n",
       "      <td>b'Il'</td>\n",
       "      <td>b'Service'</td>\n",
       "      <td>b'Service'</td>\n",
       "      <td>b'Small'</td>\n",
       "      <td>b'Poor'</td>\n",
       "      <td>b'Govt'</td>\n",
       "      <td>b'Asm'</td>\n",
       "      <td>b'Average'</td>\n",
       "      <td>b'Average'</td>\n",
       "    </tr>\n",
       "    <tr>\n",
       "      <th>2</th>\n",
       "      <td>b'F'</td>\n",
       "      <td>b'OBC'</td>\n",
       "      <td>b'Good'</td>\n",
       "      <td>b'Good'</td>\n",
       "      <td>b'Vg'</td>\n",
       "      <td>b'Good'</td>\n",
       "      <td>b'N'</td>\n",
       "      <td>b'Unmarried'</td>\n",
       "      <td>b'V'</td>\n",
       "      <td>b'Paid'</td>\n",
       "      <td>...</td>\n",
       "      <td>b'12'</td>\n",
       "      <td>b'10'</td>\n",
       "      <td>b'Service'</td>\n",
       "      <td>b'Housewife'</td>\n",
       "      <td>b'Average'</td>\n",
       "      <td>b'Average'</td>\n",
       "      <td>b'Govt'</td>\n",
       "      <td>b'Asm'</td>\n",
       "      <td>b'Large'</td>\n",
       "      <td>b'Good'</td>\n",
       "    </tr>\n",
       "    <tr>\n",
       "      <th>3</th>\n",
       "      <td>b'M'</td>\n",
       "      <td>b'MOBC'</td>\n",
       "      <td>b'Pass'</td>\n",
       "      <td>b'Good'</td>\n",
       "      <td>b'Vg'</td>\n",
       "      <td>b'Good'</td>\n",
       "      <td>b'N'</td>\n",
       "      <td>b'Unmarried'</td>\n",
       "      <td>b'V'</td>\n",
       "      <td>b'Paid'</td>\n",
       "      <td>...</td>\n",
       "      <td>b'12'</td>\n",
       "      <td>b'Um'</td>\n",
       "      <td>b'Business'</td>\n",
       "      <td>b'Business'</td>\n",
       "      <td>b'Large'</td>\n",
       "      <td>b'Poor'</td>\n",
       "      <td>b'Govt'</td>\n",
       "      <td>b'Asm'</td>\n",
       "      <td>b'Average'</td>\n",
       "      <td>b'Average'</td>\n",
       "    </tr>\n",
       "    <tr>\n",
       "      <th>4</th>\n",
       "      <td>b'M'</td>\n",
       "      <td>b'G'</td>\n",
       "      <td>b'Good'</td>\n",
       "      <td>b'Good'</td>\n",
       "      <td>b'Vg'</td>\n",
       "      <td>b'Vg'</td>\n",
       "      <td>b'N'</td>\n",
       "      <td>b'Unmarried'</td>\n",
       "      <td>b'V'</td>\n",
       "      <td>b'Paid'</td>\n",
       "      <td>...</td>\n",
       "      <td>b'10'</td>\n",
       "      <td>b'12'</td>\n",
       "      <td>b'Service'</td>\n",
       "      <td>b'Housewife'</td>\n",
       "      <td>b'Large'</td>\n",
       "      <td>b'Poor'</td>\n",
       "      <td>b'Private'</td>\n",
       "      <td>b'Asm'</td>\n",
       "      <td>b'Small'</td>\n",
       "      <td>b'Good'</td>\n",
       "    </tr>\n",
       "  </tbody>\n",
       "</table>\n",
       "<p>5 rows × 22 columns</p>\n",
       "</div>"
      ],
      "text/plain": [
       "     ge      cst      tnp      twp    iap      esp   arr            ms    ls  \\\n",
       "0  b'F'     b'G'  b'Good'  b'Good'  b'Vg'  b'Good'  b'Y'  b'Unmarried'  b'V'   \n",
       "1  b'M'   b'OBC'    b'Vg'    b'Vg'  b'Vg'    b'Vg'  b'N'  b'Unmarried'  b'V'   \n",
       "2  b'F'   b'OBC'  b'Good'  b'Good'  b'Vg'  b'Good'  b'N'  b'Unmarried'  b'V'   \n",
       "3  b'M'  b'MOBC'  b'Pass'  b'Good'  b'Vg'  b'Good'  b'N'  b'Unmarried'  b'V'   \n",
       "4  b'M'     b'G'  b'Good'  b'Good'  b'Vg'    b'Vg'  b'N'  b'Unmarried'  b'V'   \n",
       "\n",
       "        as     ...         fq     mq           fo            mo          nf  \\\n",
       "0  b'Paid'     ...      b'Um'  b'10'    b'Farmer'  b'Housewife'    b'Large'   \n",
       "1  b'Paid'     ...      b'Um'  b'Il'   b'Service'    b'Service'    b'Small'   \n",
       "2  b'Paid'     ...      b'12'  b'10'   b'Service'  b'Housewife'  b'Average'   \n",
       "3  b'Paid'     ...      b'12'  b'Um'  b'Business'   b'Business'    b'Large'   \n",
       "4  b'Paid'     ...      b'10'  b'12'   b'Service'  b'Housewife'    b'Large'   \n",
       "\n",
       "           sh          ss      me          tt         atd  \n",
       "0     b'Poor'     b'Govt'  b'Asm'    b'Small'     b'Good'  \n",
       "1     b'Poor'     b'Govt'  b'Asm'  b'Average'  b'Average'  \n",
       "2  b'Average'     b'Govt'  b'Asm'    b'Large'     b'Good'  \n",
       "3     b'Poor'     b'Govt'  b'Asm'  b'Average'  b'Average'  \n",
       "4     b'Poor'  b'Private'  b'Asm'    b'Small'     b'Good'  \n",
       "\n",
       "[5 rows x 22 columns]"
      ]
     },
     "execution_count": 1,
     "metadata": {},
     "output_type": "execute_result"
    }
   ],
   "source": [
    "from scipy.io import arff\n",
    "import pandas as pd\n",
    "\n",
    "data = arff.loadarff('Sapfile1.arff')\n",
    "df = pd.DataFrame(data[0])\n",
    "\n",
    "df.head()"
   ]
  },
  {
   "cell_type": "markdown",
   "metadata": {},
   "source": [
    "On analyzing the code, we can see that it is in byte format"
   ]
  },
  {
   "cell_type": "code",
   "execution_count": 2,
   "metadata": {},
   "outputs": [
    {
     "data": {
      "text/html": [
       "<div>\n",
       "<style scoped>\n",
       "    .dataframe tbody tr th:only-of-type {\n",
       "        vertical-align: middle;\n",
       "    }\n",
       "\n",
       "    .dataframe tbody tr th {\n",
       "        vertical-align: top;\n",
       "    }\n",
       "\n",
       "    .dataframe thead th {\n",
       "        text-align: right;\n",
       "    }\n",
       "</style>\n",
       "<table border=\"1\" class=\"dataframe\">\n",
       "  <thead>\n",
       "    <tr style=\"text-align: right;\">\n",
       "      <th></th>\n",
       "      <th>ge</th>\n",
       "      <th>cst</th>\n",
       "      <th>tnp</th>\n",
       "      <th>twp</th>\n",
       "      <th>iap</th>\n",
       "      <th>esp</th>\n",
       "      <th>arr</th>\n",
       "      <th>ms</th>\n",
       "      <th>ls</th>\n",
       "      <th>as</th>\n",
       "      <th>...</th>\n",
       "      <th>fq</th>\n",
       "      <th>mq</th>\n",
       "      <th>fo</th>\n",
       "      <th>mo</th>\n",
       "      <th>nf</th>\n",
       "      <th>sh</th>\n",
       "      <th>ss</th>\n",
       "      <th>me</th>\n",
       "      <th>tt</th>\n",
       "      <th>atd</th>\n",
       "    </tr>\n",
       "  </thead>\n",
       "  <tbody>\n",
       "    <tr>\n",
       "      <th>count</th>\n",
       "      <td>131</td>\n",
       "      <td>131</td>\n",
       "      <td>131</td>\n",
       "      <td>131</td>\n",
       "      <td>131</td>\n",
       "      <td>131</td>\n",
       "      <td>131</td>\n",
       "      <td>131</td>\n",
       "      <td>131</td>\n",
       "      <td>131</td>\n",
       "      <td>...</td>\n",
       "      <td>131</td>\n",
       "      <td>131</td>\n",
       "      <td>131</td>\n",
       "      <td>131</td>\n",
       "      <td>131</td>\n",
       "      <td>131</td>\n",
       "      <td>131</td>\n",
       "      <td>131</td>\n",
       "      <td>131</td>\n",
       "      <td>131</td>\n",
       "    </tr>\n",
       "    <tr>\n",
       "      <th>unique</th>\n",
       "      <td>2</td>\n",
       "      <td>5</td>\n",
       "      <td>4</td>\n",
       "      <td>4</td>\n",
       "      <td>4</td>\n",
       "      <td>4</td>\n",
       "      <td>2</td>\n",
       "      <td>1</td>\n",
       "      <td>2</td>\n",
       "      <td>2</td>\n",
       "      <td>...</td>\n",
       "      <td>6</td>\n",
       "      <td>6</td>\n",
       "      <td>5</td>\n",
       "      <td>5</td>\n",
       "      <td>3</td>\n",
       "      <td>3</td>\n",
       "      <td>2</td>\n",
       "      <td>4</td>\n",
       "      <td>3</td>\n",
       "      <td>3</td>\n",
       "    </tr>\n",
       "    <tr>\n",
       "      <th>top</th>\n",
       "      <td>b'M'</td>\n",
       "      <td>b'OBC'</td>\n",
       "      <td>b'Good'</td>\n",
       "      <td>b'Good'</td>\n",
       "      <td>b'Vg'</td>\n",
       "      <td>b'Good'</td>\n",
       "      <td>b'N'</td>\n",
       "      <td>b'Unmarried'</td>\n",
       "      <td>b'V'</td>\n",
       "      <td>b'Paid'</td>\n",
       "      <td>...</td>\n",
       "      <td>b'Um'</td>\n",
       "      <td>b'Um'</td>\n",
       "      <td>b'Service'</td>\n",
       "      <td>b'Housewife'</td>\n",
       "      <td>b'Large'</td>\n",
       "      <td>b'Average'</td>\n",
       "      <td>b'Govt'</td>\n",
       "      <td>b'Eng'</td>\n",
       "      <td>b'Small'</td>\n",
       "      <td>b'Good'</td>\n",
       "    </tr>\n",
       "    <tr>\n",
       "      <th>freq</th>\n",
       "      <td>72</td>\n",
       "      <td>57</td>\n",
       "      <td>59</td>\n",
       "      <td>65</td>\n",
       "      <td>63</td>\n",
       "      <td>54</td>\n",
       "      <td>78</td>\n",
       "      <td>131</td>\n",
       "      <td>92</td>\n",
       "      <td>76</td>\n",
       "      <td>...</td>\n",
       "      <td>40</td>\n",
       "      <td>52</td>\n",
       "      <td>38</td>\n",
       "      <td>115</td>\n",
       "      <td>58</td>\n",
       "      <td>59</td>\n",
       "      <td>91</td>\n",
       "      <td>62</td>\n",
       "      <td>78</td>\n",
       "      <td>56</td>\n",
       "    </tr>\n",
       "  </tbody>\n",
       "</table>\n",
       "<p>4 rows × 22 columns</p>\n",
       "</div>"
      ],
      "text/plain": [
       "          ge     cst      tnp      twp    iap      esp   arr            ms  \\\n",
       "count    131     131      131      131    131      131   131           131   \n",
       "unique     2       5        4        4      4        4     2             1   \n",
       "top     b'M'  b'OBC'  b'Good'  b'Good'  b'Vg'  b'Good'  b'N'  b'Unmarried'   \n",
       "freq      72      57       59       65     63       54    78           131   \n",
       "\n",
       "          ls       as   ...        fq     mq          fo            mo  \\\n",
       "count    131      131   ...       131    131         131           131   \n",
       "unique     2        2   ...         6      6           5             5   \n",
       "top     b'V'  b'Paid'   ...     b'Um'  b'Um'  b'Service'  b'Housewife'   \n",
       "freq      92       76   ...        40     52          38           115   \n",
       "\n",
       "              nf          sh       ss      me        tt      atd  \n",
       "count        131         131      131     131       131      131  \n",
       "unique         3           3        2       4         3        3  \n",
       "top     b'Large'  b'Average'  b'Govt'  b'Eng'  b'Small'  b'Good'  \n",
       "freq          58          59       91      62        78       56  \n",
       "\n",
       "[4 rows x 22 columns]"
      ]
     },
     "execution_count": 2,
     "metadata": {},
     "output_type": "execute_result"
    }
   ],
   "source": [
    "df.describe()"
   ]
  },
  {
   "cell_type": "markdown",
   "metadata": {},
   "source": [
    "We can also see that all the entries are objects, and not as numeric entries which makes it tough for  correlation analysis"
   ]
  },
  {
   "cell_type": "code",
   "execution_count": 3,
   "metadata": {},
   "outputs": [
    {
     "name": "stdout",
     "output_type": "stream",
     "text": [
      "<class 'pandas.core.frame.DataFrame'>\n",
      "RangeIndex: 131 entries, 0 to 130\n",
      "Data columns (total 22 columns):\n",
      "ge     131 non-null object\n",
      "cst    131 non-null object\n",
      "tnp    131 non-null object\n",
      "twp    131 non-null object\n",
      "iap    131 non-null object\n",
      "esp    131 non-null object\n",
      "arr    131 non-null object\n",
      "ms     131 non-null object\n",
      "ls     131 non-null object\n",
      "as     131 non-null object\n",
      "fmi    131 non-null object\n",
      "fs     131 non-null object\n",
      "fq     131 non-null object\n",
      "mq     131 non-null object\n",
      "fo     131 non-null object\n",
      "mo     131 non-null object\n",
      "nf     131 non-null object\n",
      "sh     131 non-null object\n",
      "ss     131 non-null object\n",
      "me     131 non-null object\n",
      "tt     131 non-null object\n",
      "atd    131 non-null object\n",
      "dtypes: object(22)\n",
      "memory usage: 22.6+ KB\n"
     ]
    }
   ],
   "source": [
    "df.info()"
   ]
  },
  {
   "cell_type": "markdown",
   "metadata": {},
   "source": [
    "There are no null values in the data"
   ]
  },
  {
   "cell_type": "code",
   "execution_count": 4,
   "metadata": {},
   "outputs": [
    {
     "data": {
      "text/plain": [
       "ge     False\n",
       "cst    False\n",
       "tnp    False\n",
       "twp    False\n",
       "iap    False\n",
       "esp    False\n",
       "arr    False\n",
       "ms     False\n",
       "ls     False\n",
       "as     False\n",
       "fmi    False\n",
       "fs     False\n",
       "fq     False\n",
       "mq     False\n",
       "fo     False\n",
       "mo     False\n",
       "nf     False\n",
       "sh     False\n",
       "ss     False\n",
       "me     False\n",
       "tt     False\n",
       "atd    False\n",
       "dtype: bool"
      ]
     },
     "execution_count": 4,
     "metadata": {},
     "output_type": "execute_result"
    }
   ],
   "source": [
    "pd.isnull(df).any()"
   ]
  },
  {
   "cell_type": "markdown",
   "metadata": {},
   "source": [
    "We convert the data into unicode format"
   ]
  },
  {
   "cell_type": "code",
   "execution_count": 5,
   "metadata": {},
   "outputs": [],
   "source": [
    "# Converting to unicode format\n",
    "for i in df.columns:\n",
    "    df[i]=df[i].str.decode('utf-8')"
   ]
  },
  {
   "cell_type": "code",
   "execution_count": 6,
   "metadata": {},
   "outputs": [
    {
     "data": {
      "text/html": [
       "<div>\n",
       "<style scoped>\n",
       "    .dataframe tbody tr th:only-of-type {\n",
       "        vertical-align: middle;\n",
       "    }\n",
       "\n",
       "    .dataframe tbody tr th {\n",
       "        vertical-align: top;\n",
       "    }\n",
       "\n",
       "    .dataframe thead th {\n",
       "        text-align: right;\n",
       "    }\n",
       "</style>\n",
       "<table border=\"1\" class=\"dataframe\">\n",
       "  <thead>\n",
       "    <tr style=\"text-align: right;\">\n",
       "      <th></th>\n",
       "      <th>ge</th>\n",
       "      <th>cst</th>\n",
       "      <th>tnp</th>\n",
       "      <th>twp</th>\n",
       "      <th>iap</th>\n",
       "      <th>esp</th>\n",
       "      <th>arr</th>\n",
       "      <th>ms</th>\n",
       "      <th>ls</th>\n",
       "      <th>as</th>\n",
       "      <th>...</th>\n",
       "      <th>fq</th>\n",
       "      <th>mq</th>\n",
       "      <th>fo</th>\n",
       "      <th>mo</th>\n",
       "      <th>nf</th>\n",
       "      <th>sh</th>\n",
       "      <th>ss</th>\n",
       "      <th>me</th>\n",
       "      <th>tt</th>\n",
       "      <th>atd</th>\n",
       "    </tr>\n",
       "  </thead>\n",
       "  <tbody>\n",
       "    <tr>\n",
       "      <th>0</th>\n",
       "      <td>F</td>\n",
       "      <td>G</td>\n",
       "      <td>Good</td>\n",
       "      <td>Good</td>\n",
       "      <td>Vg</td>\n",
       "      <td>Good</td>\n",
       "      <td>Y</td>\n",
       "      <td>Unmarried</td>\n",
       "      <td>V</td>\n",
       "      <td>Paid</td>\n",
       "      <td>...</td>\n",
       "      <td>Um</td>\n",
       "      <td>10</td>\n",
       "      <td>Farmer</td>\n",
       "      <td>Housewife</td>\n",
       "      <td>Large</td>\n",
       "      <td>Poor</td>\n",
       "      <td>Govt</td>\n",
       "      <td>Asm</td>\n",
       "      <td>Small</td>\n",
       "      <td>Good</td>\n",
       "    </tr>\n",
       "    <tr>\n",
       "      <th>1</th>\n",
       "      <td>M</td>\n",
       "      <td>OBC</td>\n",
       "      <td>Vg</td>\n",
       "      <td>Vg</td>\n",
       "      <td>Vg</td>\n",
       "      <td>Vg</td>\n",
       "      <td>N</td>\n",
       "      <td>Unmarried</td>\n",
       "      <td>V</td>\n",
       "      <td>Paid</td>\n",
       "      <td>...</td>\n",
       "      <td>Um</td>\n",
       "      <td>Il</td>\n",
       "      <td>Service</td>\n",
       "      <td>Service</td>\n",
       "      <td>Small</td>\n",
       "      <td>Poor</td>\n",
       "      <td>Govt</td>\n",
       "      <td>Asm</td>\n",
       "      <td>Average</td>\n",
       "      <td>Average</td>\n",
       "    </tr>\n",
       "    <tr>\n",
       "      <th>2</th>\n",
       "      <td>F</td>\n",
       "      <td>OBC</td>\n",
       "      <td>Good</td>\n",
       "      <td>Good</td>\n",
       "      <td>Vg</td>\n",
       "      <td>Good</td>\n",
       "      <td>N</td>\n",
       "      <td>Unmarried</td>\n",
       "      <td>V</td>\n",
       "      <td>Paid</td>\n",
       "      <td>...</td>\n",
       "      <td>12</td>\n",
       "      <td>10</td>\n",
       "      <td>Service</td>\n",
       "      <td>Housewife</td>\n",
       "      <td>Average</td>\n",
       "      <td>Average</td>\n",
       "      <td>Govt</td>\n",
       "      <td>Asm</td>\n",
       "      <td>Large</td>\n",
       "      <td>Good</td>\n",
       "    </tr>\n",
       "    <tr>\n",
       "      <th>3</th>\n",
       "      <td>M</td>\n",
       "      <td>MOBC</td>\n",
       "      <td>Pass</td>\n",
       "      <td>Good</td>\n",
       "      <td>Vg</td>\n",
       "      <td>Good</td>\n",
       "      <td>N</td>\n",
       "      <td>Unmarried</td>\n",
       "      <td>V</td>\n",
       "      <td>Paid</td>\n",
       "      <td>...</td>\n",
       "      <td>12</td>\n",
       "      <td>Um</td>\n",
       "      <td>Business</td>\n",
       "      <td>Business</td>\n",
       "      <td>Large</td>\n",
       "      <td>Poor</td>\n",
       "      <td>Govt</td>\n",
       "      <td>Asm</td>\n",
       "      <td>Average</td>\n",
       "      <td>Average</td>\n",
       "    </tr>\n",
       "    <tr>\n",
       "      <th>4</th>\n",
       "      <td>M</td>\n",
       "      <td>G</td>\n",
       "      <td>Good</td>\n",
       "      <td>Good</td>\n",
       "      <td>Vg</td>\n",
       "      <td>Vg</td>\n",
       "      <td>N</td>\n",
       "      <td>Unmarried</td>\n",
       "      <td>V</td>\n",
       "      <td>Paid</td>\n",
       "      <td>...</td>\n",
       "      <td>10</td>\n",
       "      <td>12</td>\n",
       "      <td>Service</td>\n",
       "      <td>Housewife</td>\n",
       "      <td>Large</td>\n",
       "      <td>Poor</td>\n",
       "      <td>Private</td>\n",
       "      <td>Asm</td>\n",
       "      <td>Small</td>\n",
       "      <td>Good</td>\n",
       "    </tr>\n",
       "  </tbody>\n",
       "</table>\n",
       "<p>5 rows × 22 columns</p>\n",
       "</div>"
      ],
      "text/plain": [
       "  ge   cst   tnp   twp iap   esp arr         ms ls    as   ...     fq  mq  \\\n",
       "0  F     G  Good  Good  Vg  Good   Y  Unmarried  V  Paid   ...     Um  10   \n",
       "1  M   OBC    Vg    Vg  Vg    Vg   N  Unmarried  V  Paid   ...     Um  Il   \n",
       "2  F   OBC  Good  Good  Vg  Good   N  Unmarried  V  Paid   ...     12  10   \n",
       "3  M  MOBC  Pass  Good  Vg  Good   N  Unmarried  V  Paid   ...     12  Um   \n",
       "4  M     G  Good  Good  Vg    Vg   N  Unmarried  V  Paid   ...     10  12   \n",
       "\n",
       "         fo         mo       nf       sh       ss   me       tt      atd  \n",
       "0    Farmer  Housewife    Large     Poor     Govt  Asm    Small     Good  \n",
       "1   Service    Service    Small     Poor     Govt  Asm  Average  Average  \n",
       "2   Service  Housewife  Average  Average     Govt  Asm    Large     Good  \n",
       "3  Business   Business    Large     Poor     Govt  Asm  Average  Average  \n",
       "4   Service  Housewife    Large     Poor  Private  Asm    Small     Good  \n",
       "\n",
       "[5 rows x 22 columns]"
      ]
     },
     "execution_count": 6,
     "metadata": {},
     "output_type": "execute_result"
    }
   ],
   "source": [
    "df.head()"
   ]
  },
  {
   "cell_type": "code",
   "execution_count": 7,
   "metadata": {},
   "outputs": [
    {
     "data": {
      "text/html": [
       "<div>\n",
       "<style scoped>\n",
       "    .dataframe tbody tr th:only-of-type {\n",
       "        vertical-align: middle;\n",
       "    }\n",
       "\n",
       "    .dataframe tbody tr th {\n",
       "        vertical-align: top;\n",
       "    }\n",
       "\n",
       "    .dataframe thead th {\n",
       "        text-align: right;\n",
       "    }\n",
       "</style>\n",
       "<table border=\"1\" class=\"dataframe\">\n",
       "  <thead>\n",
       "    <tr style=\"text-align: right;\">\n",
       "      <th></th>\n",
       "      <th>ge</th>\n",
       "      <th>cst</th>\n",
       "      <th>tnp</th>\n",
       "      <th>twp</th>\n",
       "      <th>iap</th>\n",
       "      <th>esp</th>\n",
       "      <th>arr</th>\n",
       "      <th>ms</th>\n",
       "      <th>ls</th>\n",
       "      <th>as</th>\n",
       "      <th>...</th>\n",
       "      <th>fq</th>\n",
       "      <th>mq</th>\n",
       "      <th>fo</th>\n",
       "      <th>mo</th>\n",
       "      <th>nf</th>\n",
       "      <th>sh</th>\n",
       "      <th>ss</th>\n",
       "      <th>me</th>\n",
       "      <th>tt</th>\n",
       "      <th>atd</th>\n",
       "    </tr>\n",
       "  </thead>\n",
       "  <tbody>\n",
       "    <tr>\n",
       "      <th>count</th>\n",
       "      <td>131</td>\n",
       "      <td>131</td>\n",
       "      <td>131</td>\n",
       "      <td>131</td>\n",
       "      <td>131</td>\n",
       "      <td>131</td>\n",
       "      <td>131</td>\n",
       "      <td>131</td>\n",
       "      <td>131</td>\n",
       "      <td>131</td>\n",
       "      <td>...</td>\n",
       "      <td>131</td>\n",
       "      <td>131</td>\n",
       "      <td>131</td>\n",
       "      <td>131</td>\n",
       "      <td>131</td>\n",
       "      <td>131</td>\n",
       "      <td>131</td>\n",
       "      <td>131</td>\n",
       "      <td>131</td>\n",
       "      <td>131</td>\n",
       "    </tr>\n",
       "    <tr>\n",
       "      <th>unique</th>\n",
       "      <td>2</td>\n",
       "      <td>5</td>\n",
       "      <td>4</td>\n",
       "      <td>4</td>\n",
       "      <td>4</td>\n",
       "      <td>4</td>\n",
       "      <td>2</td>\n",
       "      <td>1</td>\n",
       "      <td>2</td>\n",
       "      <td>2</td>\n",
       "      <td>...</td>\n",
       "      <td>6</td>\n",
       "      <td>6</td>\n",
       "      <td>5</td>\n",
       "      <td>5</td>\n",
       "      <td>3</td>\n",
       "      <td>3</td>\n",
       "      <td>2</td>\n",
       "      <td>4</td>\n",
       "      <td>3</td>\n",
       "      <td>3</td>\n",
       "    </tr>\n",
       "    <tr>\n",
       "      <th>top</th>\n",
       "      <td>M</td>\n",
       "      <td>OBC</td>\n",
       "      <td>Good</td>\n",
       "      <td>Good</td>\n",
       "      <td>Vg</td>\n",
       "      <td>Good</td>\n",
       "      <td>N</td>\n",
       "      <td>Unmarried</td>\n",
       "      <td>V</td>\n",
       "      <td>Paid</td>\n",
       "      <td>...</td>\n",
       "      <td>Um</td>\n",
       "      <td>Um</td>\n",
       "      <td>Service</td>\n",
       "      <td>Housewife</td>\n",
       "      <td>Large</td>\n",
       "      <td>Average</td>\n",
       "      <td>Govt</td>\n",
       "      <td>Eng</td>\n",
       "      <td>Small</td>\n",
       "      <td>Good</td>\n",
       "    </tr>\n",
       "    <tr>\n",
       "      <th>freq</th>\n",
       "      <td>72</td>\n",
       "      <td>57</td>\n",
       "      <td>59</td>\n",
       "      <td>65</td>\n",
       "      <td>63</td>\n",
       "      <td>54</td>\n",
       "      <td>78</td>\n",
       "      <td>131</td>\n",
       "      <td>92</td>\n",
       "      <td>76</td>\n",
       "      <td>...</td>\n",
       "      <td>40</td>\n",
       "      <td>52</td>\n",
       "      <td>38</td>\n",
       "      <td>115</td>\n",
       "      <td>58</td>\n",
       "      <td>59</td>\n",
       "      <td>91</td>\n",
       "      <td>62</td>\n",
       "      <td>78</td>\n",
       "      <td>56</td>\n",
       "    </tr>\n",
       "  </tbody>\n",
       "</table>\n",
       "<p>4 rows × 22 columns</p>\n",
       "</div>"
      ],
      "text/plain": [
       "         ge  cst   tnp   twp  iap   esp  arr         ms   ls    as  ...    fq  \\\n",
       "count   131  131   131   131  131   131  131        131  131   131  ...   131   \n",
       "unique    2    5     4     4    4     4    2          1    2     2  ...     6   \n",
       "top       M  OBC  Good  Good   Vg  Good    N  Unmarried    V  Paid  ...    Um   \n",
       "freq     72   57    59    65   63    54   78        131   92    76  ...    40   \n",
       "\n",
       "         mq       fo         mo     nf       sh    ss   me     tt   atd  \n",
       "count   131      131        131    131      131   131  131    131   131  \n",
       "unique    6        5          5      3        3     2    4      3     3  \n",
       "top      Um  Service  Housewife  Large  Average  Govt  Eng  Small  Good  \n",
       "freq     52       38        115     58       59    91   62     78    56  \n",
       "\n",
       "[4 rows x 22 columns]"
      ]
     },
     "execution_count": 7,
     "metadata": {},
     "output_type": "execute_result"
    }
   ],
   "source": [
    "df.describe()"
   ]
  },
  {
   "cell_type": "markdown",
   "metadata": {},
   "source": [
    "The various visualizations are as follows:"
   ]
  },
  {
   "cell_type": "code",
   "execution_count": 8,
   "metadata": {},
   "outputs": [
    {
     "data": {
      "text/plain": [
       "<matplotlib.axes._subplots.AxesSubplot at 0x267ff7c8dd8>"
      ]
     },
     "execution_count": 8,
     "metadata": {},
     "output_type": "execute_result"
    }
   ],
   "source": [
    "import matplotlib.pyplot as plt\n",
    "df[\"ge\"].value_counts().plot.bar()"
   ]
  },
  {
   "cell_type": "code",
   "execution_count": 9,
   "metadata": {},
   "outputs": [
    {
     "data": {
      "text/plain": [
       "<matplotlib.axes._subplots.AxesSubplot at 0x267ff7807b8>"
      ]
     },
     "execution_count": 9,
     "metadata": {},
     "output_type": "execute_result"
    },
    {
     "data": {
      "image/png": "[encoded data removed]",
      "text/plain": [
       "<Figure size 432x288 with 1 Axes>"
      ]
     },
     "metadata": {},
     "output_type": "display_data"
    }
   ],
   "source": [
    "df[\"cst\"].value_counts().plot.bar()"
   ]
  },
  {
   "cell_type": "code",
   "execution_count": 10,
   "metadata": {},
   "outputs": [
    {
     "data": {
      "text/plain": [
       "<matplotlib.axes._subplots.AxesSubplot at 0x267ff817208>"
      ]
     },
     "execution_count": 10,
     "metadata": {},
     "output_type": "execute_result"
    },
    {
     "data": {
      "image/png": "[encoded data removed]",
      "text/plain": [
       "<Figure size 432x288 with 1 Axes>"
      ]
     },
     "metadata": {},
     "output_type": "display_data"
    }
   ],
   "source": [
    "df[\"fo\"].value_counts().plot.pie()"
   ]
  },
  {
   "cell_type": "code",
   "execution_count": 11,
   "metadata": {},
   "outputs": [
    {
     "data": {
      "text/html": [
       "<div>\n",
       "<style scoped>\n",
       "    .dataframe tbody tr th:only-of-type {\n",
       "        vertical-align: middle;\n",
       "    }\n",
       "\n",
       "    .dataframe tbody tr th {\n",
       "        vertical-align: top;\n",
       "    }\n",
       "\n",
       "    .dataframe thead th {\n",
       "        text-align: right;\n",
       "    }\n",
       "</style>\n",
       "<table border=\"1\" class=\"dataframe\">\n",
       "  <thead>\n",
       "    <tr style=\"text-align: right;\">\n",
       "      <th></th>\n",
       "      <th>ge</th>\n",
       "      <th>cst</th>\n",
       "      <th>tnp</th>\n",
       "      <th>twp</th>\n",
       "      <th>iap</th>\n",
       "      <th>esp</th>\n",
       "      <th>arr</th>\n",
       "      <th>ms</th>\n",
       "      <th>ls</th>\n",
       "      <th>as</th>\n",
       "      <th>...</th>\n",
       "      <th>fq</th>\n",
       "      <th>mq</th>\n",
       "      <th>fo</th>\n",
       "      <th>mo</th>\n",
       "      <th>nf</th>\n",
       "      <th>sh</th>\n",
       "      <th>ss</th>\n",
       "      <th>me</th>\n",
       "      <th>tt</th>\n",
       "      <th>atd</th>\n",
       "    </tr>\n",
       "  </thead>\n",
       "  <tbody>\n",
       "    <tr>\n",
       "      <th>count</th>\n",
       "      <td>131</td>\n",
       "      <td>131</td>\n",
       "      <td>131</td>\n",
       "      <td>131</td>\n",
       "      <td>131</td>\n",
       "      <td>131</td>\n",
       "      <td>131</td>\n",
       "      <td>131</td>\n",
       "      <td>131</td>\n",
       "      <td>131</td>\n",
       "      <td>...</td>\n",
       "      <td>131</td>\n",
       "      <td>131</td>\n",
       "      <td>131</td>\n",
       "      <td>131</td>\n",
       "      <td>131</td>\n",
       "      <td>131</td>\n",
       "      <td>131</td>\n",
       "      <td>131</td>\n",
       "      <td>131</td>\n",
       "      <td>131</td>\n",
       "    </tr>\n",
       "    <tr>\n",
       "      <th>unique</th>\n",
       "      <td>2</td>\n",
       "      <td>5</td>\n",
       "      <td>4</td>\n",
       "      <td>4</td>\n",
       "      <td>4</td>\n",
       "      <td>4</td>\n",
       "      <td>2</td>\n",
       "      <td>1</td>\n",
       "      <td>2</td>\n",
       "      <td>2</td>\n",
       "      <td>...</td>\n",
       "      <td>6</td>\n",
       "      <td>6</td>\n",
       "      <td>5</td>\n",
       "      <td>5</td>\n",
       "      <td>3</td>\n",
       "      <td>3</td>\n",
       "      <td>2</td>\n",
       "      <td>4</td>\n",
       "      <td>3</td>\n",
       "      <td>3</td>\n",
       "    </tr>\n",
       "    <tr>\n",
       "      <th>top</th>\n",
       "      <td>M</td>\n",
       "      <td>OBC</td>\n",
       "      <td>Good</td>\n",
       "      <td>Good</td>\n",
       "      <td>Vg</td>\n",
       "      <td>Good</td>\n",
       "      <td>N</td>\n",
       "      <td>Unmarried</td>\n",
       "      <td>V</td>\n",
       "      <td>Paid</td>\n",
       "      <td>...</td>\n",
       "      <td>Um</td>\n",
       "      <td>Um</td>\n",
       "      <td>Service</td>\n",
       "      <td>Housewife</td>\n",
       "      <td>Large</td>\n",
       "      <td>Average</td>\n",
       "      <td>Govt</td>\n",
       "      <td>Eng</td>\n",
       "      <td>Small</td>\n",
       "      <td>Good</td>\n",
       "    </tr>\n",
       "    <tr>\n",
       "      <th>freq</th>\n",
       "      <td>72</td>\n",
       "      <td>57</td>\n",
       "      <td>59</td>\n",
       "      <td>65</td>\n",
       "      <td>63</td>\n",
       "      <td>54</td>\n",
       "      <td>78</td>\n",
       "      <td>131</td>\n",
       "      <td>92</td>\n",
       "      <td>76</td>\n",
       "      <td>...</td>\n",
       "      <td>40</td>\n",
       "      <td>52</td>\n",
       "      <td>38</td>\n",
       "      <td>115</td>\n",
       "      <td>58</td>\n",
       "      <td>59</td>\n",
       "      <td>91</td>\n",
       "      <td>62</td>\n",
       "      <td>78</td>\n",
       "      <td>56</td>\n",
       "    </tr>\n",
       "  </tbody>\n",
       "</table>\n",
       "<p>4 rows × 22 columns</p>\n",
       "</div>"
      ],
      "text/plain": [
       "         ge  cst   tnp   twp  iap   esp  arr         ms   ls    as  ...    fq  \\\n",
       "count   131  131   131   131  131   131  131        131  131   131  ...   131   \n",
       "unique    2    5     4     4    4     4    2          1    2     2  ...     6   \n",
       "top       M  OBC  Good  Good   Vg  Good    N  Unmarried    V  Paid  ...    Um   \n",
       "freq     72   57    59    65   63    54   78        131   92    76  ...    40   \n",
       "\n",
       "         mq       fo         mo     nf       sh    ss   me     tt   atd  \n",
       "count   131      131        131    131      131   131  131    131   131  \n",
       "unique    6        5          5      3        3     2    4      3     3  \n",
       "top      Um  Service  Housewife  Large  Average  Govt  Eng  Small  Good  \n",
       "freq     52       38        115     58       59    91   62     78    56  \n",
       "\n",
       "[4 rows x 22 columns]"
      ]
     },
     "execution_count": 11,
     "metadata": {},
     "output_type": "execute_result"
    }
   ],
   "source": [
    "df.describe()"
   ]
  },
  {
   "cell_type": "markdown",
   "metadata": {},
   "source": [
    "We can see that the correlation matrix returns an empty value because everything is of object datatype, let us convert it into numeric datatype"
   ]
  },
  {
   "cell_type": "code",
   "execution_count": 12,
   "metadata": {},
   "outputs": [
    {
     "data": {
      "text/html": [
       "<div>\n",
       "<style scoped>\n",
       "    .dataframe tbody tr th:only-of-type {\n",
       "        vertical-align: middle;\n",
       "    }\n",
       "\n",
       "    .dataframe tbody tr th {\n",
       "        vertical-align: top;\n",
       "    }\n",
       "\n",
       "    .dataframe thead th {\n",
       "        text-align: right;\n",
       "    }\n",
       "</style>\n",
       "<table border=\"1\" class=\"dataframe\">\n",
       "  <thead>\n",
       "    <tr style=\"text-align: right;\">\n",
       "      <th></th>\n",
       "    </tr>\n",
       "  </thead>\n",
       "  <tbody>\n",
       "  </tbody>\n",
       "</table>\n",
       "</div>"
      ],
      "text/plain": [
       "Empty DataFrame\n",
       "Columns: []\n",
       "Index: []"
      ]
     },
     "execution_count": 12,
     "metadata": {},
     "output_type": "execute_result"
    }
   ],
   "source": [
    "df.corr()"
   ]
  },
  {
   "cell_type": "code",
   "execution_count": 13,
   "metadata": {},
   "outputs": [
    {
     "data": {
      "text/plain": [
       "Index(['ge', 'cst', 'tnp', 'twp', 'iap', 'esp', 'arr', 'ms', 'ls', 'as', 'fmi',\n",
       "       'fs', 'fq', 'mq', 'fo', 'mo', 'nf', 'sh', 'ss', 'me', 'tt', 'atd'],\n",
       "      dtype='object')"
      ]
     },
     "execution_count": 13,
     "metadata": {},
     "output_type": "execute_result"
    }
   ],
   "source": [
    "df.columns"
   ]
  },
  {
   "cell_type": "markdown",
   "metadata": {},
   "source": [
    "# Identification of columns"
   ]
  },
  {
   "cell_type": "markdown",
   "metadata": {},
   "source": [
    "The question describes to predict the end semester percentage based on various social, economic and academic attributes"
   ]
  },
  {
   "cell_type": "markdown",
   "metadata": {},
   "source": [
    "The features that we have enlisted are<br>\n",
    "'tnp','twp','esp','fmi','fs','nf','tt'<br>\n",
    "\n",
    "### Academic:\n",
    "tnp : Class X percentage<br>\n",
    "tnp : Class XII percentage<br>\n",
    "\n",
    "### Economic:\n",
    "fmi : Family Monthly Income<br>\n",
    "\n",
    "### Social:\n",
    "fs  : Family size<br>\n",
    "nf  : Number of Friends<br>\n",
    "\n",
    "### Classification feature:\n",
    "esp : End semester percentage<br>"
   ]
  },
  {
   "cell_type": "markdown",
   "metadata": {},
   "source": [
    "The first step is to convert the object values into numeric datatype for classification and correlation analysis"
   ]
  },
  {
   "cell_type": "markdown",
   "metadata": {},
   "source": [
    "For marks we are assigning the following<br>\n",
    "\n",
    "Let us assign<br>\n",
    "Pass 1<br>\n",
    "Good as 2<br>\n",
    "Vg (Very good) as 3<br>\n",
    "Best 4<br>"
   ]
  },
  {
   "cell_type": "code",
   "execution_count": 14,
   "metadata": {},
   "outputs": [
    {
     "data": {
      "text/plain": [
       "array(['Good', 'Vg', 'Best', 'Pass'], dtype=object)"
      ]
     },
     "execution_count": 14,
     "metadata": {},
     "output_type": "execute_result"
    }
   ],
   "source": [
    "#End semester percentage\n",
    "df['esp'].unique()"
   ]
  },
  {
   "cell_type": "code",
   "execution_count": 15,
   "metadata": {},
   "outputs": [
    {
     "data": {
      "text/plain": [
       "array(['Good', 'Vg', 'Pass', 'Best'], dtype=object)"
      ]
     },
     "execution_count": 15,
     "metadata": {},
     "output_type": "execute_result"
    }
   ],
   "source": [
    "# Acdemic tnp, twp and inp\n",
    "df['tnp'].unique()"
   ]
  },
  {
   "cell_type": "code",
   "execution_count": 16,
   "metadata": {},
   "outputs": [
    {
     "data": {
      "text/plain": [
       "array(['Good', 'Vg', 'Pass', 'Best'], dtype=object)"
      ]
     },
     "execution_count": 16,
     "metadata": {},
     "output_type": "execute_result"
    }
   ],
   "source": [
    "df['twp'].unique()"
   ]
  },
  {
   "cell_type": "code",
   "execution_count": 17,
   "metadata": {},
   "outputs": [
    {
     "data": {
      "text/plain": [
       "array(['Vg', 'Good', 'Pass', 'Best'], dtype=object)"
      ]
     },
     "execution_count": 17,
     "metadata": {},
     "output_type": "execute_result"
    }
   ],
   "source": [
    "df['iap'].unique()"
   ]
  },
  {
   "cell_type": "code",
   "execution_count": 18,
   "metadata": {},
   "outputs": [],
   "source": [
    "df=df.replace('Good',2)\n",
    "df=df.replace('Vg',3)\n",
    "df=df.replace('Pass',1)\n",
    "df=df.replace('Best',4)"
   ]
  },
  {
   "cell_type": "code",
   "execution_count": 19,
   "metadata": {},
   "outputs": [
    {
     "data": {
      "text/html": [
       "<div>\n",
       "<style scoped>\n",
       "    .dataframe tbody tr th:only-of-type {\n",
       "        vertical-align: middle;\n",
       "    }\n",
       "\n",
       "    .dataframe tbody tr th {\n",
       "        vertical-align: top;\n",
       "    }\n",
       "\n",
       "    .dataframe thead th {\n",
       "        text-align: right;\n",
       "    }\n",
       "</style>\n",
       "<table border=\"1\" class=\"dataframe\">\n",
       "  <thead>\n",
       "    <tr style=\"text-align: right;\">\n",
       "      <th></th>\n",
       "      <th>ge</th>\n",
       "      <th>cst</th>\n",
       "      <th>tnp</th>\n",
       "      <th>twp</th>\n",
       "      <th>iap</th>\n",
       "      <th>esp</th>\n",
       "      <th>arr</th>\n",
       "      <th>ms</th>\n",
       "      <th>ls</th>\n",
       "      <th>as</th>\n",
       "      <th>...</th>\n",
       "      <th>fq</th>\n",
       "      <th>mq</th>\n",
       "      <th>fo</th>\n",
       "      <th>mo</th>\n",
       "      <th>nf</th>\n",
       "      <th>sh</th>\n",
       "      <th>ss</th>\n",
       "      <th>me</th>\n",
       "      <th>tt</th>\n",
       "      <th>atd</th>\n",
       "    </tr>\n",
       "  </thead>\n",
       "  <tbody>\n",
       "    <tr>\n",
       "      <th>0</th>\n",
       "      <td>F</td>\n",
       "      <td>G</td>\n",
       "      <td>2</td>\n",
       "      <td>2</td>\n",
       "      <td>3</td>\n",
       "      <td>2</td>\n",
       "      <td>Y</td>\n",
       "      <td>Unmarried</td>\n",
       "      <td>V</td>\n",
       "      <td>Paid</td>\n",
       "      <td>...</td>\n",
       "      <td>Um</td>\n",
       "      <td>10</td>\n",
       "      <td>Farmer</td>\n",
       "      <td>Housewife</td>\n",
       "      <td>Large</td>\n",
       "      <td>Poor</td>\n",
       "      <td>Govt</td>\n",
       "      <td>Asm</td>\n",
       "      <td>Small</td>\n",
       "      <td>2</td>\n",
       "    </tr>\n",
       "    <tr>\n",
       "      <th>1</th>\n",
       "      <td>M</td>\n",
       "      <td>OBC</td>\n",
       "      <td>3</td>\n",
       "      <td>3</td>\n",
       "      <td>3</td>\n",
       "      <td>3</td>\n",
       "      <td>N</td>\n",
       "      <td>Unmarried</td>\n",
       "      <td>V</td>\n",
       "      <td>Paid</td>\n",
       "      <td>...</td>\n",
       "      <td>Um</td>\n",
       "      <td>Il</td>\n",
       "      <td>Service</td>\n",
       "      <td>Service</td>\n",
       "      <td>Small</td>\n",
       "      <td>Poor</td>\n",
       "      <td>Govt</td>\n",
       "      <td>Asm</td>\n",
       "      <td>Average</td>\n",
       "      <td>Average</td>\n",
       "    </tr>\n",
       "    <tr>\n",
       "      <th>2</th>\n",
       "      <td>F</td>\n",
       "      <td>OBC</td>\n",
       "      <td>2</td>\n",
       "      <td>2</td>\n",
       "      <td>3</td>\n",
       "      <td>2</td>\n",
       "      <td>N</td>\n",
       "      <td>Unmarried</td>\n",
       "      <td>V</td>\n",
       "      <td>Paid</td>\n",
       "      <td>...</td>\n",
       "      <td>12</td>\n",
       "      <td>10</td>\n",
       "      <td>Service</td>\n",
       "      <td>Housewife</td>\n",
       "      <td>Average</td>\n",
       "      <td>Average</td>\n",
       "      <td>Govt</td>\n",
       "      <td>Asm</td>\n",
       "      <td>Large</td>\n",
       "      <td>2</td>\n",
       "    </tr>\n",
       "    <tr>\n",
       "      <th>3</th>\n",
       "      <td>M</td>\n",
       "      <td>MOBC</td>\n",
       "      <td>1</td>\n",
       "      <td>2</td>\n",
       "      <td>3</td>\n",
       "      <td>2</td>\n",
       "      <td>N</td>\n",
       "      <td>Unmarried</td>\n",
       "      <td>V</td>\n",
       "      <td>Paid</td>\n",
       "      <td>...</td>\n",
       "      <td>12</td>\n",
       "      <td>Um</td>\n",
       "      <td>Business</td>\n",
       "      <td>Business</td>\n",
       "      <td>Large</td>\n",
       "      <td>Poor</td>\n",
       "      <td>Govt</td>\n",
       "      <td>Asm</td>\n",
       "      <td>Average</td>\n",
       "      <td>Average</td>\n",
       "    </tr>\n",
       "    <tr>\n",
       "      <th>4</th>\n",
       "      <td>M</td>\n",
       "      <td>G</td>\n",
       "      <td>2</td>\n",
       "      <td>2</td>\n",
       "      <td>3</td>\n",
       "      <td>3</td>\n",
       "      <td>N</td>\n",
       "      <td>Unmarried</td>\n",
       "      <td>V</td>\n",
       "      <td>Paid</td>\n",
       "      <td>...</td>\n",
       "      <td>10</td>\n",
       "      <td>12</td>\n",
       "      <td>Service</td>\n",
       "      <td>Housewife</td>\n",
       "      <td>Large</td>\n",
       "      <td>Poor</td>\n",
       "      <td>Private</td>\n",
       "      <td>Asm</td>\n",
       "      <td>Small</td>\n",
       "      <td>2</td>\n",
       "    </tr>\n",
       "  </tbody>\n",
       "</table>\n",
       "<p>5 rows × 22 columns</p>\n",
       "</div>"
      ],
      "text/plain": [
       "  ge   cst  tnp  twp  iap  esp arr         ms ls    as   ...     fq  mq  \\\n",
       "0  F     G    2    2    3    2   Y  Unmarried  V  Paid   ...     Um  10   \n",
       "1  M   OBC    3    3    3    3   N  Unmarried  V  Paid   ...     Um  Il   \n",
       "2  F   OBC    2    2    3    2   N  Unmarried  V  Paid   ...     12  10   \n",
       "3  M  MOBC    1    2    3    2   N  Unmarried  V  Paid   ...     12  Um   \n",
       "4  M     G    2    2    3    3   N  Unmarried  V  Paid   ...     10  12   \n",
       "\n",
       "         fo         mo       nf       sh       ss   me       tt      atd  \n",
       "0    Farmer  Housewife    Large     Poor     Govt  Asm    Small        2  \n",
       "1   Service    Service    Small     Poor     Govt  Asm  Average  Average  \n",
       "2   Service  Housewife  Average  Average     Govt  Asm    Large        2  \n",
       "3  Business   Business    Large     Poor     Govt  Asm  Average  Average  \n",
       "4   Service  Housewife    Large     Poor  Private  Asm    Small        2  \n",
       "\n",
       "[5 rows x 22 columns]"
      ]
     },
     "execution_count": 19,
     "metadata": {},
     "output_type": "execute_result"
    }
   ],
   "source": [
    "df.head()"
   ]
  },
  {
   "cell_type": "markdown",
   "metadata": {},
   "source": [
    "For family size and no of friends we are assigning the following<br>\n",
    "\n",
    "Let us assign<br>\n",
    "Small 1<br>\n",
    "Average 2<br>\n",
    "Large 3<br>"
   ]
  },
  {
   "cell_type": "code",
   "execution_count": 20,
   "metadata": {},
   "outputs": [
    {
     "data": {
      "text/plain": [
       "array(['Average', 'Small', 'Large'], dtype=object)"
      ]
     },
     "execution_count": 20,
     "metadata": {},
     "output_type": "execute_result"
    }
   ],
   "source": [
    "df['fs'].unique()"
   ]
  },
  {
   "cell_type": "code",
   "execution_count": 21,
   "metadata": {},
   "outputs": [
    {
     "data": {
      "text/html": [
       "<div>\n",
       "<style scoped>\n",
       "    .dataframe tbody tr th:only-of-type {\n",
       "        vertical-align: middle;\n",
       "    }\n",
       "\n",
       "    .dataframe tbody tr th {\n",
       "        vertical-align: top;\n",
       "    }\n",
       "\n",
       "    .dataframe thead th {\n",
       "        text-align: right;\n",
       "    }\n",
       "</style>\n",
       "<table border=\"1\" class=\"dataframe\">\n",
       "  <thead>\n",
       "    <tr style=\"text-align: right;\">\n",
       "      <th></th>\n",
       "      <th>ge</th>\n",
       "      <th>cst</th>\n",
       "      <th>tnp</th>\n",
       "      <th>twp</th>\n",
       "      <th>iap</th>\n",
       "      <th>esp</th>\n",
       "      <th>arr</th>\n",
       "      <th>ms</th>\n",
       "      <th>ls</th>\n",
       "      <th>as</th>\n",
       "      <th>...</th>\n",
       "      <th>fq</th>\n",
       "      <th>mq</th>\n",
       "      <th>fo</th>\n",
       "      <th>mo</th>\n",
       "      <th>nf</th>\n",
       "      <th>sh</th>\n",
       "      <th>ss</th>\n",
       "      <th>me</th>\n",
       "      <th>tt</th>\n",
       "      <th>atd</th>\n",
       "    </tr>\n",
       "  </thead>\n",
       "  <tbody>\n",
       "    <tr>\n",
       "      <th>0</th>\n",
       "      <td>F</td>\n",
       "      <td>G</td>\n",
       "      <td>2</td>\n",
       "      <td>2</td>\n",
       "      <td>3</td>\n",
       "      <td>2</td>\n",
       "      <td>Y</td>\n",
       "      <td>Unmarried</td>\n",
       "      <td>V</td>\n",
       "      <td>Paid</td>\n",
       "      <td>...</td>\n",
       "      <td>Um</td>\n",
       "      <td>10</td>\n",
       "      <td>Farmer</td>\n",
       "      <td>Housewife</td>\n",
       "      <td>3</td>\n",
       "      <td>Poor</td>\n",
       "      <td>Govt</td>\n",
       "      <td>Asm</td>\n",
       "      <td>1</td>\n",
       "      <td>2</td>\n",
       "    </tr>\n",
       "    <tr>\n",
       "      <th>1</th>\n",
       "      <td>M</td>\n",
       "      <td>OBC</td>\n",
       "      <td>3</td>\n",
       "      <td>3</td>\n",
       "      <td>3</td>\n",
       "      <td>3</td>\n",
       "      <td>N</td>\n",
       "      <td>Unmarried</td>\n",
       "      <td>V</td>\n",
       "      <td>Paid</td>\n",
       "      <td>...</td>\n",
       "      <td>Um</td>\n",
       "      <td>Il</td>\n",
       "      <td>Service</td>\n",
       "      <td>Service</td>\n",
       "      <td>1</td>\n",
       "      <td>Poor</td>\n",
       "      <td>Govt</td>\n",
       "      <td>Asm</td>\n",
       "      <td>2</td>\n",
       "      <td>2</td>\n",
       "    </tr>\n",
       "    <tr>\n",
       "      <th>2</th>\n",
       "      <td>F</td>\n",
       "      <td>OBC</td>\n",
       "      <td>2</td>\n",
       "      <td>2</td>\n",
       "      <td>3</td>\n",
       "      <td>2</td>\n",
       "      <td>N</td>\n",
       "      <td>Unmarried</td>\n",
       "      <td>V</td>\n",
       "      <td>Paid</td>\n",
       "      <td>...</td>\n",
       "      <td>12</td>\n",
       "      <td>10</td>\n",
       "      <td>Service</td>\n",
       "      <td>Housewife</td>\n",
       "      <td>2</td>\n",
       "      <td>2</td>\n",
       "      <td>Govt</td>\n",
       "      <td>Asm</td>\n",
       "      <td>3</td>\n",
       "      <td>2</td>\n",
       "    </tr>\n",
       "    <tr>\n",
       "      <th>3</th>\n",
       "      <td>M</td>\n",
       "      <td>MOBC</td>\n",
       "      <td>1</td>\n",
       "      <td>2</td>\n",
       "      <td>3</td>\n",
       "      <td>2</td>\n",
       "      <td>N</td>\n",
       "      <td>Unmarried</td>\n",
       "      <td>V</td>\n",
       "      <td>Paid</td>\n",
       "      <td>...</td>\n",
       "      <td>12</td>\n",
       "      <td>Um</td>\n",
       "      <td>Business</td>\n",
       "      <td>Business</td>\n",
       "      <td>3</td>\n",
       "      <td>Poor</td>\n",
       "      <td>Govt</td>\n",
       "      <td>Asm</td>\n",
       "      <td>2</td>\n",
       "      <td>2</td>\n",
       "    </tr>\n",
       "    <tr>\n",
       "      <th>4</th>\n",
       "      <td>M</td>\n",
       "      <td>G</td>\n",
       "      <td>2</td>\n",
       "      <td>2</td>\n",
       "      <td>3</td>\n",
       "      <td>3</td>\n",
       "      <td>N</td>\n",
       "      <td>Unmarried</td>\n",
       "      <td>V</td>\n",
       "      <td>Paid</td>\n",
       "      <td>...</td>\n",
       "      <td>10</td>\n",
       "      <td>12</td>\n",
       "      <td>Service</td>\n",
       "      <td>Housewife</td>\n",
       "      <td>3</td>\n",
       "      <td>Poor</td>\n",
       "      <td>Private</td>\n",
       "      <td>Asm</td>\n",
       "      <td>1</td>\n",
       "      <td>2</td>\n",
       "    </tr>\n",
       "  </tbody>\n",
       "</table>\n",
       "<p>5 rows × 22 columns</p>\n",
       "</div>"
      ],
      "text/plain": [
       "  ge   cst  tnp  twp  iap  esp arr         ms ls    as ...  fq  mq        fo  \\\n",
       "0  F     G    2    2    3    2   Y  Unmarried  V  Paid ...  Um  10    Farmer   \n",
       "1  M   OBC    3    3    3    3   N  Unmarried  V  Paid ...  Um  Il   Service   \n",
       "2  F   OBC    2    2    3    2   N  Unmarried  V  Paid ...  12  10   Service   \n",
       "3  M  MOBC    1    2    3    2   N  Unmarried  V  Paid ...  12  Um  Business   \n",
       "4  M     G    2    2    3    3   N  Unmarried  V  Paid ...  10  12   Service   \n",
       "\n",
       "          mo nf    sh       ss   me tt atd  \n",
       "0  Housewife  3  Poor     Govt  Asm  1   2  \n",
       "1    Service  1  Poor     Govt  Asm  2   2  \n",
       "2  Housewife  2     2     Govt  Asm  3   2  \n",
       "3   Business  3  Poor     Govt  Asm  2   2  \n",
       "4  Housewife  3  Poor  Private  Asm  1   2  \n",
       "\n",
       "[5 rows x 22 columns]"
      ]
     },
     "execution_count": 21,
     "metadata": {},
     "output_type": "execute_result"
    }
   ],
   "source": [
    "df=df.replace('Average',2)\n",
    "df=df.replace('Small',1)\n",
    "df=df.replace('Large',3)\n",
    "df.head()"
   ]
  },
  {
   "cell_type": "code",
   "execution_count": 22,
   "metadata": {},
   "outputs": [
    {
     "data": {
      "text/plain": [
       "array([2, 1, 3], dtype=int64)"
      ]
     },
     "execution_count": 22,
     "metadata": {},
     "output_type": "execute_result"
    }
   ],
   "source": [
    "df['fs'].unique()"
   ]
  },
  {
   "cell_type": "code",
   "execution_count": 23,
   "metadata": {},
   "outputs": [
    {
     "data": {
      "text/plain": [
       "array([2, 3, 1, 4], dtype=int64)"
      ]
     },
     "execution_count": 23,
     "metadata": {},
     "output_type": "execute_result"
    }
   ],
   "source": [
    "df['tnp'].unique()"
   ]
  },
  {
   "cell_type": "markdown",
   "metadata": {},
   "source": [
    "For fmi we are assigning the following<br>\n",
    "\n",
    "Medium 2<br>\n",
    "Low 1<br>\n",
    "Am 3<br>\n",
    "High 4<br>\n",
    "Vh 5<br>"
   ]
  },
  {
   "cell_type": "code",
   "execution_count": 24,
   "metadata": {},
   "outputs": [
    {
     "data": {
      "text/plain": [
       "array(['Medium', 'Low', 'Am', 'High', 'Vh'], dtype=object)"
      ]
     },
     "execution_count": 24,
     "metadata": {},
     "output_type": "execute_result"
    }
   ],
   "source": [
    "# Economic fmi\n",
    "df['fmi'].unique()"
   ]
  },
  {
   "cell_type": "code",
   "execution_count": 25,
   "metadata": {},
   "outputs": [
    {
     "data": {
      "text/plain": [
       "array([2, 1, 3, 4, 5], dtype=int64)"
      ]
     },
     "execution_count": 25,
     "metadata": {},
     "output_type": "execute_result"
    }
   ],
   "source": [
    "df=df.replace('Medium',2)\n",
    "df=df.replace('Low',1)\n",
    "df=df.replace('Am',3)\n",
    "df=df.replace('High',4)\n",
    "df=df.replace('Vh',5)\n",
    "df['fmi'].unique()"
   ]
  },
  {
   "cell_type": "code",
   "execution_count": 26,
   "metadata": {},
   "outputs": [
    {
     "data": {
      "text/plain": [
       "ge     object\n",
       "cst    object\n",
       "tnp     int64\n",
       "twp     int64\n",
       "iap     int64\n",
       "esp     int64\n",
       "arr    object\n",
       "ms     object\n",
       "ls     object\n",
       "as     object\n",
       "fmi     int64\n",
       "fs      int64\n",
       "fq     object\n",
       "mq     object\n",
       "fo     object\n",
       "mo     object\n",
       "nf      int64\n",
       "sh     object\n",
       "ss     object\n",
       "me     object\n",
       "tt      int64\n",
       "atd    object\n",
       "dtype: object"
      ]
     },
     "execution_count": 26,
     "metadata": {},
     "output_type": "execute_result"
    }
   ],
   "source": [
    "df.dtypes"
   ]
  },
  {
   "cell_type": "code",
   "execution_count": 27,
   "metadata": {},
   "outputs": [],
   "source": [
    "df2 = df[['tnp','twp','esp','fmi','fs','nf','tt']]"
   ]
  },
  {
   "cell_type": "code",
   "execution_count": 28,
   "metadata": {},
   "outputs": [
    {
     "data": {
      "text/html": [
       "<div>\n",
       "<style scoped>\n",
       "    .dataframe tbody tr th:only-of-type {\n",
       "        vertical-align: middle;\n",
       "    }\n",
       "\n",
       "    .dataframe tbody tr th {\n",
       "        vertical-align: top;\n",
       "    }\n",
       "\n",
       "    .dataframe thead th {\n",
       "        text-align: right;\n",
       "    }\n",
       "</style>\n",
       "<table border=\"1\" class=\"dataframe\">\n",
       "  <thead>\n",
       "    <tr style=\"text-align: right;\">\n",
       "      <th></th>\n",
       "      <th>tnp</th>\n",
       "      <th>twp</th>\n",
       "      <th>esp</th>\n",
       "      <th>fmi</th>\n",
       "      <th>fs</th>\n",
       "      <th>nf</th>\n",
       "      <th>tt</th>\n",
       "    </tr>\n",
       "  </thead>\n",
       "  <tbody>\n",
       "    <tr>\n",
       "      <th>0</th>\n",
       "      <td>2</td>\n",
       "      <td>2</td>\n",
       "      <td>2</td>\n",
       "      <td>2</td>\n",
       "      <td>2</td>\n",
       "      <td>3</td>\n",
       "      <td>1</td>\n",
       "    </tr>\n",
       "    <tr>\n",
       "      <th>1</th>\n",
       "      <td>3</td>\n",
       "      <td>3</td>\n",
       "      <td>3</td>\n",
       "      <td>1</td>\n",
       "      <td>2</td>\n",
       "      <td>1</td>\n",
       "      <td>2</td>\n",
       "    </tr>\n",
       "    <tr>\n",
       "      <th>2</th>\n",
       "      <td>2</td>\n",
       "      <td>2</td>\n",
       "      <td>2</td>\n",
       "      <td>3</td>\n",
       "      <td>2</td>\n",
       "      <td>2</td>\n",
       "      <td>3</td>\n",
       "    </tr>\n",
       "    <tr>\n",
       "      <th>3</th>\n",
       "      <td>1</td>\n",
       "      <td>2</td>\n",
       "      <td>2</td>\n",
       "      <td>2</td>\n",
       "      <td>1</td>\n",
       "      <td>3</td>\n",
       "      <td>2</td>\n",
       "    </tr>\n",
       "    <tr>\n",
       "      <th>4</th>\n",
       "      <td>2</td>\n",
       "      <td>2</td>\n",
       "      <td>3</td>\n",
       "      <td>3</td>\n",
       "      <td>2</td>\n",
       "      <td>3</td>\n",
       "      <td>1</td>\n",
       "    </tr>\n",
       "  </tbody>\n",
       "</table>\n",
       "</div>"
      ],
      "text/plain": [
       "   tnp  twp  esp  fmi  fs  nf  tt\n",
       "0    2    2    2    2   2   3   1\n",
       "1    3    3    3    1   2   1   2\n",
       "2    2    2    2    3   2   2   3\n",
       "3    1    2    2    2   1   3   2\n",
       "4    2    2    3    3   2   3   1"
      ]
     },
     "execution_count": 28,
     "metadata": {},
     "output_type": "execute_result"
    }
   ],
   "source": [
    "df2.head()"
   ]
  },
  {
   "cell_type": "markdown",
   "metadata": {},
   "source": [
    "# Descriptive Analysis between attributes"
   ]
  },
  {
   "cell_type": "code",
   "execution_count": 29,
   "metadata": {},
   "outputs": [
    {
     "data": {
      "text/html": [
       "<div>\n",
       "<style scoped>\n",
       "    .dataframe tbody tr th:only-of-type {\n",
       "        vertical-align: middle;\n",
       "    }\n",
       "\n",
       "    .dataframe tbody tr th {\n",
       "        vertical-align: top;\n",
       "    }\n",
       "\n",
       "    .dataframe thead th {\n",
       "        text-align: right;\n",
       "    }\n",
       "</style>\n",
       "<table border=\"1\" class=\"dataframe\">\n",
       "  <thead>\n",
       "    <tr style=\"text-align: right;\">\n",
       "      <th></th>\n",
       "      <th>tnp</th>\n",
       "      <th>twp</th>\n",
       "      <th>esp</th>\n",
       "      <th>fmi</th>\n",
       "      <th>fs</th>\n",
       "      <th>nf</th>\n",
       "      <th>tt</th>\n",
       "    </tr>\n",
       "  </thead>\n",
       "  <tbody>\n",
       "    <tr>\n",
       "      <th>tnp</th>\n",
       "      <td>1.000000</td>\n",
       "      <td>0.612363</td>\n",
       "      <td>0.665497</td>\n",
       "      <td>0.097700</td>\n",
       "      <td>-0.025591</td>\n",
       "      <td>0.108114</td>\n",
       "      <td>-0.113782</td>\n",
       "    </tr>\n",
       "    <tr>\n",
       "      <th>twp</th>\n",
       "      <td>0.612363</td>\n",
       "      <td>1.000000</td>\n",
       "      <td>0.630393</td>\n",
       "      <td>0.227759</td>\n",
       "      <td>-0.008830</td>\n",
       "      <td>0.132668</td>\n",
       "      <td>-0.062219</td>\n",
       "    </tr>\n",
       "    <tr>\n",
       "      <th>esp</th>\n",
       "      <td>0.665497</td>\n",
       "      <td>0.630393</td>\n",
       "      <td>1.000000</td>\n",
       "      <td>0.140645</td>\n",
       "      <td>-0.097024</td>\n",
       "      <td>0.141181</td>\n",
       "      <td>-0.183726</td>\n",
       "    </tr>\n",
       "    <tr>\n",
       "      <th>fmi</th>\n",
       "      <td>0.097700</td>\n",
       "      <td>0.227759</td>\n",
       "      <td>0.140645</td>\n",
       "      <td>1.000000</td>\n",
       "      <td>-0.006992</td>\n",
       "      <td>0.162145</td>\n",
       "      <td>-0.017013</td>\n",
       "    </tr>\n",
       "    <tr>\n",
       "      <th>fs</th>\n",
       "      <td>-0.025591</td>\n",
       "      <td>-0.008830</td>\n",
       "      <td>-0.097024</td>\n",
       "      <td>-0.006992</td>\n",
       "      <td>1.000000</td>\n",
       "      <td>-0.122697</td>\n",
       "      <td>0.067865</td>\n",
       "    </tr>\n",
       "    <tr>\n",
       "      <th>nf</th>\n",
       "      <td>0.108114</td>\n",
       "      <td>0.132668</td>\n",
       "      <td>0.141181</td>\n",
       "      <td>0.162145</td>\n",
       "      <td>-0.122697</td>\n",
       "      <td>1.000000</td>\n",
       "      <td>-0.159186</td>\n",
       "    </tr>\n",
       "    <tr>\n",
       "      <th>tt</th>\n",
       "      <td>-0.113782</td>\n",
       "      <td>-0.062219</td>\n",
       "      <td>-0.183726</td>\n",
       "      <td>-0.017013</td>\n",
       "      <td>0.067865</td>\n",
       "      <td>-0.159186</td>\n",
       "      <td>1.000000</td>\n",
       "    </tr>\n",
       "  </tbody>\n",
       "</table>\n",
       "</div>"
      ],
      "text/plain": [
       "          tnp       twp       esp       fmi        fs        nf        tt\n",
       "tnp  1.000000  0.612363  0.665497  0.097700 -0.025591  0.108114 -0.113782\n",
       "twp  0.612363  1.000000  0.630393  0.227759 -0.008830  0.132668 -0.062219\n",
       "esp  0.665497  0.630393  1.000000  0.140645 -0.097024  0.141181 -0.183726\n",
       "fmi  0.097700  0.227759  0.140645  1.000000 -0.006992  0.162145 -0.017013\n",
       "fs  -0.025591 -0.008830 -0.097024 -0.006992  1.000000 -0.122697  0.067865\n",
       "nf   0.108114  0.132668  0.141181  0.162145 -0.122697  1.000000 -0.159186\n",
       "tt  -0.113782 -0.062219 -0.183726 -0.017013  0.067865 -0.159186  1.000000"
      ]
     },
     "execution_count": 29,
     "metadata": {},
     "output_type": "execute_result"
    }
   ],
   "source": [
    "# Visualizing the essential attributes\n",
    "df2.corr()"
   ]
  },
  {
   "cell_type": "code",
   "execution_count": 30,
   "metadata": {},
   "outputs": [
    {
     "data": {
      "text/plain": [
       "<seaborn.axisgrid.PairGrid at 0x267ff8b85f8>"
      ]
     },
     "execution_count": 30,
     "metadata": {},
     "output_type": "execute_result"
    },
    {
     "data": {
      "image/png": "[encoded data removed]",
      "text/plain": [
       "<Figure size 1260x1260 with 56 Axes>"
      ]
     },
     "metadata": {},
     "output_type": "display_data"
    }
   ],
   "source": [
    "import seaborn as sns\n",
    "sns.pairplot(df2)"
   ]
  },
  {
   "cell_type": "code",
   "execution_count": 31,
   "metadata": {},
   "outputs": [
    {
     "data": {
      "text/html": [
       "<div>\n",
       "<style scoped>\n",
       "    .dataframe tbody tr th:only-of-type {\n",
       "        vertical-align: middle;\n",
       "    }\n",
       "\n",
       "    .dataframe tbody tr th {\n",
       "        vertical-align: top;\n",
       "    }\n",
       "\n",
       "    .dataframe thead th {\n",
       "        text-align: right;\n",
       "    }\n",
       "</style>\n",
       "<table border=\"1\" class=\"dataframe\">\n",
       "  <thead>\n",
       "    <tr style=\"text-align: right;\">\n",
       "      <th></th>\n",
       "      <th>tnp</th>\n",
       "      <th>twp</th>\n",
       "      <th>esp</th>\n",
       "      <th>fmi</th>\n",
       "      <th>fs</th>\n",
       "      <th>nf</th>\n",
       "      <th>tt</th>\n",
       "    </tr>\n",
       "  </thead>\n",
       "  <tbody>\n",
       "    <tr>\n",
       "      <th>count</th>\n",
       "      <td>131.000000</td>\n",
       "      <td>131.000000</td>\n",
       "      <td>131.000000</td>\n",
       "      <td>131.000000</td>\n",
       "      <td>131.000000</td>\n",
       "      <td>131.000000</td>\n",
       "      <td>131.000000</td>\n",
       "    </tr>\n",
       "    <tr>\n",
       "      <th>mean</th>\n",
       "      <td>2.236641</td>\n",
       "      <td>2.282443</td>\n",
       "      <td>2.236641</td>\n",
       "      <td>2.419847</td>\n",
       "      <td>1.335878</td>\n",
       "      <td>2.213740</td>\n",
       "      <td>1.480916</td>\n",
       "    </tr>\n",
       "    <tr>\n",
       "      <th>std</th>\n",
       "      <td>0.839707</td>\n",
       "      <td>0.736675</td>\n",
       "      <td>0.848819</td>\n",
       "      <td>1.029968</td>\n",
       "      <td>0.505519</td>\n",
       "      <td>0.794284</td>\n",
       "      <td>0.636712</td>\n",
       "    </tr>\n",
       "    <tr>\n",
       "      <th>min</th>\n",
       "      <td>1.000000</td>\n",
       "      <td>1.000000</td>\n",
       "      <td>1.000000</td>\n",
       "      <td>1.000000</td>\n",
       "      <td>1.000000</td>\n",
       "      <td>1.000000</td>\n",
       "      <td>1.000000</td>\n",
       "    </tr>\n",
       "    <tr>\n",
       "      <th>25%</th>\n",
       "      <td>2.000000</td>\n",
       "      <td>2.000000</td>\n",
       "      <td>2.000000</td>\n",
       "      <td>2.000000</td>\n",
       "      <td>1.000000</td>\n",
       "      <td>2.000000</td>\n",
       "      <td>1.000000</td>\n",
       "    </tr>\n",
       "    <tr>\n",
       "      <th>50%</th>\n",
       "      <td>2.000000</td>\n",
       "      <td>2.000000</td>\n",
       "      <td>2.000000</td>\n",
       "      <td>2.000000</td>\n",
       "      <td>1.000000</td>\n",
       "      <td>2.000000</td>\n",
       "      <td>1.000000</td>\n",
       "    </tr>\n",
       "    <tr>\n",
       "      <th>75%</th>\n",
       "      <td>3.000000</td>\n",
       "      <td>3.000000</td>\n",
       "      <td>3.000000</td>\n",
       "      <td>3.000000</td>\n",
       "      <td>2.000000</td>\n",
       "      <td>3.000000</td>\n",
       "      <td>2.000000</td>\n",
       "    </tr>\n",
       "    <tr>\n",
       "      <th>max</th>\n",
       "      <td>4.000000</td>\n",
       "      <td>4.000000</td>\n",
       "      <td>4.000000</td>\n",
       "      <td>5.000000</td>\n",
       "      <td>3.000000</td>\n",
       "      <td>3.000000</td>\n",
       "      <td>3.000000</td>\n",
       "    </tr>\n",
       "  </tbody>\n",
       "</table>\n",
       "</div>"
      ],
      "text/plain": [
       "              tnp         twp         esp         fmi          fs          nf  \\\n",
       "count  131.000000  131.000000  131.000000  131.000000  131.000000  131.000000   \n",
       "mean     2.236641    2.282443    2.236641    2.419847    1.335878    2.213740   \n",
       "std      0.839707    0.736675    0.848819    1.029968    0.505519    0.794284   \n",
       "min      1.000000    1.000000    1.000000    1.000000    1.000000    1.000000   \n",
       "25%      2.000000    2.000000    2.000000    2.000000    1.000000    2.000000   \n",
       "50%      2.000000    2.000000    2.000000    2.000000    1.000000    2.000000   \n",
       "75%      3.000000    3.000000    3.000000    3.000000    2.000000    3.000000   \n",
       "max      4.000000    4.000000    4.000000    5.000000    3.000000    3.000000   \n",
       "\n",
       "               tt  \n",
       "count  131.000000  \n",
       "mean     1.480916  \n",
       "std      0.636712  \n",
       "min      1.000000  \n",
       "25%      1.000000  \n",
       "50%      1.000000  \n",
       "75%      2.000000  \n",
       "max      3.000000  "
      ]
     },
     "execution_count": 31,
     "metadata": {},
     "output_type": "execute_result"
    }
   ],
   "source": [
    "# Descriptive statistics\n",
    "df2.describe()"
   ]
  },
  {
   "cell_type": "markdown",
   "metadata": {},
   "source": [
    "# Classfication Algorithms"
   ]
  },
  {
   "cell_type": "code",
   "execution_count": 32,
   "metadata": {},
   "outputs": [],
   "source": [
    "feature_names = ['tnp', 'twp', 'fmi', 'fs','nf','tt']\n",
    "X = df2[feature_names]\n",
    "# end semester percentage\n",
    "y = df2['esp']"
   ]
  },
  {
   "cell_type": "code",
   "execution_count": 33,
   "metadata": {},
   "outputs": [],
   "source": [
    "from sklearn.model_selection import train_test_split\n",
    "X_train, X_test, y_train, y_test = train_test_split(X, y, random_state=0)\n",
    "from sklearn.preprocessing import MinMaxScaler\n",
    "scaler = MinMaxScaler()\n",
    "X_train = scaler.fit_transform(X_train)\n",
    "X_test = scaler.transform(X_test)"
   ]
  },
  {
   "cell_type": "markdown",
   "metadata": {},
   "source": [
    "## Logistic Regression"
   ]
  },
  {
   "cell_type": "code",
   "execution_count": 34,
   "metadata": {},
   "outputs": [
    {
     "name": "stdout",
     "output_type": "stream",
     "text": [
      "Accuracy of Logistic regression classifier on training set: 0.64\n",
      "Accuracy of Logistic regression classifier on test set: 0.55\n"
     ]
    }
   ],
   "source": [
    "from sklearn.linear_model import LogisticRegression\n",
    "logreg = LogisticRegression()\n",
    "logreg.fit(X_train, y_train)\n",
    "print('Accuracy of Logistic regression classifier on training set: {:.2f}'\n",
    "     .format(logreg.score(X_train, y_train)))\n",
    "print('Accuracy of Logistic regression classifier on test set: {:.2f}'\n",
    "     .format(logreg.score(X_test, y_test)))"
   ]
  },
  {
   "cell_type": "markdown",
   "metadata": {},
   "source": [
    "## Decision Tree"
   ]
  },
  {
   "cell_type": "code",
   "execution_count": 35,
   "metadata": {},
   "outputs": [
    {
     "name": "stdout",
     "output_type": "stream",
     "text": [
      "Accuracy of Decision Tree classifier on training set: 0.92\n",
      "Accuracy of Decision Tree classifier on test set: 0.45\n"
     ]
    }
   ],
   "source": [
    "from sklearn.tree import DecisionTreeClassifier\n",
    "clf = DecisionTreeClassifier().fit(X_train, y_train)\n",
    "print('Accuracy of Decision Tree classifier on training set: {:.2f}'\n",
    "     .format(clf.score(X_train, y_train)))\n",
    "print('Accuracy of Decision Tree classifier on test set: {:.2f}'\n",
    "     .format(clf.score(X_test, y_test)))"
   ]
  },
  {
   "cell_type": "markdown",
   "metadata": {},
   "source": [
    "## K Neighbours"
   ]
  },
  {
   "cell_type": "code",
   "execution_count": 36,
   "metadata": {},
   "outputs": [
    {
     "name": "stdout",
     "output_type": "stream",
     "text": [
      "Accuracy of K-NN classifier on training set: 0.65\n",
      "Accuracy of K-NN classifier on test set: 0.52\n"
     ]
    }
   ],
   "source": [
    "from sklearn.neighbors import KNeighborsClassifier\n",
    "knn = KNeighborsClassifier()\n",
    "knn.fit(X_train, y_train)\n",
    "print('Accuracy of K-NN classifier on training set: {:.2f}'\n",
    "     .format(knn.score(X_train, y_train)))\n",
    "print('Accuracy of K-NN classifier on test set: {:.2f}'\n",
    "     .format(knn.score(X_test, y_test)))"
   ]
  },
  {
   "cell_type": "markdown",
   "metadata": {},
   "source": [
    "## Linear Discriminant Analysis"
   ]
  },
  {
   "cell_type": "code",
   "execution_count": 37,
   "metadata": {},
   "outputs": [
    {
     "name": "stdout",
     "output_type": "stream",
     "text": [
      "Accuracy of LDA classifier on training set: 0.70\n",
      "Accuracy of LDA classifier on test set: 0.55\n"
     ]
    }
   ],
   "source": [
    "from sklearn.discriminant_analysis import LinearDiscriminantAnalysis\n",
    "lda = LinearDiscriminantAnalysis()\n",
    "lda.fit(X_train, y_train)\n",
    "print('Accuracy of LDA classifier on training set: {:.2f}'\n",
    "     .format(lda.score(X_train, y_train)))\n",
    "print('Accuracy of LDA classifier on test set: {:.2f}'\n",
    "     .format(lda.score(X_test, y_test)))"
   ]
  },
  {
   "cell_type": "markdown",
   "metadata": {},
   "source": [
    "## Gaussian Naive Bayes"
   ]
  },
  {
   "cell_type": "code",
   "execution_count": 38,
   "metadata": {},
   "outputs": [
    {
     "name": "stdout",
     "output_type": "stream",
     "text": [
      "Accuracy of GNB classifier on training set: 0.52\n",
      "Accuracy of GNB classifier on test set: 0.36\n"
     ]
    }
   ],
   "source": [
    "from sklearn.naive_bayes import GaussianNB\n",
    "gnb = GaussianNB()\n",
    "gnb.fit(X_train, y_train)\n",
    "print('Accuracy of GNB classifier on training set: {:.2f}'\n",
    "     .format(gnb.score(X_train, y_train)))\n",
    "print('Accuracy of GNB classifier on test set: {:.2f}'\n",
    "     .format(gnb.score(X_test, y_test)))"
   ]
  },
  {
   "cell_type": "markdown",
   "metadata": {},
   "source": [
    "## SVM"
   ]
  },
  {
   "cell_type": "code",
   "execution_count": 39,
   "metadata": {},
   "outputs": [
    {
     "name": "stdout",
     "output_type": "stream",
     "text": [
      "Accuracy of SVM classifier on training set: 0.62\n",
      "Accuracy of SVM classifier on test set: 0.58\n"
     ]
    }
   ],
   "source": [
    "from sklearn.svm import SVC\n",
    "svm = SVC()\n",
    "svm.fit(X_train, y_train)\n",
    "print('Accuracy of SVM classifier on training set: {:.2f}'\n",
    "     .format(svm.score(X_train, y_train)))\n",
    "print('Accuracy of SVM classifier on test set: {:.2f}'\n",
    "     .format(svm.score(X_test, y_test)))"
   ]
  },
  {
   "cell_type": "code",
   "execution_count": 40,
   "metadata": {},
   "outputs": [
    {
     "name": "stdout",
     "output_type": "stream",
     "text": [
      "[[ 1  3  1  0]\n",
      " [ 2 11  2  0]\n",
      " [ 0  4  5  0]\n",
      " [ 0  1  3  0]]\n",
      "             precision    recall  f1-score   support\n",
      "\n",
      "          1       0.33      0.20      0.25         5\n",
      "          2       0.58      0.73      0.65        15\n",
      "          3       0.45      0.56      0.50         9\n",
      "          4       0.00      0.00      0.00         4\n",
      "\n",
      "avg / total       0.44      0.52      0.47        33\n",
      "\n"
     ]
    },
    {
     "name": "stderr",
     "output_type": "stream",
     "text": [
      "C:\\ProgramData\\Anaconda3\\lib\\site-packages\\sklearn\\metrics\\classification.py:1135: UndefinedMetricWarning: Precision and F-score are ill-defined and being set to 0.0 in labels with no predicted samples.\n",
      "  'precision', 'predicted', average, warn_for)\n"
     ]
    }
   ],
   "source": [
    "from sklearn.metrics import classification_report\n",
    "from sklearn.metrics import confusion_matrix\n",
    "pred = knn.predict(X_test)\n",
    "print(confusion_matrix(y_test, pred))\n",
    "print(classification_report(y_test, pred))"
   ]
  },
  {
   "cell_type": "markdown",
   "metadata": {},
   "source": [
    "# Result\n",
    "\n",
    "### Decision Tree gave the highest accuracy"
   ]
  }
 ],
 "metadata": {
  "kernelspec": {
   "display_name": "Python 3",
   "language": "python",
   "name": "python3"
  },
  "language_info": {
   "codemirror_mode": {
    "name": "ipython",
    "version": 3
   },
   "file_extension": ".py",
   "mimetype": "text/x-python",
   "name": "python",
   "nbconvert_exporter": "python",
   "pygments_lexer": "ipython3",
   "version": "3.6.5"
  }
 },
 "nbformat": 4,
 "nbformat_minor": 2
}
