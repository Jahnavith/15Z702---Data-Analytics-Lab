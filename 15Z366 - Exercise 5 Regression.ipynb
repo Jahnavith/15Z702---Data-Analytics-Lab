{
 "cells": [
  {
   "cell_type": "markdown",
   "metadata": {},
   "source": [
    "# Exercise 5\n",
    "## Linear Regression\n"
   ]
  },
  {
   "cell_type": "markdown",
   "metadata": {},
   "source": [
    "Read (x,y) values from user"
   ]
  },
  {
   "cell_type": "code",
   "execution_count": 1,
   "metadata": {},
   "outputs": [
    {
     "name": "stdout",
     "output_type": "stream",
     "text": [
      "Enter the number of values4\n",
      "Enter (X,Y):\n",
      "X = 8\n",
      "Y = 16\n",
      "X = 4\n",
      "Y = 6\n",
      "X = 5\n",
      "Y = 22\n",
      "X = 7\n",
      "Y = 27\n"
     ]
    }
   ],
   "source": [
    "n = int(input(\"Enter the number of values\"))\n",
    "points = []\n",
    "print(\"Enter (X,Y):\")\n",
    "for i in range(n):\n",
    "    points.append([])\n",
    "    points[i].append(float(input(\"X = \")))\n",
    "    points[i].append(float(input(\"Y = \")))"
   ]
  },
  {
   "cell_type": "markdown",
   "metadata": {},
   "source": [
    "Plot the values in a graph (scatter plot)"
   ]
  },
  {
   "cell_type": "code",
   "execution_count": 3,
   "metadata": {},
   "outputs": [
    {
     "data": {
      "text/plain": [
       "[<matplotlib.lines.Line2D at 0x2202c7db2b0>]"
      ]
     },
     "execution_count": 3,
     "metadata": {},
     "output_type": "execute_result"
    },
    {
     "data": {
      "image/png": "[encoded data removed]",
      "text/plain": [
       "<Figure size 432x288 with 1 Axes>"
      ]
     },
     "metadata": {},
     "output_type": "display_data"
    }
   ],
   "source": [
    "import matplotlib.pyplot as plt\n",
    "plt.plot([group[0] for group in points], [group[1] for group in points], 'ro')"
   ]
  },
  {
   "cell_type": "markdown",
   "metadata": {},
   "source": [
    "###Find alpha and beta in y = (beta)x+(aplha)\n",
    "\n",
    "Formula:\n",
    "   * alpha = mean(y) - (beta) * mean(x)\n",
    "   * beta = covariance(x,y) / variance(x)\n",
    "\n",
    "1) Calculate mean of X and Y"
   ]
  },
  {
   "cell_type": "code",
   "execution_count": 4,
   "metadata": {},
   "outputs": [
    {
     "name": "stdout",
     "output_type": "stream",
     "text": [
      "X Mean = 6.0\n",
      "Y Mean = 17.75\n"
     ]
    }
   ],
   "source": [
    "MeanX = sum([group[0] for group in points])/n\n",
    "MeanY = sum([group[1] for group in points])/n\n",
    "print(\"X Mean = \"+str(MeanX))\n",
    "print(\"Y Mean = \"+str(MeanY))"
   ]
  },
  {
   "cell_type": "markdown",
   "metadata": {},
   "source": [
    "2) Calculate sum(x*y)"
   ]
  },
  {
   "cell_type": "code",
   "execution_count": 5,
   "metadata": {},
   "outputs": [
    {
     "name": "stdout",
     "output_type": "stream",
     "text": [
      "XY =  451.0\n"
     ]
    }
   ],
   "source": [
    "xy = 0\n",
    "for i in range(n):\n",
    "    xy = xy + points[i][0]*points[i][1]\n",
    "print('XY = ',xy)"
   ]
  },
  {
   "cell_type": "markdown",
   "metadata": {},
   "source": [
    "3) Compute alpha and beta and write the line formula"
   ]
  },
  {
   "cell_type": "code",
   "execution_count": 6,
   "metadata": {},
   "outputs": [
    {
     "name": "stdout",
     "output_type": "stream",
     "text": [
      "y = 2.5x + 2.75\n"
     ]
    }
   ],
   "source": [
    "beta = (xy - n*MeanX*MeanY)/((sum([group[0]**2 for group in points])) - n*(MeanX**2))\n",
    "alpha = MeanY - beta*MeanX\n",
    "print(\"y = \"+str(round(beta,3))+\"x + \"+str(round(alpha,3)))"
   ]
  },
  {
   "cell_type": "markdown",
   "metadata": {},
   "source": [
    "Plot the line-of-best-fit alongside scatter plot"
   ]
  },
  {
   "cell_type": "code",
   "execution_count": 7,
   "metadata": {},
   "outputs": [
    {
     "data": {
      "text/plain": [
       "[<matplotlib.lines.Line2D at 0x2202c819630>]"
      ]
     },
     "execution_count": 7,
     "metadata": {},
     "output_type": "execute_result"
    },
    {
     "data": {
      "image/png": "[encoded data removed]",
      "text/plain": [
       "<Figure size 432x288 with 1 Axes>"
      ]
     },
     "metadata": {},
     "output_type": "display_data"
    }
   ],
   "source": [
    "import numpy as np\n",
    "x = np.array([group[0] for group in points])\n",
    "y = np.array([group[1] for group in points])\n",
    "plt.plot(x, y, 'ro')\n",
    "plt.plot(x,alpha*x+beta )"
   ]
  }
 ],
 "metadata": {
  "kernelspec": {
   "display_name": "Python 3",
   "language": "python",
   "name": "python3"
  },
  "language_info": {
   "codemirror_mode": {
    "name": "ipython",
    "version": 3
   },
   "file_extension": ".py",
   "mimetype": "text/x-python",
   "name": "python",
   "nbconvert_exporter": "python",
   "pygments_lexer": "ipython3",
   "version": "3.6.5"
  }
 },
 "nbformat": 4,
 "nbformat_minor": 2
}
